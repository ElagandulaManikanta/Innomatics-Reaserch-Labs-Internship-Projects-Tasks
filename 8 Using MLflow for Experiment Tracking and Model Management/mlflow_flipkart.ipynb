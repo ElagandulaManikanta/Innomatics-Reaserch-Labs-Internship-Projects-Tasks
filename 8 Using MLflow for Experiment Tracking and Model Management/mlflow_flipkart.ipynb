{
 "cells": [
  {
   "cell_type": "code",
   "execution_count": 1,
   "metadata": {},
   "outputs": [
    {
     "name": "stderr",
     "output_type": "stream",
     "text": [
      "[nltk_data] Downloading package punkt to\n",
      "[nltk_data]     C:\\Users\\Manikanta\\AppData\\Roaming\\nltk_data...\n",
      "[nltk_data]   Package punkt is already up-to-date!\n",
      "[nltk_data] Downloading package stopwords to\n",
      "[nltk_data]     C:\\Users\\Manikanta\\AppData\\Roaming\\nltk_data...\n",
      "[nltk_data]   Package stopwords is already up-to-date!\n",
      "[nltk_data] Downloading package wordnet to\n",
      "[nltk_data]     C:\\Users\\Manikanta\\AppData\\Roaming\\nltk_data...\n",
      "[nltk_data]   Package wordnet is already up-to-date!\n"
     ]
    },
    {
     "data": {
      "text/plain": [
       "True"
      ]
     },
     "execution_count": 1,
     "metadata": {},
     "output_type": "execute_result"
    }
   ],
   "source": [
    "import pandas as pd\n",
    "import numpy as np\n",
    "import matplotlib.pyplot as plt\n",
    "import seaborn as sns\n",
    "import re\n",
    "\n",
    "#from textblob import TextBlob as tb\n",
    "from autocorrect import Speller as sp\n",
    "import emoji\n",
    "import nltk\n",
    "from nltk.tokenize import word_tokenize as wt,sent_tokenize as st\n",
    "from nltk.corpus import stopwords\n",
    "from nltk import PorterStemmer,LancasterStemmer,SnowballStemmer\n",
    "from nltk import WordNetLemmatizer\n",
    "from sklearn.feature_extraction.text import CountVectorizer,TfidfVectorizer\n",
    "\n",
    "from sklearn.pipeline import Pipeline ,make_pipeline\n",
    "from sklearn.model_selection import train_test_split,GridSearchCV\n",
    "from sklearn.preprocessing import FunctionTransformer,PowerTransformer,StandardScaler\n",
    "from sklearn.neighbors import KNeighborsClassifier\n",
    "from sklearn.naive_bayes import MultinomialNB, BernoulliNB\n",
    "from sklearn.linear_model import LogisticRegression\n",
    "from sklearn.tree import DecisionTreeClassifier\n",
    "from sklearn.svm import SVC\n",
    "from sklearn.ensemble import GradientBoostingClassifier, RandomForestClassifier\n",
    "from sklearn.metrics import accuracy_score,classification_report,r2_score\n",
    "nltk.download('punkt')\n",
    "nltk.download('stopwords')\n",
    "nltk.download('wordnet')"
   ]
  },
  {
   "cell_type": "code",
   "execution_count": null,
   "metadata": {
    "id": "6KtTly41Qcqc"
   },
   "outputs": [],
   "source": []
  },
  {
   "cell_type": "markdown",
   "metadata": {
    "id": "XNbwIXLgRQN3"
   },
   "source": [
    "### 1.Problem Statement\n",
    "Create a model for predicting sentiment analysis on flipkart whether the review is positive or not?\n",
    "\n",
    "### 2. Data Collection"
   ]
  },
  {
   "cell_type": "code",
   "execution_count": 2,
   "metadata": {
    "colab": {
     "base_uri": "https://localhost:8080/",
     "height": 206
    },
    "id": "npV2YSmrRvO7",
    "outputId": "d7746c64-0503-4dd5-bb11-498ea1d70ae5"
   },
   "outputs": [
    {
     "data": {
      "text/html": [
       "<div>\n",
       "<style scoped>\n",
       "    .dataframe tbody tr th:only-of-type {\n",
       "        vertical-align: middle;\n",
       "    }\n",
       "\n",
       "    .dataframe tbody tr th {\n",
       "        vertical-align: top;\n",
       "    }\n",
       "\n",
       "    .dataframe thead th {\n",
       "        text-align: right;\n",
       "    }\n",
       "</style>\n",
       "<table border=\"1\" class=\"dataframe\">\n",
       "  <thead>\n",
       "    <tr style=\"text-align: right;\">\n",
       "      <th></th>\n",
       "      <th>Reviewer Name</th>\n",
       "      <th>Review Title</th>\n",
       "      <th>Place of Review</th>\n",
       "      <th>Up Votes</th>\n",
       "      <th>Down Votes</th>\n",
       "      <th>Month</th>\n",
       "      <th>Review text</th>\n",
       "      <th>Ratings</th>\n",
       "    </tr>\n",
       "  </thead>\n",
       "  <tbody>\n",
       "    <tr>\n",
       "      <th>0</th>\n",
       "      <td>Kamal Suresh</td>\n",
       "      <td>Nice product</td>\n",
       "      <td>Certified Buyer, Chirakkal</td>\n",
       "      <td>889.0</td>\n",
       "      <td>64.0</td>\n",
       "      <td>Feb 2021</td>\n",
       "      <td>Nice product, good quality, but price is now r...</td>\n",
       "      <td>4</td>\n",
       "    </tr>\n",
       "    <tr>\n",
       "      <th>1</th>\n",
       "      <td>Flipkart Customer</td>\n",
       "      <td>Don't waste your money</td>\n",
       "      <td>Certified Buyer, Hyderabad</td>\n",
       "      <td>109.0</td>\n",
       "      <td>6.0</td>\n",
       "      <td>Feb 2021</td>\n",
       "      <td>They didn't supplied Yonex Mavis 350. Outside ...</td>\n",
       "      <td>1</td>\n",
       "    </tr>\n",
       "    <tr>\n",
       "      <th>2</th>\n",
       "      <td>A. S. Raja Srinivasan</td>\n",
       "      <td>Did not meet expectations</td>\n",
       "      <td>Certified Buyer, Dharmapuri</td>\n",
       "      <td>42.0</td>\n",
       "      <td>3.0</td>\n",
       "      <td>Apr 2021</td>\n",
       "      <td>Worst product. Damaged shuttlecocks packed in ...</td>\n",
       "      <td>1</td>\n",
       "    </tr>\n",
       "    <tr>\n",
       "      <th>3</th>\n",
       "      <td>Suresh Narayanasamy</td>\n",
       "      <td>Fair</td>\n",
       "      <td>Certified Buyer, Chennai</td>\n",
       "      <td>25.0</td>\n",
       "      <td>1.0</td>\n",
       "      <td>NaN</td>\n",
       "      <td>Quite O. K. , but nowadays  the quality of the...</td>\n",
       "      <td>3</td>\n",
       "    </tr>\n",
       "    <tr>\n",
       "      <th>4</th>\n",
       "      <td>ASHIK P A</td>\n",
       "      <td>Over priced</td>\n",
       "      <td>NaN</td>\n",
       "      <td>147.0</td>\n",
       "      <td>24.0</td>\n",
       "      <td>Apr 2016</td>\n",
       "      <td>Over pricedJust â?¹620 ..from retailer.I didn'...</td>\n",
       "      <td>1</td>\n",
       "    </tr>\n",
       "  </tbody>\n",
       "</table>\n",
       "</div>"
      ],
      "text/plain": [
       "            Reviewer Name               Review Title  \\\n",
       "0            Kamal Suresh               Nice product   \n",
       "1       Flipkart Customer     Don't waste your money   \n",
       "2  A. S. Raja Srinivasan   Did not meet expectations   \n",
       "3     Suresh Narayanasamy                       Fair   \n",
       "4               ASHIK P A                Over priced   \n",
       "\n",
       "               Place of Review  Up Votes  Down Votes     Month  \\\n",
       "0   Certified Buyer, Chirakkal     889.0        64.0  Feb 2021   \n",
       "1   Certified Buyer, Hyderabad     109.0         6.0  Feb 2021   \n",
       "2  Certified Buyer, Dharmapuri      42.0         3.0  Apr 2021   \n",
       "3     Certified Buyer, Chennai      25.0         1.0       NaN   \n",
       "4                          NaN     147.0        24.0  Apr 2016   \n",
       "\n",
       "                                         Review text  Ratings  \n",
       "0  Nice product, good quality, but price is now r...        4  \n",
       "1  They didn't supplied Yonex Mavis 350. Outside ...        1  \n",
       "2  Worst product. Damaged shuttlecocks packed in ...        1  \n",
       "3  Quite O. K. , but nowadays  the quality of the...        3  \n",
       "4  Over pricedJust â?¹620 ..from retailer.I didn'...        1  "
      ]
     },
     "execution_count": 2,
     "metadata": {},
     "output_type": "execute_result"
    }
   ],
   "source": [
    "data = pd.read_csv(r\"C:\\Users\\Manikanta\\Data Science Innomatics\\Internship Projects - Tasks\\Sentiment Analysis mlflow\\reviews_data_dump\\reviews_badminton\\data.csv\")\n",
    "\n",
    "df = data.copy()\n",
    "\n",
    "df.head()"
   ]
  },
  {
   "cell_type": "markdown",
   "metadata": {
    "id": "UwaHXPpcR8ud"
   },
   "source": [
    "### 3.EDA before Text pre-processing"
   ]
  },
  {
   "cell_type": "code",
   "execution_count": 3,
   "metadata": {
    "colab": {
     "base_uri": "https://localhost:8080/"
    },
    "id": "5_6hTA28R6wM",
    "outputId": "07f2aea7-77c9-4985-9862-af9acf94435e"
   },
   "outputs": [
    {
     "data": {
      "text/plain": [
       "(8518, 8)"
      ]
     },
     "execution_count": 3,
     "metadata": {},
     "output_type": "execute_result"
    }
   ],
   "source": [
    "df.shape   # data contains 8518 rows and 8 columns"
   ]
  },
  {
   "cell_type": "code",
   "execution_count": 4,
   "metadata": {
    "colab": {
     "base_uri": "https://localhost:8080/"
    },
    "id": "5jtlngdoSJS9",
    "outputId": "85b7bcc5-3d66-4a27-9da6-9070dd5a17c2"
   },
   "outputs": [
    {
     "name": "stdout",
     "output_type": "stream",
     "text": [
      "<class 'pandas.core.frame.DataFrame'>\n",
      "RangeIndex: 8518 entries, 0 to 8517\n",
      "Data columns (total 8 columns):\n",
      " #   Column           Non-Null Count  Dtype  \n",
      "---  ------           --------------  -----  \n",
      " 0   Reviewer Name    8508 non-null   object \n",
      " 1   Review Title     8508 non-null   object \n",
      " 2   Place of Review  8468 non-null   object \n",
      " 3   Up Votes         8508 non-null   float64\n",
      " 4   Down Votes       8508 non-null   float64\n",
      " 5   Month            8053 non-null   object \n",
      " 6   Review text      8510 non-null   object \n",
      " 7   Ratings          8518 non-null   int64  \n",
      "dtypes: float64(2), int64(1), object(5)\n",
      "memory usage: 532.5+ KB\n"
     ]
    }
   ],
   "source": [
    "df.info()"
   ]
  },
  {
   "cell_type": "code",
   "execution_count": 5,
   "metadata": {
    "colab": {
     "base_uri": "https://localhost:8080/"
    },
    "id": "rCP44rMXTS3Z",
    "outputId": "ec4b6419-bd29-48c0-e944-888550f99603"
   },
   "outputs": [
    {
     "data": {
      "text/plain": [
       "Index(['Reviewer Name', 'Review Title', 'Place of Review', 'Up Votes',\n",
       "       'Down Votes', 'Month', 'Review text', 'Ratings'],\n",
       "      dtype='object')"
      ]
     },
     "execution_count": 5,
     "metadata": {},
     "output_type": "execute_result"
    }
   ],
   "source": [
    "df.columns"
   ]
  },
  {
   "cell_type": "code",
   "execution_count": 6,
   "metadata": {
    "id": "mXuQoVinSPYH"
   },
   "outputs": [],
   "source": [
    "## data contains both numerical and categorical data types"
   ]
  },
  {
   "cell_type": "code",
   "execution_count": 7,
   "metadata": {
    "id": "NqPd6dY8TFMR"
   },
   "outputs": [],
   "source": [
    "# Based on my problem statement i don't need theese columns so simply drop those columns\n",
    "\n",
    "df.drop(columns = ['Reviewer Name', 'Review Title', 'Place of Review', 'Up Votes','Down Votes', 'Month'],inplace = True)"
   ]
  },
  {
   "cell_type": "code",
   "execution_count": 8,
   "metadata": {
    "colab": {
     "base_uri": "https://localhost:8080/",
     "height": 206
    },
    "id": "YCpQFSXUTigc",
    "outputId": "3a7bce0b-6205-4bb4-f4f4-f8df76d0199f"
   },
   "outputs": [
    {
     "data": {
      "text/html": [
       "<div>\n",
       "<style scoped>\n",
       "    .dataframe tbody tr th:only-of-type {\n",
       "        vertical-align: middle;\n",
       "    }\n",
       "\n",
       "    .dataframe tbody tr th {\n",
       "        vertical-align: top;\n",
       "    }\n",
       "\n",
       "    .dataframe thead th {\n",
       "        text-align: right;\n",
       "    }\n",
       "</style>\n",
       "<table border=\"1\" class=\"dataframe\">\n",
       "  <thead>\n",
       "    <tr style=\"text-align: right;\">\n",
       "      <th></th>\n",
       "      <th>Review text</th>\n",
       "      <th>Ratings</th>\n",
       "    </tr>\n",
       "  </thead>\n",
       "  <tbody>\n",
       "    <tr>\n",
       "      <th>0</th>\n",
       "      <td>Nice product, good quality, but price is now r...</td>\n",
       "      <td>4</td>\n",
       "    </tr>\n",
       "    <tr>\n",
       "      <th>1</th>\n",
       "      <td>They didn't supplied Yonex Mavis 350. Outside ...</td>\n",
       "      <td>1</td>\n",
       "    </tr>\n",
       "    <tr>\n",
       "      <th>2</th>\n",
       "      <td>Worst product. Damaged shuttlecocks packed in ...</td>\n",
       "      <td>1</td>\n",
       "    </tr>\n",
       "    <tr>\n",
       "      <th>3</th>\n",
       "      <td>Quite O. K. , but nowadays  the quality of the...</td>\n",
       "      <td>3</td>\n",
       "    </tr>\n",
       "    <tr>\n",
       "      <th>4</th>\n",
       "      <td>Over pricedJust â?¹620 ..from retailer.I didn'...</td>\n",
       "      <td>1</td>\n",
       "    </tr>\n",
       "  </tbody>\n",
       "</table>\n",
       "</div>"
      ],
      "text/plain": [
       "                                         Review text  Ratings\n",
       "0  Nice product, good quality, but price is now r...        4\n",
       "1  They didn't supplied Yonex Mavis 350. Outside ...        1\n",
       "2  Worst product. Damaged shuttlecocks packed in ...        1\n",
       "3  Quite O. K. , but nowadays  the quality of the...        3\n",
       "4  Over pricedJust â?¹620 ..from retailer.I didn'...        1"
      ]
     },
     "execution_count": 8,
     "metadata": {},
     "output_type": "execute_result"
    }
   ],
   "source": [
    "df.head()"
   ]
  },
  {
   "cell_type": "code",
   "execution_count": 9,
   "metadata": {
    "colab": {
     "base_uri": "https://localhost:8080/"
    },
    "id": "UdgItBObS8Bs",
    "outputId": "df02a12c-37cb-4d6a-bbc6-757dc5276594"
   },
   "outputs": [
    {
     "data": {
      "text/plain": [
       "Review text    8\n",
       "Ratings        0\n",
       "dtype: int64"
      ]
     },
     "execution_count": 9,
     "metadata": {},
     "output_type": "execute_result"
    }
   ],
   "source": [
    "df.isnull().sum()"
   ]
  },
  {
   "cell_type": "code",
   "execution_count": 10,
   "metadata": {
    "id": "J9dtZk6bUjEl"
   },
   "outputs": [],
   "source": [
    "df.dropna(inplace = True)"
   ]
  },
  {
   "cell_type": "code",
   "execution_count": 11,
   "metadata": {
    "colab": {
     "base_uri": "https://localhost:8080/"
    },
    "id": "z7t1ushnU3v9",
    "outputId": "ea1ccf46-6b88-4a3f-83fb-a7951a341934"
   },
   "outputs": [
    {
     "data": {
      "text/plain": [
       "Review text    0\n",
       "Ratings        0\n",
       "dtype: int64"
      ]
     },
     "execution_count": 11,
     "metadata": {},
     "output_type": "execute_result"
    }
   ],
   "source": [
    "df.isnull().sum()"
   ]
  },
  {
   "cell_type": "code",
   "execution_count": 12,
   "metadata": {
    "colab": {
     "base_uri": "https://localhost:8080/"
    },
    "id": "ps3CRxpXU5o0",
    "outputId": "b7681636-aeb7-4db4-9229-7bfbe32d27b3"
   },
   "outputs": [
    {
     "data": {
      "text/plain": [
       "3269"
      ]
     },
     "execution_count": 12,
     "metadata": {},
     "output_type": "execute_result"
    }
   ],
   "source": [
    "df.duplicated().sum()"
   ]
  },
  {
   "cell_type": "code",
   "execution_count": 13,
   "metadata": {
    "id": "eMfVyRIOVCVS"
   },
   "outputs": [],
   "source": [
    "df.drop_duplicates(inplace = True)"
   ]
  },
  {
   "cell_type": "code",
   "execution_count": 14,
   "metadata": {
    "colab": {
     "base_uri": "https://localhost:8080/"
    },
    "id": "TvL0KrUiUILE",
    "outputId": "a4fcaa5f-47e1-48c7-d510-fae305279e3f"
   },
   "outputs": [
    {
     "data": {
      "text/plain": [
       "5    2882\n",
       "4     967\n",
       "1     670\n",
       "3     443\n",
       "2     279\n",
       "Name: Ratings, dtype: int64"
      ]
     },
     "execution_count": 14,
     "metadata": {},
     "output_type": "execute_result"
    }
   ],
   "source": [
    "df.Ratings.value_counts()"
   ]
  },
  {
   "cell_type": "code",
   "execution_count": 15,
   "metadata": {
    "colab": {
     "base_uri": "https://localhost:8080/",
     "height": 206
    },
    "id": "vK5OOvcrTCm7",
    "outputId": "069a3566-7536-41e1-8dda-7f6c62c56ff4"
   },
   "outputs": [
    {
     "data": {
      "text/html": [
       "<div>\n",
       "<style scoped>\n",
       "    .dataframe tbody tr th:only-of-type {\n",
       "        vertical-align: middle;\n",
       "    }\n",
       "\n",
       "    .dataframe tbody tr th {\n",
       "        vertical-align: top;\n",
       "    }\n",
       "\n",
       "    .dataframe thead th {\n",
       "        text-align: right;\n",
       "    }\n",
       "</style>\n",
       "<table border=\"1\" class=\"dataframe\">\n",
       "  <thead>\n",
       "    <tr style=\"text-align: right;\">\n",
       "      <th></th>\n",
       "      <th>Review text</th>\n",
       "      <th>Ratings</th>\n",
       "    </tr>\n",
       "  </thead>\n",
       "  <tbody>\n",
       "    <tr>\n",
       "      <th>0</th>\n",
       "      <td>Nice product, good quality, but price is now r...</td>\n",
       "      <td>Positive</td>\n",
       "    </tr>\n",
       "    <tr>\n",
       "      <th>1</th>\n",
       "      <td>They didn't supplied Yonex Mavis 350. Outside ...</td>\n",
       "      <td>Negative</td>\n",
       "    </tr>\n",
       "    <tr>\n",
       "      <th>2</th>\n",
       "      <td>Worst product. Damaged shuttlecocks packed in ...</td>\n",
       "      <td>Negative</td>\n",
       "    </tr>\n",
       "    <tr>\n",
       "      <th>3</th>\n",
       "      <td>Quite O. K. , but nowadays  the quality of the...</td>\n",
       "      <td>Negative</td>\n",
       "    </tr>\n",
       "    <tr>\n",
       "      <th>4</th>\n",
       "      <td>Over pricedJust â?¹620 ..from retailer.I didn'...</td>\n",
       "      <td>Negative</td>\n",
       "    </tr>\n",
       "  </tbody>\n",
       "</table>\n",
       "</div>"
      ],
      "text/plain": [
       "                                         Review text   Ratings\n",
       "0  Nice product, good quality, but price is now r...  Positive\n",
       "1  They didn't supplied Yonex Mavis 350. Outside ...  Negative\n",
       "2  Worst product. Damaged shuttlecocks packed in ...  Negative\n",
       "3  Quite O. K. , but nowadays  the quality of the...  Negative\n",
       "4  Over pricedJust â?¹620 ..from retailer.I didn'...  Negative"
      ]
     },
     "execution_count": 15,
     "metadata": {},
     "output_type": "execute_result"
    }
   ],
   "source": [
    "df.Ratings = df.Ratings.apply(lambda x : \"Positive\" if x>=4 else \"Negative\")\n",
    "\n",
    "df.head()"
   ]
  },
  {
   "cell_type": "code",
   "execution_count": 16,
   "metadata": {
    "colab": {
     "base_uri": "https://localhost:8080/"
    },
    "id": "J3ba7CWHT475",
    "outputId": "2e7da995-05c8-4b4c-a6ab-4e30e8bfa3d2"
   },
   "outputs": [
    {
     "data": {
      "text/plain": [
       "Positive    3849\n",
       "Negative    1392\n",
       "Name: Ratings, dtype: int64"
      ]
     },
     "execution_count": 16,
     "metadata": {},
     "output_type": "execute_result"
    }
   ],
   "source": [
    "df.Ratings.value_counts()"
   ]
  },
  {
   "cell_type": "code",
   "execution_count": 17,
   "metadata": {
    "id": "EO7hQmAxVYg4"
   },
   "outputs": [],
   "source": [
    "fv = df.iloc[:,0:1]\n",
    "\n",
    "cv = df.iloc[:,-1]"
   ]
  },
  {
   "cell_type": "code",
   "execution_count": 18,
   "metadata": {
    "id": "wRt7zFCzgDSd"
   },
   "outputs": [],
   "source": [
    "fv.columns = [\"Reviews\"]"
   ]
  },
  {
   "cell_type": "code",
   "execution_count": 19,
   "metadata": {
    "colab": {
     "base_uri": "https://localhost:8080/",
     "height": 206
    },
    "id": "CP4TXusVVp3t",
    "outputId": "0b213075-5e64-4861-c3b4-b4b6c935e127"
   },
   "outputs": [
    {
     "data": {
      "text/html": [
       "<div>\n",
       "<style scoped>\n",
       "    .dataframe tbody tr th:only-of-type {\n",
       "        vertical-align: middle;\n",
       "    }\n",
       "\n",
       "    .dataframe tbody tr th {\n",
       "        vertical-align: top;\n",
       "    }\n",
       "\n",
       "    .dataframe thead th {\n",
       "        text-align: right;\n",
       "    }\n",
       "</style>\n",
       "<table border=\"1\" class=\"dataframe\">\n",
       "  <thead>\n",
       "    <tr style=\"text-align: right;\">\n",
       "      <th></th>\n",
       "      <th>Reviews</th>\n",
       "    </tr>\n",
       "  </thead>\n",
       "  <tbody>\n",
       "    <tr>\n",
       "      <th>0</th>\n",
       "      <td>Nice product, good quality, but price is now r...</td>\n",
       "    </tr>\n",
       "    <tr>\n",
       "      <th>1</th>\n",
       "      <td>They didn't supplied Yonex Mavis 350. Outside ...</td>\n",
       "    </tr>\n",
       "    <tr>\n",
       "      <th>2</th>\n",
       "      <td>Worst product. Damaged shuttlecocks packed in ...</td>\n",
       "    </tr>\n",
       "    <tr>\n",
       "      <th>3</th>\n",
       "      <td>Quite O. K. , but nowadays  the quality of the...</td>\n",
       "    </tr>\n",
       "    <tr>\n",
       "      <th>4</th>\n",
       "      <td>Over pricedJust â?¹620 ..from retailer.I didn'...</td>\n",
       "    </tr>\n",
       "  </tbody>\n",
       "</table>\n",
       "</div>"
      ],
      "text/plain": [
       "                                             Reviews\n",
       "0  Nice product, good quality, but price is now r...\n",
       "1  They didn't supplied Yonex Mavis 350. Outside ...\n",
       "2  Worst product. Damaged shuttlecocks packed in ...\n",
       "3  Quite O. K. , but nowadays  the quality of the...\n",
       "4  Over pricedJust â?¹620 ..from retailer.I didn'..."
      ]
     },
     "execution_count": 19,
     "metadata": {},
     "output_type": "execute_result"
    }
   ],
   "source": [
    "fv.head()"
   ]
  },
  {
   "cell_type": "code",
   "execution_count": 20,
   "metadata": {
    "colab": {
     "base_uri": "https://localhost:8080/"
    },
    "id": "26yrSum4VrSr",
    "outputId": "0674f6d8-e602-4de5-acaa-710330be56d8"
   },
   "outputs": [
    {
     "data": {
      "text/plain": [
       "0    1\n",
       "1    0\n",
       "2    0\n",
       "3    0\n",
       "4    0\n",
       "Name: Ratings, dtype: int64"
      ]
     },
     "execution_count": 20,
     "metadata": {},
     "output_type": "execute_result"
    }
   ],
   "source": [
    "cv = cv.map({\"Positive\":1,\"Negative\":0})\n",
    "\n",
    "cv.head()"
   ]
  },
  {
   "cell_type": "code",
   "execution_count": 21,
   "metadata": {
    "colab": {
     "base_uri": "https://localhost:8080/",
     "height": 451
    },
    "id": "t75UnBYYWucY",
    "outputId": "5c7a9e9c-05b8-4c3f-f51e-59abc7a75e7e"
   },
   "outputs": [
    {
     "data": {
      "image/png": "[encoded data removed]",
      "text/plain": [
       "<Figure size 640x480 with 1 Axes>"
      ]
     },
     "metadata": {},
     "output_type": "display_data"
    }
   ],
   "source": [
    "sns.barplot(x = cv.value_counts().index , y = cv.value_counts().values)\n",
    "plt.xlabel(\"Ratings\")\n",
    "plt.ylabel(\"Frequency\")\n",
    "plt.show()"
   ]
  },
  {
   "cell_type": "code",
   "execution_count": 22,
   "metadata": {
    "id": "_S1Hvhr1g7nN"
   },
   "outputs": [],
   "source": [
    "x_train,x_test,y_train,y_test = train_test_split(fv,cv,stratify=cv,random_state=1,test_size=0.2)"
   ]
  },
  {
   "cell_type": "code",
   "execution_count": 23,
   "metadata": {
    "colab": {
     "base_uri": "https://localhost:8080/"
    },
    "id": "3D58ncBshPx_",
    "outputId": "22f9688c-7c03-46c1-a590-af016b49f1f5"
   },
   "outputs": [
    {
     "name": "stdout",
     "output_type": "stream",
     "text": [
      "size of Xtrain is:  (4192, 1)\n",
      "size of x_test is : (1049, 1)\n"
     ]
    }
   ],
   "source": [
    "print(\"size of Xtrain is: \", x_train.shape)\n",
    "\n",
    "print(\"size of x_test is :\", x_test.shape)"
   ]
  },
  {
   "cell_type": "code",
   "execution_count": null,
   "metadata": {
    "id": "4Nu-PCrHhP1L"
   },
   "outputs": [],
   "source": []
  },
  {
   "cell_type": "code",
   "execution_count": null,
   "metadata": {
    "id": "gr00pw-uhP4T"
   },
   "outputs": [],
   "source": []
  },
  {
   "cell_type": "code",
   "execution_count": 24,
   "metadata": {
    "colab": {
     "base_uri": "https://localhost:8080/"
    },
    "id": "a1xoO9qJZvzr",
    "outputId": "5c118d65-2681-485c-cfd0-ba87f3861c6c"
   },
   "outputs": [
    {
     "name": "stdout",
     "output_type": "stream",
     "text": [
      "text have emojies\n",
      "text have special characters\n",
      "text does't have urls\n",
      "text does't have html tags\n",
      "text not in lower case\n"
     ]
    }
   ],
   "source": [
    "def checkText(data,col_name):\n",
    "    case    = \" \".join(data[col_name]).islower()\n",
    "    html    = data[col_name].apply(lambda x:True if re.search(\"<.+?>\",x) else False).sum()\n",
    "    url     = data[col_name].apply(lambda x:True if re.search(\"https[s]?://.+? +\",x) else False).sum()\n",
    "    special = data[col_name].apply(lambda x:True if re.search(\"[]()*\\-.:,@#$%&^!?/0-9']\",x) else False).sum()\n",
    "    count = 0\n",
    "\n",
    "    for sen in data[col_name]:\n",
    "        for char in sen.split():\n",
    "            if emoji.is_emoji(char):\n",
    "                count += 1\n",
    "    if count>0:\n",
    "        print(\"text have emojies\")\n",
    "    else:\n",
    "        print(\"text does't have emojies\")\n",
    "\n",
    "    if special > 0:\n",
    "        print(\"text have special characters\")\n",
    "    else:\n",
    "        print(\"text does't have special characters\")\n",
    "\n",
    "    if url > 0:\n",
    "        print(\"text have urls\")\n",
    "    else:\n",
    "        print(\"text does't have urls\")\n",
    "\n",
    "    if html > 0:\n",
    "        print(\"text have html tags\")\n",
    "    else:\n",
    "        print(\"text does't have html tags\")\n",
    "\n",
    "    if case == False:\n",
    "        print(\"text not in lower case\")\n",
    "    else:\n",
    "        print(\"text in lower case\")\n",
    "\n",
    "checkText(x_train,\"Reviews\")"
   ]
  },
  {
   "cell_type": "markdown",
   "metadata": {
    "id": "VhiuNY8z0mWr"
   },
   "source": [
    "### 4.Text pre-processing"
   ]
  },
  {
   "cell_type": "code",
   "execution_count": 25,
   "metadata": {
    "id": "i4d2vEO0g0iE"
   },
   "outputs": [],
   "source": [
    "def lowers(x):\n",
    "    return x.str.lower()\n",
    "\n",
    "def html(x):\n",
    "    return x.apply(lambda x:re.sub(\"<.+?>\",\" \",x))\n",
    "\n",
    "def url(x):\n",
    "    return x.apply(lambda x:re.sub(\"https[s]?://.+? +\",\" \",x))\n",
    "\n",
    "def unw(x):\n",
    "    return x.apply(lambda x:re.sub(\"[]()*\\-.:,@#$%&^!?/0-9']\",\" \",x))\n",
    "\n",
    "def unw_1(x):\n",
    "    return x.apply(lambda x:re.sub(r'[^\\w\\s]','',x))\n",
    "\n",
    "def emoji_remove(x):\n",
    "    x = x.apply(lambda x : emoji.demojize(x))\n",
    "    return x\n",
    "\n",
    "\n",
    "def lemma(x):\n",
    "  list_stp = stopwords.words(\"english\")  # list_stp contains group of stop words.\n",
    "  wl=WordNetLemmatizer()\n",
    "\n",
    "  def lemmatize_text(text):\n",
    "        words = wt(text)\n",
    "        lemmatized_words = [wl.lemmatize(word, pos=\"v\") for word in words if word not in list_stp]\n",
    "        return \" \".join(lemmatized_words)\n",
    "\n",
    "  return x.apply(lemmatize_text)\n",
    "\n",
    "# create a pipeline for pre-processing the data\n",
    "pre_pro_pi = Pipeline([(\"emojii remover\",FunctionTransformer(emoji_remove)),\n",
    "                       (\"lower\",FunctionTransformer(lowers)),\n",
    "                       (\"html\",FunctionTransformer(html)),\n",
    "                       (\"url\",FunctionTransformer(url)),\n",
    "                       (\"unw\",FunctionTransformer(unw)),\n",
    "                       (\"unw2\",FunctionTransformer(unw_1)),\n",
    "                       (\"advance\",FunctionTransformer(lemma))])"
   ]
  },
  {
   "cell_type": "code",
   "execution_count": 26,
   "metadata": {
    "colab": {
     "base_uri": "https://localhost:8080/"
    },
    "id": "rziDU6KYihuH",
    "outputId": "2dfdc90d-24c8-4e76-f6b3-53a878912dd4"
   },
   "outputs": [
    {
     "name": "stdout",
     "output_type": "stream",
     "text": [
      "text does't have emojies\n",
      "text does't have special characters\n",
      "text does't have urls\n",
      "text does't have html tags\n",
      "text not in lower case\n"
     ]
    }
   ],
   "source": [
    "clean_data = pre_pro_pi.fit_transform(x_train['Reviews'])\n",
    "\n",
    "clean_data = pd.DataFrame(clean_data)\n",
    "\n",
    "checkText(clean_data,\"Reviews\")"
   ]
  },
  {
   "cell_type": "markdown",
   "metadata": {
    "id": "LTiNqsKa0rWD"
   },
   "source": [
    "### 5. EDA after Pre-processing"
   ]
  },
  {
   "cell_type": "code",
   "execution_count": 27,
   "metadata": {
    "colab": {
     "base_uri": "https://localhost:8080/",
     "height": 423
    },
    "id": "R8j9egNlizok",
    "outputId": "fbd222e8-4f6d-4e81-d8b0-48a2a1456724"
   },
   "outputs": [
    {
     "data": {
      "text/html": [
       "<div>\n",
       "<style scoped>\n",
       "    .dataframe tbody tr th:only-of-type {\n",
       "        vertical-align: middle;\n",
       "    }\n",
       "\n",
       "    .dataframe tbody tr th {\n",
       "        vertical-align: top;\n",
       "    }\n",
       "\n",
       "    .dataframe thead th {\n",
       "        text-align: right;\n",
       "    }\n",
       "</style>\n",
       "<table border=\"1\" class=\"dataframe\">\n",
       "  <thead>\n",
       "    <tr style=\"text-align: right;\">\n",
       "      <th></th>\n",
       "      <th>Reviews</th>\n",
       "      <th>Ratings</th>\n",
       "    </tr>\n",
       "  </thead>\n",
       "  <tbody>\n",
       "    <tr>\n",
       "      <th>7998</th>\n",
       "      <td>nice quality come timeread</td>\n",
       "      <td>1</td>\n",
       "    </tr>\n",
       "    <tr>\n",
       "      <th>4765</th>\n",
       "      <td>time quality good please care brotherread</td>\n",
       "      <td>0</td>\n",
       "    </tr>\n",
       "    <tr>\n",
       "      <th>3350</th>\n",
       "      <td>buy flipkart totally buy priceread</td>\n",
       "      <td>1</td>\n",
       "    </tr>\n",
       "    <tr>\n",
       "      <th>409</th>\n",
       "      <td>valuable product thumbs_up read</td>\n",
       "      <td>1</td>\n",
       "    </tr>\n",
       "    <tr>\n",
       "      <th>8049</th>\n",
       "      <td>great stuff read</td>\n",
       "      <td>0</td>\n",
       "    </tr>\n",
       "    <tr>\n",
       "      <th>...</th>\n",
       "      <td>...</td>\n",
       "      <td>...</td>\n",
       "    </tr>\n",
       "    <tr>\n",
       "      <th>5998</th>\n",
       "      <td>yonex always provide good quality read</td>\n",
       "      <td>1</td>\n",
       "    </tr>\n",
       "    <tr>\n",
       "      <th>3061</th>\n",
       "      <td>superb product receive expect time read</td>\n",
       "      <td>1</td>\n",
       "    </tr>\n",
       "    <tr>\n",
       "      <th>171</th>\n",
       "      <td>bad quality good dont like prefer beacuse deli...</td>\n",
       "      <td>0</td>\n",
       "    </tr>\n",
       "    <tr>\n",
       "      <th>139</th>\n",
       "      <td>local productread</td>\n",
       "      <td>0</td>\n",
       "    </tr>\n",
       "    <tr>\n",
       "      <th>32</th>\n",
       "      <td>use find shuttle quality upto level box qualit...</td>\n",
       "      <td>0</td>\n",
       "    </tr>\n",
       "  </tbody>\n",
       "</table>\n",
       "<p>4192 rows × 2 columns</p>\n",
       "</div>"
      ],
      "text/plain": [
       "                                                Reviews  Ratings\n",
       "7998                         nice quality come timeread        1\n",
       "4765          time quality good please care brotherread        0\n",
       "3350                 buy flipkart totally buy priceread        1\n",
       "409                     valuable product thumbs_up read        1\n",
       "8049                                   great stuff read        0\n",
       "...                                                 ...      ...\n",
       "5998             yonex always provide good quality read        1\n",
       "3061            superb product receive expect time read        1\n",
       "171   bad quality good dont like prefer beacuse deli...        0\n",
       "139                                   local productread        0\n",
       "32    use find shuttle quality upto level box qualit...        0\n",
       "\n",
       "[4192 rows x 2 columns]"
      ]
     },
     "execution_count": 27,
     "metadata": {},
     "output_type": "execute_result"
    }
   ],
   "source": [
    "data_eda = pd.concat([clean_data,y_train],axis=1)\n",
    "\n",
    "data_eda"
   ]
  },
  {
   "cell_type": "code",
   "execution_count": 28,
   "metadata": {
    "id": "65M1BmKOy8f0"
   },
   "outputs": [],
   "source": [
    "gp = data_eda.groupby(\"Ratings\")\n",
    "neg_rows = gp.get_group(0)[\"Reviews\"]\n",
    "posi_rows = gp.get_group(1)[\"Reviews\"]"
   ]
  },
  {
   "cell_type": "code",
   "execution_count": 29,
   "metadata": {
    "id": "hwvtBWJkzL9w"
   },
   "outputs": [],
   "source": [
    "# Combine entire rows text into one text\n",
    "pos = \" \".join(posi_rows).split()\n",
    "nega = \" \".join(neg_rows).split()"
   ]
  },
  {
   "cell_type": "code",
   "execution_count": 30,
   "metadata": {
    "colab": {
     "base_uri": "https://localhost:8080/"
    },
    "id": "y8uLOsofzXhx",
    "outputId": "6ddd4e59-78ef-4b08-d3f4-0d7377327529"
   },
   "outputs": [
    {
     "name": "stdout",
     "output_type": "stream",
     "text": [
      "positive class contains 14974 number of words\n",
      "negative class contains 6981 number of words\n"
     ]
    }
   ],
   "source": [
    "print(\"positive class contains\",len(pos),\"number of words\")\n",
    "print(\"negative class contains\",len(nega),\"number of words\")"
   ]
  },
  {
   "cell_type": "code",
   "execution_count": 31,
   "metadata": {
    "colab": {
     "base_uri": "https://localhost:8080/"
    },
    "id": "2Zp0cey-zb_5",
    "outputId": "38a28e71-372a-4341-d18c-6ae47838c4d1"
   },
   "outputs": [],
   "source": [
    "#pip install wordcloud"
   ]
  },
  {
   "cell_type": "code",
   "execution_count": 32,
   "metadata": {
    "colab": {
     "base_uri": "https://localhost:8080/"
    },
    "id": "-JulVv7Gzl-g",
    "outputId": "27daadad-2f19-4de0-dccb-64ccd4c55216"
   },
   "outputs": [
    {
     "data": {
      "text/plain": [
       "[('read', 1079),\n",
       " ('good', 1057),\n",
       " ('product', 723),\n",
       " ('shuttle', 471),\n",
       " ('nice', 404),\n",
       " ('quality', 366),\n",
       " ('best', 306),\n",
       " ('productread', 215),\n",
       " ('original', 205),\n",
       " ('delivery', 200)]"
      ]
     },
     "execution_count": 32,
     "metadata": {},
     "output_type": "execute_result"
    }
   ],
   "source": [
    "from collections import Counter\n",
    "Counter(pos).most_common(10)"
   ]
  },
  {
   "cell_type": "code",
   "execution_count": 33,
   "metadata": {
    "colab": {
     "base_uri": "https://localhost:8080/"
    },
    "id": "BDTGPGOozrEV",
    "outputId": "bdabf603-2aba-4c02-acbe-b6b9241568eb"
   },
   "outputs": [
    {
     "data": {
      "text/plain": [
       "[('read', 393),\n",
       " ('shuttle', 351),\n",
       " ('quality', 290),\n",
       " ('product', 242),\n",
       " ('good', 195),\n",
       " ('bad', 160),\n",
       " ('thumbs_down', 134),\n",
       " ('one', 96),\n",
       " ('get', 87),\n",
       " ('buy', 83)]"
      ]
     },
     "execution_count": 33,
     "metadata": {},
     "output_type": "execute_result"
    }
   ],
   "source": [
    "Counter(nega).most_common(10)"
   ]
  },
  {
   "cell_type": "code",
   "execution_count": 34,
   "metadata": {
    "colab": {
     "base_uri": "https://localhost:8080/",
     "height": 285
    },
    "id": "MlbR_w_kz_TV",
    "outputId": "065d21da-8eeb-451d-8250-4d0e56412fc7"
   },
   "outputs": [],
   "source": [
    "#from wordcloud import WordCloud\n",
    "\n",
    "#wc = WordCloud().generate(\" \".join(pos))\n",
    "#plt.imshow(wc)\n",
    "#plt.axis(\"off\")\n",
    "#plt.show()\n"
   ]
  },
  {
   "cell_type": "code",
   "execution_count": 35,
   "metadata": {
    "colab": {
     "base_uri": "https://localhost:8080/",
     "height": 285
    },
    "id": "oyOx8dlQ0aOL",
    "outputId": "de2ff080-c5a8-48c7-98fa-351105a566d1"
   },
   "outputs": [],
   "source": [
    "#wc = WordCloud().generate(\" \".join(nega))\n",
    "#plt.imshow(wc)\n",
    "#plt.axis(\"off\")\n",
    "#plt.show()\n"
   ]
  },
  {
   "cell_type": "code",
   "execution_count": 36,
   "metadata": {
    "id": "DECL5PT70eNV"
   },
   "outputs": [
    {
     "data": {
      "text/plain": [
       "<Experiment: artifact_location='file:///C:/Users/Manikanta/Data%20Science%20Innomatics/Internship%20Projects%20-%20Tasks/Sentiment%20Analysis%20mlflow/mlruns/720290281684848176', creation_time=1711915620944, experiment_id='720290281684848176', last_update_time=1711915620944, lifecycle_stage='active', name='my_first_mlflow', tags={}>"
      ]
     },
     "execution_count": 36,
     "metadata": {},
     "output_type": "execute_result"
    }
   ],
   "source": [
    "import mlflow\n",
    "mlflow.set_experiment(\"my_first_mlflow\")"
   ]
  },
  {
   "cell_type": "markdown",
   "metadata": {
    "id": "YSdvmlpo05he"
   },
   "source": [
    "### 6. Feature Engineering"
   ]
  },
  {
   "cell_type": "code",
   "execution_count": 37,
   "metadata": {},
   "outputs": [],
   "source": [
    "from joblib import Memory"
   ]
  },
  {
   "cell_type": "code",
   "execution_count": 38,
   "metadata": {},
   "outputs": [],
   "source": [
    "import warnings\n",
    "\n",
    "warnings.filterwarnings('ignore')"
   ]
  },
  {
   "cell_type": "code",
   "execution_count": 39,
   "metadata": {
    "colab": {
     "base_uri": "https://localhost:8080/"
    },
    "id": "_H2lvlWT076O",
    "outputId": "400d6dd8-91ea-4c31-aa83-29893fc86610"
   },
   "outputs": [],
   "source": [
    "x_train = pre_pro_pi.fit_transform(x_train['Reviews'])\n",
    "\n",
    "x_test = pre_pro_pi.fit_transform(x_test['Reviews'])"
   ]
  },
  {
   "cell_type": "code",
   "execution_count": 40,
   "metadata": {},
   "outputs": [
    {
     "data": {
      "text/plain": [
       "(4192,)"
      ]
     },
     "execution_count": 40,
     "metadata": {},
     "output_type": "execute_result"
    }
   ],
   "source": [
    "x_train.shape"
   ]
  },
  {
   "cell_type": "code",
   "execution_count": 41,
   "metadata": {},
   "outputs": [
    {
     "data": {
      "text/plain": [
       "(4192,)"
      ]
     },
     "execution_count": 41,
     "metadata": {},
     "output_type": "execute_result"
    }
   ],
   "source": [
    "y_train.shape"
   ]
  },
  {
   "cell_type": "code",
   "execution_count": 42,
   "metadata": {},
   "outputs": [
    {
     "data": {
      "text/plain": [
       "(1049,)"
      ]
     },
     "execution_count": 42,
     "metadata": {},
     "output_type": "execute_result"
    }
   ],
   "source": [
    "y_test.shape"
   ]
  },
  {
   "cell_type": "code",
   "execution_count": 43,
   "metadata": {
    "colab": {
     "base_uri": "https://localhost:8080/"
    },
    "id": "TzyA1qKw1AGS",
    "outputId": "4f07ee40-d2b4-4b82-d017-7d5d95fd45e0"
   },
   "outputs": [
    {
     "data": {
      "text/plain": [
       "(1049,)"
      ]
     },
     "execution_count": 43,
     "metadata": {},
     "output_type": "execute_result"
    }
   ],
   "source": [
    "y_test.shape"
   ]
  },
  {
   "cell_type": "code",
   "execution_count": 44,
   "metadata": {},
   "outputs": [],
   "source": [
    "from sklearn.preprocessing import MinMaxScaler\n",
    "from sklearn.naive_bayes import GaussianNB"
   ]
  },
  {
   "cell_type": "markdown",
   "metadata": {
    "id": "l1JCAZ-c3GZn"
   },
   "source": [
    "### Auto Logging All Experiment Runs using MLFlow"
   ]
  },
  {
   "cell_type": "code",
   "execution_count": 45,
   "metadata": {},
   "outputs": [],
   "source": [
    "# Define a memory object to cache intermediate results\n",
    "cachedir = '.cache'\n",
    "memory = Memory(location=cachedir, verbose=0)\n",
    "\n",
    "\n",
    "\n",
    "pipelines = {\n",
    "    'naive_bayes': Pipeline([\n",
    "        ('vectorization', CountVectorizer()),\n",
    "        ('classifier', MultinomialNB())\n",
    "    ], memory=memory),\n",
    "    'decision_tree': Pipeline([\n",
    "        ('vectorization', CountVectorizer()),\n",
    "        ('classifier', DecisionTreeClassifier())\n",
    "    ], memory=memory),\n",
    "    'logistic_regression': Pipeline([\n",
    "        ('vectorization', CountVectorizer()),\n",
    "        ('classifier', LogisticRegression())\n",
    "    ], memory=memory)\n",
    "}\n",
    "\n",
    "# Define parameter grid for each algorithm\n",
    "param_grids = {\n",
    "    'naive_bayes': [\n",
    "        {\n",
    "            'vectorization': [CountVectorizer()],\n",
    "            'vectorization__max_features' : [1000, 1500], \n",
    "            'classifier__alpha' : [1, 10]\n",
    "        }\n",
    "    ],\n",
    "    'decision_tree': [\n",
    "        {\n",
    "            'vectorization': [CountVectorizer(), TfidfVectorizer()],\n",
    "            'vectorization__max_features' : [1000, 1500],\n",
    "            'classifier__max_depth': [None, 5, 10]\n",
    "        }\n",
    "    ],\n",
    "    'logistic_regression': [\n",
    "        {\n",
    "            'vectorization': [CountVectorizer(), TfidfVectorizer()],\n",
    "            'vectorization__max_features' : [1000, 1500], \n",
    "            'classifier__C': [0.1, 1, 10], \n",
    "            'classifier__penalty': ['elasticnet'], \n",
    "            'classifier__l1_ratio': [0.4, 0.5, 0.6],\n",
    "            'classifier__solver': ['saga'],\n",
    "            'classifier__class_weight': ['balanced']\n",
    "        }\n",
    "    ]\n",
    "}"
   ]
  },
  {
   "cell_type": "code",
   "execution_count": 46,
   "metadata": {},
   "outputs": [
    {
     "name": "stdout",
     "output_type": "stream",
     "text": [
      "********** naive_bayes **********\n",
      "CPU times: total: 1.03 s\n",
      "Wall time: 1.46 s\n",
      "Score on Test Data:  0.8930117501546073\n",
      "********** decision_tree **********\n",
      "CPU times: total: 7.08 s\n",
      "Wall time: 8.43 s\n",
      "Score on Test Data:  0.876905041031653\n",
      "********** logistic_regression **********\n",
      "CPU times: total: 1min 35s\n",
      "Wall time: 1min 45s\n",
      "Score on Test Data:  0.8711409395973154\n"
     ]
    }
   ],
   "source": [
    "# Perform GridSearchCV for each algorithm\n",
    "best_models = {}\n",
    "\n",
    "for algo in pipelines.keys():\n",
    "    print(\"*\"*10, algo, \"*\"*10)\n",
    "    grid_search = GridSearchCV(estimator=pipelines[algo], \n",
    "                               param_grid=param_grids[algo], \n",
    "                               cv=5, \n",
    "                               scoring='f1', \n",
    "                               return_train_score=True\n",
    "                              )\n",
    "    \n",
    "    %time grid_search.fit(x_train, y_train)\n",
    "    \n",
    "    print('Score on Test Data: ', grid_search.score(x_test, y_test)) "
   ]
  },
  {
   "cell_type": "code",
   "execution_count": 47,
   "metadata": {},
   "outputs": [],
   "source": [
    "import time\n",
    "import joblib\n",
    "import os"
   ]
  },
  {
   "cell_type": "code",
   "execution_count": 48,
   "metadata": {},
   "outputs": [
    {
     "name": "stdout",
     "output_type": "stream",
     "text": [
      "********** naive_bayes **********\n",
      "Fitting 5 folds for each of 4 candidates, totalling 20 fits\n",
      "Train Score:  0.901336541958826\n",
      "Test Score:  0.8930117501546073\n",
      "Fit Time:  1.5388410091400146\n",
      "Predict Time:  0.0116729736328125\n",
      "Model Size:  107760\n",
      "\n",
      "********** decision_tree **********\n",
      "Fitting 5 folds for each of 12 candidates, totalling 60 fits\n",
      "Train Score:  0.8844369925997448\n",
      "Test Score:  0.8774193548387097\n",
      "Fit Time:  8.70255708694458\n",
      "Predict Time:  0.007239341735839844\n",
      "Model Size:  61422\n",
      "\n",
      "********** logistic_regression **********\n",
      "Fitting 5 folds for each of 36 candidates, totalling 180 fits\n",
      "Train Score:  0.8730278299045207\n",
      "Test Score:  0.8711409395973154\n",
      "Fit Time:  110.30359196662903\n",
      "Predict Time:  0.007540702819824219\n",
      "Model Size:  73677\n",
      "\n"
     ]
    }
   ],
   "source": [
    "dev=\"Manikanta Guptha\"\n",
    "best_models = {}\n",
    "\n",
    "for algo in pipelines.keys():\n",
    "    print(\"*\"*10, algo, \"*\"*10)\n",
    "    grid_search = GridSearchCV(estimator=pipelines[algo], \n",
    "                               param_grid=param_grids[algo], \n",
    "                               cv=5, \n",
    "                               scoring='f1', \n",
    "                               return_train_score=True,\n",
    "                               verbose=1\n",
    "                              )\n",
    "    \n",
    "   # Fit\n",
    "    start_fit_time = time.time()\n",
    "    grid_search.fit(x_train, y_train)\n",
    "    end_fit_time = time.time()\n",
    "\n",
    "    # Predict\n",
    "    start_predict_time = time.time()\n",
    "    y_pred = grid_search.predict(x_test)\n",
    "    end_predict_time = time.time()\n",
    "\n",
    "    # Saving the best model\n",
    "    joblib.dump(grid_search.best_estimator_, f'{algo}.pkl')\n",
    "    model_size = os.path.getsize(f'{algo}.pkl')\n",
    "\n",
    "    # Pring Log\n",
    "    print('Train Score: ', grid_search.best_score_)\n",
    "    print('Test Score: ', grid_search.score(x_test, y_test))\n",
    "    print(\"Fit Time: \", end_fit_time - start_fit_time)\n",
    "    print(\"Predict Time: \", end_predict_time - start_predict_time)\n",
    "    print(\"Model Size: \", model_size)\n",
    "    \n",
    "    print()\n",
    "\n",
    "    # Start the experiment run\n",
    "    with mlflow.start_run() as run:\n",
    "        # Log tags with mlflow.set_tag()\n",
    "        mlflow.set_tag(\"developer\", dev)\n",
    "\n",
    "        # Log Parameters with mlflow.log_param()\n",
    "        mlflow.log_param(\"algorithm\", algo)\n",
    "        mlflow.log_param(\"hyperparameter_grid\", param_grids[algo])\n",
    "        mlflow.log_param(\"best_hyperparameter\", grid_search.best_params_)\n",
    "\n",
    "        # Log Metrics with mlflow.log_metric()\n",
    "        mlflow.log_metric(\"train_score\", grid_search.best_score_)\n",
    "        mlflow.log_metric(\"test_score\", grid_search.score(x_test, y_test))\n",
    "        mlflow.log_metric(\"fit_time\", end_fit_time - start_fit_time)\n",
    "        mlflow.log_metric(\"predict_time\", end_predict_time - start_predict_time)\n",
    "        mlflow.log_metric(\"model_size\", model_size)\n",
    "\n",
    "        # Log Model using mlflow.sklearn.log_model()\n",
    "        mlflow.sklearn.log_model(grid_search.best_estimator_, f\"{algo}_model\")\n"
   ]
  },
  {
   "cell_type": "code",
   "execution_count": null,
   "metadata": {},
   "outputs": [],
   "source": []
  },
  {
   "cell_type": "code",
   "execution_count": null,
   "metadata": {},
   "outputs": [],
   "source": []
  },
  {
   "cell_type": "code",
   "execution_count": null,
   "metadata": {},
   "outputs": [],
   "source": []
  }
 ],
 "metadata": {
  "colab": {
   "provenance": []
  },
  "kernelspec": {
   "display_name": "Python 3 (ipykernel)",
   "language": "python",
   "name": "python3"
  },
  "language_info": {
   "codemirror_mode": {
    "name": "ipython",
    "version": 3
   },
   "file_extension": ".py",
   "mimetype": "text/x-python",
   "name": "python",
   "nbconvert_exporter": "python",
   "pygments_lexer": "ipython3",
   "version": "3.10.9"
  }
 },
 "nbformat": 4,
 "nbformat_minor": 1
}
