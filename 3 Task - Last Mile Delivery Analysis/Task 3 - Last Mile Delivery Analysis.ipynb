{
 "cells": [
  {
   "cell_type": "code",
   "execution_count": 38,
   "id": "8962af6a",
   "metadata": {},
   "outputs": [],
   "source": [
    "import numpy as np\n",
    "import pandas as pd\n",
    "import matplotlib.pyplot as plt\n",
    "from scipy.stats import poisson"
   ]
  },
  {
   "cell_type": "code",
   "execution_count": 39,
   "id": "af80f3bc",
   "metadata": {},
   "outputs": [],
   "source": [
    "file_paths = [r\"C:\\Users\\Manikanta\\Data Science Innomatics\\Internship Projects - Tasks\\Task 3\\Task 3 diminos_data_v2\\diminos_data_v2\\deliveries.csv\",\n",
    "             r\"C:\\Users\\Manikanta\\Data Science Innomatics\\Internship Projects - Tasks\\Task 3\\Task 3 diminos_data_v2\\diminos_data_v2\\order_items.csv\",\n",
    "             r\"C:\\Users\\Manikanta\\Data Science Innomatics\\Internship Projects - Tasks\\Task 3\\Task 3 diminos_data_v2\\diminos_data_v2\\orders.csv\",\n",
    "             r\"C:\\Users\\Manikanta\\Data Science Innomatics\\Internship Projects - Tasks\\Task 3\\Task 3 diminos_data_v2\\diminos_data_v2\\products.csv\"]"
   ]
  },
  {
   "cell_type": "code",
   "execution_count": null,
   "id": "22a714c2",
   "metadata": {},
   "outputs": [],
   "source": []
  },
  {
   "cell_type": "code",
   "execution_count": 40,
   "id": "56b05104",
   "metadata": {},
   "outputs": [],
   "source": [
    "deliveries_df, order_items_df, orders_df, products_df = [pd.read_csv(file) for file in file_paths]\n",
    "\n",
    "# Merge orders_df and order_items_df on 'order_id', then merge the result with deliveries_df on 'order_id'\n",
    "df = pd.merge(pd.merge(orders_df, order_items_df, on='order_id'), deliveries_df, on='order_id')"
   ]
  },
  {
   "cell_type": "code",
   "execution_count": 41,
   "id": "c5c24edd",
   "metadata": {},
   "outputs": [
    {
     "data": {
      "text/html": [
       "<div>\n",
       "<style scoped>\n",
       "    .dataframe tbody tr th:only-of-type {\n",
       "        vertical-align: middle;\n",
       "    }\n",
       "\n",
       "    .dataframe tbody tr th {\n",
       "        vertical-align: top;\n",
       "    }\n",
       "\n",
       "    .dataframe thead th {\n",
       "        text-align: right;\n",
       "    }\n",
       "</style>\n",
       "<table border=\"1\" class=\"dataframe\">\n",
       "  <thead>\n",
       "    <tr style=\"text-align: right;\">\n",
       "      <th></th>\n",
       "      <th>order_id</th>\n",
       "      <th>order_placed_at</th>\n",
       "      <th>items_ordered</th>\n",
       "      <th>time_stamp</th>\n",
       "      <th>status</th>\n",
       "    </tr>\n",
       "  </thead>\n",
       "  <tbody>\n",
       "    <tr>\n",
       "      <th>0</th>\n",
       "      <td>321230114</td>\n",
       "      <td>2020-12-11 00:01:29</td>\n",
       "      <td>['p_025', 'p_032', 'p_037']</td>\n",
       "      <td>2020-12-11 00:01:29.000000000</td>\n",
       "      <td>Pending</td>\n",
       "    </tr>\n",
       "    <tr>\n",
       "      <th>1</th>\n",
       "      <td>321230114</td>\n",
       "      <td>2020-12-11 00:01:29</td>\n",
       "      <td>['p_025', 'p_032', 'p_037']</td>\n",
       "      <td>2020-12-11 00:06:29.000000000</td>\n",
       "      <td>Out For Delivery</td>\n",
       "    </tr>\n",
       "    <tr>\n",
       "      <th>2</th>\n",
       "      <td>321230114</td>\n",
       "      <td>2020-12-11 00:01:29</td>\n",
       "      <td>['p_025', 'p_032', 'p_037']</td>\n",
       "      <td>2020-12-11 00:19:13.299151076</td>\n",
       "      <td>Delivered</td>\n",
       "    </tr>\n",
       "    <tr>\n",
       "      <th>3</th>\n",
       "      <td>321230115</td>\n",
       "      <td>2020-12-11 00:36:02</td>\n",
       "      <td>['p_017', 'p_012']</td>\n",
       "      <td>2020-12-11 00:36:02.000000000</td>\n",
       "      <td>Pending</td>\n",
       "    </tr>\n",
       "    <tr>\n",
       "      <th>4</th>\n",
       "      <td>321230115</td>\n",
       "      <td>2020-12-11 00:36:02</td>\n",
       "      <td>['p_017', 'p_012']</td>\n",
       "      <td>2020-12-11 00:41:02.000000000</td>\n",
       "      <td>Out For Delivery</td>\n",
       "    </tr>\n",
       "    <tr>\n",
       "      <th>...</th>\n",
       "      <td>...</td>\n",
       "      <td>...</td>\n",
       "      <td>...</td>\n",
       "      <td>...</td>\n",
       "      <td>...</td>\n",
       "    </tr>\n",
       "    <tr>\n",
       "      <th>1363003</th>\n",
       "      <td>321684448</td>\n",
       "      <td>2024-01-31 23:58:05</td>\n",
       "      <td>['p_007', 'p_003', 'p_037']</td>\n",
       "      <td>2024-02-01 00:03:05.000000000</td>\n",
       "      <td>Out For Delivery</td>\n",
       "    </tr>\n",
       "    <tr>\n",
       "      <th>1363004</th>\n",
       "      <td>321684448</td>\n",
       "      <td>2024-01-31 23:58:05</td>\n",
       "      <td>['p_007', 'p_003', 'p_037']</td>\n",
       "      <td>2024-02-01 00:17:50.996900711</td>\n",
       "      <td>Delivered</td>\n",
       "    </tr>\n",
       "    <tr>\n",
       "      <th>1363005</th>\n",
       "      <td>321684449</td>\n",
       "      <td>2024-01-31 23:55:46</td>\n",
       "      <td>['p_022', 'p_037']</td>\n",
       "      <td>2024-01-31 23:55:46.000000000</td>\n",
       "      <td>Pending</td>\n",
       "    </tr>\n",
       "    <tr>\n",
       "      <th>1363006</th>\n",
       "      <td>321684449</td>\n",
       "      <td>2024-01-31 23:55:46</td>\n",
       "      <td>['p_022', 'p_037']</td>\n",
       "      <td>2024-02-01 00:00:46.000000000</td>\n",
       "      <td>Out For Delivery</td>\n",
       "    </tr>\n",
       "    <tr>\n",
       "      <th>1363007</th>\n",
       "      <td>321684449</td>\n",
       "      <td>2024-01-31 23:55:46</td>\n",
       "      <td>['p_022', 'p_037']</td>\n",
       "      <td>2024-02-01 00:14:56.997433391</td>\n",
       "      <td>Delivered</td>\n",
       "    </tr>\n",
       "  </tbody>\n",
       "</table>\n",
       "<p>1363008 rows × 5 columns</p>\n",
       "</div>"
      ],
      "text/plain": [
       "          order_id      order_placed_at                items_ordered  \\\n",
       "0        321230114  2020-12-11 00:01:29  ['p_025', 'p_032', 'p_037']   \n",
       "1        321230114  2020-12-11 00:01:29  ['p_025', 'p_032', 'p_037']   \n",
       "2        321230114  2020-12-11 00:01:29  ['p_025', 'p_032', 'p_037']   \n",
       "3        321230115  2020-12-11 00:36:02           ['p_017', 'p_012']   \n",
       "4        321230115  2020-12-11 00:36:02           ['p_017', 'p_012']   \n",
       "...            ...                  ...                          ...   \n",
       "1363003  321684448  2024-01-31 23:58:05  ['p_007', 'p_003', 'p_037']   \n",
       "1363004  321684448  2024-01-31 23:58:05  ['p_007', 'p_003', 'p_037']   \n",
       "1363005  321684449  2024-01-31 23:55:46           ['p_022', 'p_037']   \n",
       "1363006  321684449  2024-01-31 23:55:46           ['p_022', 'p_037']   \n",
       "1363007  321684449  2024-01-31 23:55:46           ['p_022', 'p_037']   \n",
       "\n",
       "                            time_stamp            status  \n",
       "0        2020-12-11 00:01:29.000000000           Pending  \n",
       "1        2020-12-11 00:06:29.000000000  Out For Delivery  \n",
       "2        2020-12-11 00:19:13.299151076         Delivered  \n",
       "3        2020-12-11 00:36:02.000000000           Pending  \n",
       "4        2020-12-11 00:41:02.000000000  Out For Delivery  \n",
       "...                                ...               ...  \n",
       "1363003  2024-02-01 00:03:05.000000000  Out For Delivery  \n",
       "1363004  2024-02-01 00:17:50.996900711         Delivered  \n",
       "1363005  2024-01-31 23:55:46.000000000           Pending  \n",
       "1363006  2024-02-01 00:00:46.000000000  Out For Delivery  \n",
       "1363007  2024-02-01 00:14:56.997433391         Delivered  \n",
       "\n",
       "[1363008 rows x 5 columns]"
      ]
     },
     "execution_count": 41,
     "metadata": {},
     "output_type": "execute_result"
    }
   ],
   "source": [
    "df"
   ]
  },
  {
   "cell_type": "code",
   "execution_count": 42,
   "id": "c949d89f",
   "metadata": {},
   "outputs": [
    {
     "name": "stdout",
     "output_type": "stream",
     "text": [
      "<class 'pandas.core.frame.DataFrame'>\n",
      "Int64Index: 1363008 entries, 0 to 1363007\n",
      "Data columns (total 5 columns):\n",
      " #   Column           Non-Null Count    Dtype \n",
      "---  ------           --------------    ----- \n",
      " 0   order_id         1363008 non-null  int64 \n",
      " 1   order_placed_at  1363008 non-null  object\n",
      " 2   items_ordered    1363008 non-null  object\n",
      " 3   time_stamp       1363008 non-null  object\n",
      " 4   status           1363008 non-null  object\n",
      "dtypes: int64(1), object(4)\n",
      "memory usage: 62.4+ MB\n"
     ]
    }
   ],
   "source": [
    "df.info()"
   ]
  },
  {
   "cell_type": "code",
   "execution_count": 43,
   "id": "d34df0d0",
   "metadata": {},
   "outputs": [],
   "source": [
    "# Remove any duplicate rows\n",
    "df.drop_duplicates(inplace=True)"
   ]
  },
  {
   "cell_type": "code",
   "execution_count": 44,
   "id": "c38b2e5c",
   "metadata": {},
   "outputs": [
    {
     "data": {
      "text/plain": [
       "order_id           0\n",
       "order_placed_at    0\n",
       "items_ordered      0\n",
       "time_stamp         0\n",
       "status             0\n",
       "dtype: int64"
      ]
     },
     "execution_count": 44,
     "metadata": {},
     "output_type": "execute_result"
    }
   ],
   "source": [
    "# Check for missing values\n",
    "missing_values = df.isnull().sum()\n",
    "missing_values"
   ]
  },
  {
   "cell_type": "markdown",
   "id": "43c7a9bf",
   "metadata": {},
   "source": [
    "## What is the average Delivery Time (in minutes) taken by the store to deliver the Pizza?"
   ]
  },
  {
   "cell_type": "code",
   "execution_count": 45,
   "id": "32627aa2",
   "metadata": {},
   "outputs": [
    {
     "data": {
      "text/plain": [
       "Index(['order_id', 'time_stamp', 'status'], dtype='object')"
      ]
     },
     "execution_count": 45,
     "metadata": {},
     "output_type": "execute_result"
    }
   ],
   "source": [
    "deliveries_df.columns"
   ]
  },
  {
   "cell_type": "code",
   "execution_count": 46,
   "id": "92c3ca1f",
   "metadata": {},
   "outputs": [],
   "source": [
    "merged_df = pd.merge(deliveries_df, orders_df[['order_id', 'order_placed_at']], on='order_id', how='inner')\n",
    "merged_df[['time_stamp', 'order_placed_at']] = merged_df[['time_stamp', 'order_placed_at']].apply(pd.to_datetime)"
   ]
  },
  {
   "cell_type": "code",
   "execution_count": 47,
   "id": "1ba0c81a",
   "metadata": {},
   "outputs": [
    {
     "data": {
      "text/plain": [
       "8.549186923582088"
      ]
     },
     "execution_count": 47,
     "metadata": {},
     "output_type": "execute_result"
    }
   ],
   "source": [
    "average_delivery_time = ((merged_df['time_stamp'] - merged_df['order_placed_at']).dt.total_seconds() / 60).mean()\n",
    "average_delivery_time"
   ]
  },
  {
   "cell_type": "markdown",
   "id": "1956cfd8",
   "metadata": {},
   "source": [
    "## What is the 99th percentile Delivery Time (in minutes) taken by the store to deliver the Pizza?"
   ]
  },
  {
   "cell_type": "code",
   "execution_count": 48,
   "id": "bc567bf9",
   "metadata": {},
   "outputs": [
    {
     "name": "stdout",
     "output_type": "stream",
     "text": [
      "Index(['order_id', 'time_stamp', 'status', 'order_placed_at'], dtype='object')\n"
     ]
    }
   ],
   "source": [
    "print(merged_df.columns)"
   ]
  },
  {
   "cell_type": "code",
   "execution_count": 49,
   "id": "cfaff5af",
   "metadata": {},
   "outputs": [],
   "source": [
    "merged_df['delivery_time'] = (pd.to_datetime(merged_df['time_stamp']) - pd.to_datetime(merged_df['order_placed_at'])).dt.total_seconds() / 60"
   ]
  },
  {
   "cell_type": "code",
   "execution_count": 50,
   "id": "8359a0e7",
   "metadata": {},
   "outputs": [
    {
     "data": {
      "text/plain": [
       "27.7458382857355"
      ]
     },
     "execution_count": 50,
     "metadata": {},
     "output_type": "execute_result"
    }
   ],
   "source": [
    "percentile_99_delivery_time = merged_df['delivery_time'].quantile(0.99)\n",
    "percentile_99_delivery_time"
   ]
  },
  {
   "cell_type": "markdown",
   "id": "1ef5c2b2",
   "metadata": {},
   "source": [
    "## Which metric is the better choice to determine the stores performance based on Delivery Time?"
   ]
  },
  {
   "cell_type": "code",
   "execution_count": 51,
   "id": "5577ca7e",
   "metadata": {},
   "outputs": [
    {
     "data": {
      "text/plain": [
       "8.549186923582088"
      ]
     },
     "execution_count": 51,
     "metadata": {},
     "output_type": "execute_result"
    }
   ],
   "source": [
    "mean_delivery_time = merged_df['delivery_time'].mean()\n",
    "mean_delivery_time"
   ]
  },
  {
   "cell_type": "code",
   "execution_count": 52,
   "id": "8896f79f",
   "metadata": {},
   "outputs": [
    {
     "data": {
      "text/plain": [
       "5.0"
      ]
     },
     "execution_count": 52,
     "metadata": {},
     "output_type": "execute_result"
    }
   ],
   "source": [
    "median_delivery_time = merged_df['delivery_time'].median()\n",
    "median_delivery_time"
   ]
  },
  {
   "cell_type": "code",
   "execution_count": 53,
   "id": "21438602",
   "metadata": {},
   "outputs": [
    {
     "data": {
      "text/plain": [
       "23.372248722474154"
      ]
     },
     "execution_count": 53,
     "metadata": {},
     "output_type": "execute_result"
    }
   ],
   "source": [
    "percentile_95_delivery_time = merged_df['delivery_time'].quantile(0.95)\n",
    "percentile_95_delivery_time"
   ]
  },
  {
   "cell_type": "code",
   "execution_count": 54,
   "id": "efe394a6",
   "metadata": {},
   "outputs": [
    {
     "data": {
      "text/plain": [
       "27.7458382857355"
      ]
     },
     "execution_count": 54,
     "metadata": {},
     "output_type": "execute_result"
    }
   ],
   "source": [
    "percentile_99_delivery_time = merged_df['delivery_time'].quantile(0.99)\n",
    "percentile_99_delivery_time"
   ]
  },
  {
   "cell_type": "markdown",
   "id": "5451c19d",
   "metadata": {},
   "source": [
    "## What is the order id with the maximum delivery time?"
   ]
  },
  {
   "cell_type": "code",
   "execution_count": 55,
   "id": "422cd561",
   "metadata": {},
   "outputs": [],
   "source": [
    "# maximum delivery time\n",
    "max_delivery_time_index = merged_df['delivery_time'].idxmax()"
   ]
  },
  {
   "cell_type": "code",
   "execution_count": 56,
   "id": "07284583",
   "metadata": {},
   "outputs": [
    {
     "data": {
      "text/plain": [
       "321629049"
      ]
     },
     "execution_count": 56,
     "metadata": {},
     "output_type": "execute_result"
    }
   ],
   "source": [
    "order_id_max_delivery_time = merged_df.loc[max_delivery_time_index, 'order_id']\n",
    "order_id_max_delivery_time"
   ]
  },
  {
   "cell_type": "markdown",
   "id": "8374ecdd",
   "metadata": {},
   "source": [
    "## How many pizza's were ordered between 1st January and 31st January 2024 (INCLUSIVE)?"
   ]
  },
  {
   "cell_type": "code",
   "execution_count": 57,
   "id": "5807003d",
   "metadata": {},
   "outputs": [
    {
     "name": "stdout",
     "output_type": "stream",
     "text": [
      "Total number of pizzas ordered between January 1st and January 31st, 2024: 91008\n"
     ]
    }
   ],
   "source": [
    "df['order_placed_at'] = pd.to_datetime(df['order_placed_at'])\n",
    "orders_january_2024 = df[(df['order_placed_at'] >= '2024-01-01') & (df['order_placed_at'] <= '2024-01-31')]\n",
    "total_pizzas_ordered = orders_january_2024['items_ordered'].apply(lambda x: len(eval(x))).sum()\n",
    "\n",
    "print(\"Total number of pizzas ordered between January 1st and January 31st, 2024:\", total_pizzas_ordered)"
   ]
  },
  {
   "cell_type": "markdown",
   "id": "9ff0f0fb",
   "metadata": {},
   "source": [
    "## How many order took more than 30 minutes to deliver between 1st January and 31st January 2024 (INCLUSIVE)?\n",
    "\n",
    "## This is important as Diminos promise 30 minutes delivery. For any pizza delivered after 30 minutes, customer will get a full refund."
   ]
  },
  {
   "cell_type": "code",
   "execution_count": 58,
   "id": "49453714",
   "metadata": {},
   "outputs": [
    {
     "name": "stdout",
     "output_type": "stream",
     "text": [
      "Index(['order_id', 'time_stamp', 'status'], dtype='object')\n"
     ]
    }
   ],
   "source": [
    "print(deliveries_df.columns)"
   ]
  },
  {
   "cell_type": "code",
   "execution_count": 59,
   "id": "583192e4",
   "metadata": {},
   "outputs": [],
   "source": [
    "df['order_placed_at'] = pd.to_datetime(df['order_placed_at'])\n",
    "df['time_stamp'] = pd.to_datetime(df['time_stamp'])"
   ]
  },
  {
   "cell_type": "code",
   "execution_count": 60,
   "id": "75fb384e",
   "metadata": {},
   "outputs": [],
   "source": [
    "df['delivery_time'] = (df['time_stamp'] - df['order_placed_at']).dt.total_seconds() / 60"
   ]
  },
  {
   "cell_type": "code",
   "execution_count": 61,
   "id": "235c7dae",
   "metadata": {},
   "outputs": [
    {
     "data": {
      "text/plain": [
       "158"
      ]
     },
     "execution_count": 61,
     "metadata": {},
     "output_type": "execute_result"
    }
   ],
   "source": [
    "orders_jan_2024 = df[(df['order_placed_at'] >= '2024-01-01') & (df['order_placed_at'] <= '2024-01-31')]\n",
    "\n",
    "orders_over_30_minutes = orders_jan_2024[orders_jan_2024['delivery_time'] > 30].shape[0]\n",
    "orders_over_30_minutes"
   ]
  },
  {
   "cell_type": "markdown",
   "id": "1bfa0e61",
   "metadata": {},
   "source": [
    "## What is the total amount Pizza store lost in 2023 due to refunds on late deliveries?"
   ]
  },
  {
   "cell_type": "code",
   "execution_count": 62,
   "id": "567e013f",
   "metadata": {},
   "outputs": [],
   "source": [
    "late_deliveries = df[(df['order_placed_at'].dt.year == 2023) & (df['delivery_time'] > 30)]"
   ]
  },
  {
   "cell_type": "code",
   "execution_count": 63,
   "id": "77fde356",
   "metadata": {},
   "outputs": [
    {
     "data": {
      "text/plain": [
       "40060"
      ]
     },
     "execution_count": 63,
     "metadata": {},
     "output_type": "execute_result"
    }
   ],
   "source": [
    "refund_amount_per_order = 20  \n",
    "\n",
    "total_refund_amount_2023 = len(late_deliveries) * refund_amount_per_order\n",
    "total_refund_amount_2023"
   ]
  },
  {
   "cell_type": "markdown",
   "id": "51280a62",
   "metadata": {},
   "source": [
    "## In which year Pizza store has lost maximum amount due to refunds on late deliveries?"
   ]
  },
  {
   "cell_type": "code",
   "execution_count": 64,
   "id": "8ff1bd15",
   "metadata": {},
   "outputs": [],
   "source": [
    "refund_amount_by_year = df[df['delivery_time'] > 30].groupby(df['order_placed_at'].dt.year)['delivery_time'].count() * 20"
   ]
  },
  {
   "cell_type": "code",
   "execution_count": 65,
   "id": "059a6aa2",
   "metadata": {},
   "outputs": [],
   "source": [
    "max_refund_year = refund_amount_by_year.idxmax()\n",
    "max_refund_amount = refund_amount_by_year.max()"
   ]
  },
  {
   "cell_type": "code",
   "execution_count": 66,
   "id": "d82f7cf3",
   "metadata": {},
   "outputs": [
    {
     "data": {
      "text/plain": [
       "2023"
      ]
     },
     "execution_count": 66,
     "metadata": {},
     "output_type": "execute_result"
    }
   ],
   "source": [
    "max_refund_year"
   ]
  },
  {
   "cell_type": "code",
   "execution_count": 67,
   "id": "f239726b",
   "metadata": {},
   "outputs": [
    {
     "data": {
      "text/plain": [
       "40060"
      ]
     },
     "execution_count": 67,
     "metadata": {},
     "output_type": "execute_result"
    }
   ],
   "source": [
    "max_refund_amount"
   ]
  },
  {
   "cell_type": "markdown",
   "id": "9370065f",
   "metadata": {},
   "source": [
    "## How much revenue is generated by the pizza store till date? Don't include the refund amount in revenue."
   ]
  },
  {
   "cell_type": "code",
   "execution_count": 68,
   "id": "32df15a0",
   "metadata": {},
   "outputs": [],
   "source": [
    "delivered_orders = df[df['status'] == 'Delivered']\n",
    "revenue_from_delivered_orders = sum(delivered_orders['order_id'].value_counts()) * 20"
   ]
  },
  {
   "cell_type": "code",
   "execution_count": 69,
   "id": "625260f5",
   "metadata": {},
   "outputs": [
    {
     "data": {
      "text/plain": [
       "9086720"
      ]
     },
     "execution_count": 69,
     "metadata": {},
     "output_type": "execute_result"
    }
   ],
   "source": [
    "revenue_from_delivered_orders"
   ]
  },
  {
   "cell_type": "markdown",
   "id": "a7d8b206",
   "metadata": {},
   "source": [
    "## (BONUS QUESTION) Which distribution can be used to model the number of orders incoming each hour? If we can somehow model it, which problem for owner of Pizza Store can be solved? (Implement this in a Jupyter Notebook. Upload your implementation on the google drive and share the link below.) "
   ]
  },
  {
   "cell_type": "code",
   "execution_count": 72,
   "id": "588712e1",
   "metadata": {},
   "outputs": [],
   "source": [
    "df['order_placed_at'] = pd.to_datetime(df['order_placed_at'])\n",
    "df['hour'] = df['order_placed_at'].dt.hour\n",
    "orders_by_hour = df.groupby('hour').size()\n",
    "\n",
    "lambda_est = orders_by_hour.mean()\n",
    "hours = np.arange(24)\n",
    "poisson_probs = poisson.pmf(hours, lambda_est)"
   ]
  },
  {
   "cell_type": "code",
   "execution_count": 73,
   "id": "6136d08f",
   "metadata": {},
   "outputs": [
    {
     "data": {
      "image/png": "[encoded data removed]",
      "text/plain": [
       "<Figure size 1000x600 with 1 Axes>"
      ]
     },
     "metadata": {},
     "output_type": "display_data"
    }
   ],
   "source": [
    "# Plot actual number of orders and Poisson distribution\n",
    "plt.figure(figsize=(10, 6))\n",
    "plt.bar(orders_by_hour.index, orders_by_hour.values, color='blue', alpha=0.5, label='Actual Orders')\n",
    "plt.plot(hours, poisson_probs * len(df), color='red', label='Poisson Distribution')\n",
    "plt.xlabel('Hour of the Day')\n",
    "plt.ylabel('Number of Orders')\n",
    "plt.title('Number of Orders per Hour')\n",
    "plt.legend()\n",
    "plt.grid(True)\n",
    "plt.show()"
   ]
  },
  {
   "cell_type": "code",
   "execution_count": null,
   "id": "e1e99e14",
   "metadata": {},
   "outputs": [],
   "source": []
  }
 ],
 "metadata": {
  "kernelspec": {
   "display_name": "Python 3 (ipykernel)",
   "language": "python",
   "name": "python3"
  },
  "language_info": {
   "codemirror_mode": {
    "name": "ipython",
    "version": 3
   },
   "file_extension": ".py",
   "mimetype": "text/x-python",
   "name": "python",
   "nbconvert_exporter": "python",
   "pygments_lexer": "ipython3",
   "version": "3.10.9"
  }
 },
 "nbformat": 4,
 "nbformat_minor": 5
}
