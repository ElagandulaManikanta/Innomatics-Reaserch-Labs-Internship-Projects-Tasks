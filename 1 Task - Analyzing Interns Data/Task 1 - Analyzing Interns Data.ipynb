{
 "cells": [
  {
   "cell_type": "code",
   "execution_count": 1,
   "id": "78037254",
   "metadata": {},
   "outputs": [],
   "source": [
    "import numpy as np\n",
    "import pandas as pd\n",
    "import matplotlib.pyplot as plt\n",
    "import datetime"
   ]
  },
  {
   "cell_type": "code",
   "execution_count": 2,
   "id": "90e070c2",
   "metadata": {},
   "outputs": [],
   "source": [
    "df = pd.read_csv(r\"C:\\Users\\Manikanta\\Data Science Innomatics\\Internship Projects - Tasks\\1 Task - Analyzing Interns Data\\Task 1 raw_data_v11_3.csv\")"
   ]
  },
  {
   "cell_type": "code",
   "execution_count": 3,
   "id": "71eb1111",
   "metadata": {},
   "outputs": [
    {
     "data": {
      "text/html": [
       "<div>\n",
       "<style scoped>\n",
       "    .dataframe tbody tr th:only-of-type {\n",
       "        vertical-align: middle;\n",
       "    }\n",
       "\n",
       "    .dataframe tbody tr th {\n",
       "        vertical-align: top;\n",
       "    }\n",
       "\n",
       "    .dataframe thead th {\n",
       "        text-align: right;\n",
       "    }\n",
       "</style>\n",
       "<table border=\"1\" class=\"dataframe\">\n",
       "  <thead>\n",
       "    <tr style=\"text-align: right;\">\n",
       "      <th></th>\n",
       "      <th>Date of Birth</th>\n",
       "      <th>What is your current profession?</th>\n",
       "      <th>What is the year of completion of your Highest Education Qualification?</th>\n",
       "      <th>Which of the following best describes you?</th>\n",
       "      <th>Please mention the name of the institute where you have completed or are currently pursuing your Data Science Certification Course.</th>\n",
       "      <th>In case your certification institute is \"Innomatics Research Labs\", please provide your Enrolled Batch Number.</th>\n",
       "      <th>Please indicate the time that suits you for your daily LIVE interaction with our Chief Data Scientist as part of your internship.</th>\n",
       "      <th>What do you think are most important skill right now for a skilled Data Scientist?</th>\n",
       "    </tr>\n",
       "  </thead>\n",
       "  <tbody>\n",
       "    <tr>\n",
       "      <th>0</th>\n",
       "      <td>9/16/2000</td>\n",
       "      <td>Fresher (I have completed my Education and loo...</td>\n",
       "      <td>7/30/2023</td>\n",
       "      <td>I am currently enrolled in a Data Science cert...</td>\n",
       "      <td>Innomatics Research Labs</td>\n",
       "      <td>251</td>\n",
       "      <td>6:00 to 7:00 PM IST</td>\n",
       "      <td>Extracting actionable insights from the raw da...</td>\n",
       "    </tr>\n",
       "    <tr>\n",
       "      <th>1</th>\n",
       "      <td>2/6/1998</td>\n",
       "      <td>Fresher (I have completed my Education and loo...</td>\n",
       "      <td>5/18/2022</td>\n",
       "      <td>I have never enrolled in any certification cou...</td>\n",
       "      <td>NaN</td>\n",
       "      <td>NaN</td>\n",
       "      <td>6:00 to 7:00 PM IST</td>\n",
       "      <td>Extracting actionable insights from the raw data</td>\n",
       "    </tr>\n",
       "    <tr>\n",
       "      <th>2</th>\n",
       "      <td>10/8/2003</td>\n",
       "      <td>Student (I am currently enrolled in some Educa...</td>\n",
       "      <td>4/1/2025</td>\n",
       "      <td>I am currently enrolled in a Data Science cert...</td>\n",
       "      <td>NaN</td>\n",
       "      <td>NaN</td>\n",
       "      <td>6:00 to 7:00 PM IST</td>\n",
       "      <td>Data Modelling</td>\n",
       "    </tr>\n",
       "    <tr>\n",
       "      <th>3</th>\n",
       "      <td>11/29/2001</td>\n",
       "      <td>Student (I am currently enrolled in some Educa...</td>\n",
       "      <td>5/15/2024</td>\n",
       "      <td>I have never enrolled in any certification cou...</td>\n",
       "      <td>NaN</td>\n",
       "      <td>NaN</td>\n",
       "      <td>5:00 to 6:00 PM IST</td>\n",
       "      <td>Extracting actionable insights from the raw da...</td>\n",
       "    </tr>\n",
       "    <tr>\n",
       "      <th>4</th>\n",
       "      <td>11/25/2004</td>\n",
       "      <td>Student (I am currently enrolled in some Educa...</td>\n",
       "      <td>1/10/2026</td>\n",
       "      <td>I have completed a Data Science certification ...</td>\n",
       "      <td>Velagapudi ramakrishna Siddhartha college</td>\n",
       "      <td>Na</td>\n",
       "      <td>6:00 to 7:00 PM IST</td>\n",
       "      <td>Extracting actionable insights from the raw da...</td>\n",
       "    </tr>\n",
       "  </tbody>\n",
       "</table>\n",
       "</div>"
      ],
      "text/plain": [
       "  Date of Birth                   What is your current profession?  \\\n",
       "0     9/16/2000  Fresher (I have completed my Education and loo...   \n",
       "1      2/6/1998  Fresher (I have completed my Education and loo...   \n",
       "2     10/8/2003  Student (I am currently enrolled in some Educa...   \n",
       "3    11/29/2001  Student (I am currently enrolled in some Educa...   \n",
       "4    11/25/2004  Student (I am currently enrolled in some Educa...   \n",
       "\n",
       "  What is the year of completion of your Highest Education Qualification?  \\\n",
       "0                                          7/30/2023                        \n",
       "1                                          5/18/2022                        \n",
       "2                                           4/1/2025                        \n",
       "3                                          5/15/2024                        \n",
       "4                                          1/10/2026                        \n",
       "\n",
       "          Which of the following best describes you?  \\\n",
       "0  I am currently enrolled in a Data Science cert...   \n",
       "1  I have never enrolled in any certification cou...   \n",
       "2  I am currently enrolled in a Data Science cert...   \n",
       "3  I have never enrolled in any certification cou...   \n",
       "4  I have completed a Data Science certification ...   \n",
       "\n",
       "  Please mention the name of the institute where you have completed or are currently pursuing your Data Science Certification Course.  \\\n",
       "0                           Innomatics Research Labs                                                                                    \n",
       "1                                                NaN                                                                                    \n",
       "2                                                NaN                                                                                    \n",
       "3                                                NaN                                                                                    \n",
       "4         Velagapudi ramakrishna Siddhartha college                                                                                     \n",
       "\n",
       "  In case your certification institute is \"Innomatics Research Labs\", please provide your Enrolled Batch Number.  \\\n",
       "0                                                251                                                               \n",
       "1                                                NaN                                                               \n",
       "2                                                NaN                                                               \n",
       "3                                                NaN                                                               \n",
       "4                                                 Na                                                               \n",
       "\n",
       "  Please indicate the time that suits you for your daily LIVE interaction with our Chief Data Scientist as part of your internship.  \\\n",
       "0                                6:00 to 7:00 PM IST                                                                                  \n",
       "1                                6:00 to 7:00 PM IST                                                                                  \n",
       "2                                6:00 to 7:00 PM IST                                                                                  \n",
       "3                                5:00 to 6:00 PM IST                                                                                  \n",
       "4                                6:00 to 7:00 PM IST                                                                                  \n",
       "\n",
       "  What do you think are most important skill right now for a skilled Data Scientist?  \n",
       "0  Extracting actionable insights from the raw da...                                  \n",
       "1   Extracting actionable insights from the raw data                                  \n",
       "2                                     Data Modelling                                  \n",
       "3  Extracting actionable insights from the raw da...                                  \n",
       "4  Extracting actionable insights from the raw da...                                  "
      ]
     },
     "execution_count": 3,
     "metadata": {},
     "output_type": "execute_result"
    }
   ],
   "source": [
    "df.head()"
   ]
  },
  {
   "cell_type": "code",
   "execution_count": 4,
   "id": "545349e3",
   "metadata": {},
   "outputs": [
    {
     "data": {
      "text/plain": [
       "(1000, 8)"
      ]
     },
     "execution_count": 4,
     "metadata": {},
     "output_type": "execute_result"
    }
   ],
   "source": [
    "df.shape"
   ]
  },
  {
   "cell_type": "code",
   "execution_count": 5,
   "id": "5e16893d",
   "metadata": {},
   "outputs": [
    {
     "data": {
      "text/plain": [
       "Index(['Date of Birth', 'What is your current profession?',\n",
       "       'What is the year of completion of your Highest Education Qualification?',\n",
       "       'Which of the following best describes you?',\n",
       "       'Please mention the name of the institute where you have completed or are currently pursuing your Data Science Certification Course.',\n",
       "       'In case your certification institute is \"Innomatics Research Labs\", please provide your Enrolled Batch Number.',\n",
       "       'Please indicate the time that suits you for your daily LIVE interaction with our Chief Data Scientist as part of your internship.',\n",
       "       'What do you think are most important skill right now for a skilled Data Scientist?'],\n",
       "      dtype='object')"
      ]
     },
     "execution_count": 5,
     "metadata": {},
     "output_type": "execute_result"
    }
   ],
   "source": [
    "df.columns"
   ]
  },
  {
   "cell_type": "code",
   "execution_count": 6,
   "id": "a0629d32",
   "metadata": {},
   "outputs": [
    {
     "name": "stdout",
     "output_type": "stream",
     "text": [
      "<class 'pandas.core.frame.DataFrame'>\n",
      "RangeIndex: 1000 entries, 0 to 999\n",
      "Data columns (total 8 columns):\n",
      " #   Column                                                                                                                               Non-Null Count  Dtype \n",
      "---  ------                                                                                                                               --------------  ----- \n",
      " 0   Date of Birth                                                                                                                        1000 non-null   object\n",
      " 1   What is your current profession?                                                                                                     1000 non-null   object\n",
      " 2   What is the year of completion of your Highest Education Qualification?                                                              1000 non-null   object\n",
      " 3   Which of the following best describes you?                                                                                           1000 non-null   object\n",
      " 4   Please mention the name of the institute where you have completed or are currently pursuing your Data Science Certification Course.  678 non-null    object\n",
      " 5   In case your certification institute is \"Innomatics Research Labs\", please provide your Enrolled Batch Number.                       338 non-null    object\n",
      " 6   Please indicate the time that suits you for your daily LIVE interaction with our Chief Data Scientist as part of your internship.    1000 non-null   object\n",
      " 7   What do you think are most important skill right now for a skilled Data Scientist?                                                   1000 non-null   object\n",
      "dtypes: object(8)\n",
      "memory usage: 62.6+ KB\n"
     ]
    }
   ],
   "source": [
    "df.info()"
   ]
  },
  {
   "cell_type": "code",
   "execution_count": 7,
   "id": "829e7f62",
   "metadata": {},
   "outputs": [
    {
     "data": {
      "text/html": [
       "<div>\n",
       "<style scoped>\n",
       "    .dataframe tbody tr th:only-of-type {\n",
       "        vertical-align: middle;\n",
       "    }\n",
       "\n",
       "    .dataframe tbody tr th {\n",
       "        vertical-align: top;\n",
       "    }\n",
       "\n",
       "    .dataframe thead th {\n",
       "        text-align: right;\n",
       "    }\n",
       "</style>\n",
       "<table border=\"1\" class=\"dataframe\">\n",
       "  <thead>\n",
       "    <tr style=\"text-align: right;\">\n",
       "      <th></th>\n",
       "      <th>Date of Birth</th>\n",
       "      <th>What is your current profession?</th>\n",
       "      <th>What is the year of completion of your Highest Education Qualification?</th>\n",
       "      <th>Which of the following best describes you?</th>\n",
       "      <th>Please mention the name of the institute where you have completed or are currently pursuing your Data Science Certification Course.</th>\n",
       "      <th>In case your certification institute is \"Innomatics Research Labs\", please provide your Enrolled Batch Number.</th>\n",
       "      <th>Please indicate the time that suits you for your daily LIVE interaction with our Chief Data Scientist as part of your internship.</th>\n",
       "      <th>What do you think are most important skill right now for a skilled Data Scientist?</th>\n",
       "    </tr>\n",
       "  </thead>\n",
       "  <tbody>\n",
       "    <tr>\n",
       "      <th>8</th>\n",
       "      <td>10/30/2003</td>\n",
       "      <td>Student (I am currently enrolled in some Educa...</td>\n",
       "      <td>4/30/2025</td>\n",
       "      <td>I have never enrolled in any certification cou...</td>\n",
       "      <td>NaN</td>\n",
       "      <td>NaN</td>\n",
       "      <td>6:00 to 7:00 PM IST</td>\n",
       "      <td>Basics of backend application development usin...</td>\n",
       "    </tr>\n",
       "    <tr>\n",
       "      <th>221</th>\n",
       "      <td>3/22/2004</td>\n",
       "      <td>Student (I am currently enrolled in some Educa...</td>\n",
       "      <td>5/31/2025</td>\n",
       "      <td>I am currently enrolled in a Data Science cert...</td>\n",
       "      <td>Cisco networking academy</td>\n",
       "      <td>NaN</td>\n",
       "      <td>6:00 to 7:00 PM IST</td>\n",
       "      <td>Extracting actionable insights from the raw da...</td>\n",
       "    </tr>\n",
       "    <tr>\n",
       "      <th>341</th>\n",
       "      <td>3/22/2004</td>\n",
       "      <td>Student (I am currently enrolled in some Educa...</td>\n",
       "      <td>5/31/2025</td>\n",
       "      <td>I am currently enrolled in a Data Science cert...</td>\n",
       "      <td>Cisco networking academy</td>\n",
       "      <td>NaN</td>\n",
       "      <td>6:00 to 7:00 PM IST</td>\n",
       "      <td>Extracting actionable insights from the raw da...</td>\n",
       "    </tr>\n",
       "    <tr>\n",
       "      <th>384</th>\n",
       "      <td>10/30/2003</td>\n",
       "      <td>Student (I am currently enrolled in some Educa...</td>\n",
       "      <td>4/30/2025</td>\n",
       "      <td>I have never enrolled in any certification cou...</td>\n",
       "      <td>NaN</td>\n",
       "      <td>NaN</td>\n",
       "      <td>6:00 to 7:00 PM IST</td>\n",
       "      <td>Basics of backend application development usin...</td>\n",
       "    </tr>\n",
       "  </tbody>\n",
       "</table>\n",
       "</div>"
      ],
      "text/plain": [
       "    Date of Birth                   What is your current profession?  \\\n",
       "8      10/30/2003  Student (I am currently enrolled in some Educa...   \n",
       "221     3/22/2004  Student (I am currently enrolled in some Educa...   \n",
       "341     3/22/2004  Student (I am currently enrolled in some Educa...   \n",
       "384    10/30/2003  Student (I am currently enrolled in some Educa...   \n",
       "\n",
       "    What is the year of completion of your Highest Education Qualification?  \\\n",
       "8                                            4/30/2025                        \n",
       "221                                          5/31/2025                        \n",
       "341                                          5/31/2025                        \n",
       "384                                          4/30/2025                        \n",
       "\n",
       "            Which of the following best describes you?  \\\n",
       "8    I have never enrolled in any certification cou...   \n",
       "221  I am currently enrolled in a Data Science cert...   \n",
       "341  I am currently enrolled in a Data Science cert...   \n",
       "384  I have never enrolled in any certification cou...   \n",
       "\n",
       "    Please mention the name of the institute where you have completed or are currently pursuing your Data Science Certification Course.  \\\n",
       "8                                                  NaN                                                                                    \n",
       "221                          Cisco networking academy                                                                                     \n",
       "341                          Cisco networking academy                                                                                     \n",
       "384                                                NaN                                                                                    \n",
       "\n",
       "    In case your certification institute is \"Innomatics Research Labs\", please provide your Enrolled Batch Number.  \\\n",
       "8                                                  NaN                                                               \n",
       "221                                                NaN                                                               \n",
       "341                                                NaN                                                               \n",
       "384                                                NaN                                                               \n",
       "\n",
       "    Please indicate the time that suits you for your daily LIVE interaction with our Chief Data Scientist as part of your internship.  \\\n",
       "8                                  6:00 to 7:00 PM IST                                                                                  \n",
       "221                                6:00 to 7:00 PM IST                                                                                  \n",
       "341                                6:00 to 7:00 PM IST                                                                                  \n",
       "384                                6:00 to 7:00 PM IST                                                                                  \n",
       "\n",
       "    What do you think are most important skill right now for a skilled Data Scientist?  \n",
       "8    Basics of backend application development usin...                                  \n",
       "221  Extracting actionable insights from the raw da...                                  \n",
       "341  Extracting actionable insights from the raw da...                                  \n",
       "384  Basics of backend application development usin...                                  "
      ]
     },
     "execution_count": 7,
     "metadata": {},
     "output_type": "execute_result"
    }
   ],
   "source": [
    "df[df.duplicated(keep = False)]"
   ]
  },
  {
   "cell_type": "code",
   "execution_count": 8,
   "id": "18dd87ca",
   "metadata": {},
   "outputs": [
    {
     "data": {
      "text/html": [
       "<div>\n",
       "<style scoped>\n",
       "    .dataframe tbody tr th:only-of-type {\n",
       "        vertical-align: middle;\n",
       "    }\n",
       "\n",
       "    .dataframe tbody tr th {\n",
       "        vertical-align: top;\n",
       "    }\n",
       "\n",
       "    .dataframe thead th {\n",
       "        text-align: right;\n",
       "    }\n",
       "</style>\n",
       "<table border=\"1\" class=\"dataframe\">\n",
       "  <thead>\n",
       "    <tr style=\"text-align: right;\">\n",
       "      <th></th>\n",
       "      <th>Date of Birth</th>\n",
       "      <th>What is your current profession?</th>\n",
       "      <th>What is the year of completion of your Highest Education Qualification?</th>\n",
       "      <th>Which of the following best describes you?</th>\n",
       "      <th>Please mention the name of the institute where you have completed or are currently pursuing your Data Science Certification Course.</th>\n",
       "      <th>In case your certification institute is \"Innomatics Research Labs\", please provide your Enrolled Batch Number.</th>\n",
       "      <th>Please indicate the time that suits you for your daily LIVE interaction with our Chief Data Scientist as part of your internship.</th>\n",
       "      <th>What do you think are most important skill right now for a skilled Data Scientist?</th>\n",
       "    </tr>\n",
       "  </thead>\n",
       "  <tbody>\n",
       "    <tr>\n",
       "      <th>0</th>\n",
       "      <td>9/16/2000</td>\n",
       "      <td>Fresher (I have completed my Education and loo...</td>\n",
       "      <td>7/30/2023</td>\n",
       "      <td>I am currently enrolled in a Data Science cert...</td>\n",
       "      <td>Innomatics Research Labs</td>\n",
       "      <td>251</td>\n",
       "      <td>6:00 to 7:00 PM IST</td>\n",
       "      <td>Extracting actionable insights from the raw da...</td>\n",
       "    </tr>\n",
       "    <tr>\n",
       "      <th>1</th>\n",
       "      <td>2/6/1998</td>\n",
       "      <td>Fresher (I have completed my Education and loo...</td>\n",
       "      <td>5/18/2022</td>\n",
       "      <td>I have never enrolled in any certification cou...</td>\n",
       "      <td>NaN</td>\n",
       "      <td>NaN</td>\n",
       "      <td>6:00 to 7:00 PM IST</td>\n",
       "      <td>Extracting actionable insights from the raw data</td>\n",
       "    </tr>\n",
       "    <tr>\n",
       "      <th>2</th>\n",
       "      <td>10/8/2003</td>\n",
       "      <td>Student (I am currently enrolled in some Educa...</td>\n",
       "      <td>4/1/2025</td>\n",
       "      <td>I am currently enrolled in a Data Science cert...</td>\n",
       "      <td>NaN</td>\n",
       "      <td>NaN</td>\n",
       "      <td>6:00 to 7:00 PM IST</td>\n",
       "      <td>Data Modelling</td>\n",
       "    </tr>\n",
       "    <tr>\n",
       "      <th>3</th>\n",
       "      <td>11/29/2001</td>\n",
       "      <td>Student (I am currently enrolled in some Educa...</td>\n",
       "      <td>5/15/2024</td>\n",
       "      <td>I have never enrolled in any certification cou...</td>\n",
       "      <td>NaN</td>\n",
       "      <td>NaN</td>\n",
       "      <td>5:00 to 6:00 PM IST</td>\n",
       "      <td>Extracting actionable insights from the raw da...</td>\n",
       "    </tr>\n",
       "    <tr>\n",
       "      <th>4</th>\n",
       "      <td>11/25/2004</td>\n",
       "      <td>Student (I am currently enrolled in some Educa...</td>\n",
       "      <td>1/10/2026</td>\n",
       "      <td>I have completed a Data Science certification ...</td>\n",
       "      <td>Velagapudi ramakrishna Siddhartha college</td>\n",
       "      <td>Na</td>\n",
       "      <td>6:00 to 7:00 PM IST</td>\n",
       "      <td>Extracting actionable insights from the raw da...</td>\n",
       "    </tr>\n",
       "    <tr>\n",
       "      <th>...</th>\n",
       "      <td>...</td>\n",
       "      <td>...</td>\n",
       "      <td>...</td>\n",
       "      <td>...</td>\n",
       "      <td>...</td>\n",
       "      <td>...</td>\n",
       "      <td>...</td>\n",
       "      <td>...</td>\n",
       "    </tr>\n",
       "    <tr>\n",
       "      <th>995</th>\n",
       "      <td>8/28/1998</td>\n",
       "      <td>Fresher (I have completed my Education and loo...</td>\n",
       "      <td>11/15/2022</td>\n",
       "      <td>I have completed a Data Science certification ...</td>\n",
       "      <td>DevTown</td>\n",
       "      <td>NaN</td>\n",
       "      <td>6:00 to 7:00 PM IST</td>\n",
       "      <td>Extracting actionable insights from the raw da...</td>\n",
       "    </tr>\n",
       "    <tr>\n",
       "      <th>996</th>\n",
       "      <td>4/22/2004</td>\n",
       "      <td>Student (I am currently enrolled in some Educa...</td>\n",
       "      <td>7/23/2026</td>\n",
       "      <td>I am currently enrolled in a Data Science cert...</td>\n",
       "      <td>ONLINE COURSE</td>\n",
       "      <td>NaN</td>\n",
       "      <td>6:00 to 7:00 PM IST</td>\n",
       "      <td>LLMs</td>\n",
       "    </tr>\n",
       "    <tr>\n",
       "      <th>997</th>\n",
       "      <td>6/8/2000</td>\n",
       "      <td>Student (I am currently enrolled in some Educa...</td>\n",
       "      <td>5/31/2024</td>\n",
       "      <td>I have completed a Data Science certification ...</td>\n",
       "      <td>Chandigarh University</td>\n",
       "      <td>NaN</td>\n",
       "      <td>6:00 to 7:00 PM IST</td>\n",
       "      <td>Extracting actionable insights from the raw da...</td>\n",
       "    </tr>\n",
       "    <tr>\n",
       "      <th>998</th>\n",
       "      <td>6/3/2003</td>\n",
       "      <td>Student (I am currently enrolled in some Educa...</td>\n",
       "      <td>5/30/2025</td>\n",
       "      <td>I have never enrolled in any certification cou...</td>\n",
       "      <td>NaN</td>\n",
       "      <td>NaN</td>\n",
       "      <td>6:00 to 7:00 PM IST</td>\n",
       "      <td>Extracting actionable insights from the raw da...</td>\n",
       "    </tr>\n",
       "    <tr>\n",
       "      <th>999</th>\n",
       "      <td>7/24/2003</td>\n",
       "      <td>Student (I am currently enrolled in some Educa...</td>\n",
       "      <td>5/25/2025</td>\n",
       "      <td>I am currently enrolled in a Data Science cert...</td>\n",
       "      <td>Birla Institute of Technology and Science, Pil...</td>\n",
       "      <td>NaN</td>\n",
       "      <td>6:00 to 7:00 PM IST</td>\n",
       "      <td>LLMs, MLOps, Prompt Engineering</td>\n",
       "    </tr>\n",
       "  </tbody>\n",
       "</table>\n",
       "<p>998 rows × 8 columns</p>\n",
       "</div>"
      ],
      "text/plain": [
       "    Date of Birth                   What is your current profession?  \\\n",
       "0       9/16/2000  Fresher (I have completed my Education and loo...   \n",
       "1        2/6/1998  Fresher (I have completed my Education and loo...   \n",
       "2       10/8/2003  Student (I am currently enrolled in some Educa...   \n",
       "3      11/29/2001  Student (I am currently enrolled in some Educa...   \n",
       "4      11/25/2004  Student (I am currently enrolled in some Educa...   \n",
       "..            ...                                                ...   \n",
       "995     8/28/1998  Fresher (I have completed my Education and loo...   \n",
       "996     4/22/2004  Student (I am currently enrolled in some Educa...   \n",
       "997      6/8/2000  Student (I am currently enrolled in some Educa...   \n",
       "998      6/3/2003  Student (I am currently enrolled in some Educa...   \n",
       "999     7/24/2003  Student (I am currently enrolled in some Educa...   \n",
       "\n",
       "    What is the year of completion of your Highest Education Qualification?  \\\n",
       "0                                            7/30/2023                        \n",
       "1                                            5/18/2022                        \n",
       "2                                             4/1/2025                        \n",
       "3                                            5/15/2024                        \n",
       "4                                            1/10/2026                        \n",
       "..                                                 ...                        \n",
       "995                                         11/15/2022                        \n",
       "996                                          7/23/2026                        \n",
       "997                                          5/31/2024                        \n",
       "998                                          5/30/2025                        \n",
       "999                                          5/25/2025                        \n",
       "\n",
       "            Which of the following best describes you?  \\\n",
       "0    I am currently enrolled in a Data Science cert...   \n",
       "1    I have never enrolled in any certification cou...   \n",
       "2    I am currently enrolled in a Data Science cert...   \n",
       "3    I have never enrolled in any certification cou...   \n",
       "4    I have completed a Data Science certification ...   \n",
       "..                                                 ...   \n",
       "995  I have completed a Data Science certification ...   \n",
       "996  I am currently enrolled in a Data Science cert...   \n",
       "997  I have completed a Data Science certification ...   \n",
       "998  I have never enrolled in any certification cou...   \n",
       "999  I am currently enrolled in a Data Science cert...   \n",
       "\n",
       "    Please mention the name of the institute where you have completed or are currently pursuing your Data Science Certification Course.  \\\n",
       "0                             Innomatics Research Labs                                                                                    \n",
       "1                                                  NaN                                                                                    \n",
       "2                                                  NaN                                                                                    \n",
       "3                                                  NaN                                                                                    \n",
       "4           Velagapudi ramakrishna Siddhartha college                                                                                     \n",
       "..                                                 ...                                                                                    \n",
       "995                                            DevTown                                                                                    \n",
       "996                                     ONLINE COURSE                                                                                     \n",
       "997                             Chandigarh University                                                                                     \n",
       "998                                                NaN                                                                                    \n",
       "999  Birla Institute of Technology and Science, Pil...                                                                                    \n",
       "\n",
       "    In case your certification institute is \"Innomatics Research Labs\", please provide your Enrolled Batch Number.  \\\n",
       "0                                                  251                                                               \n",
       "1                                                  NaN                                                               \n",
       "2                                                  NaN                                                               \n",
       "3                                                  NaN                                                               \n",
       "4                                                   Na                                                               \n",
       "..                                                 ...                                                               \n",
       "995                                                NaN                                                               \n",
       "996                                                NaN                                                               \n",
       "997                                                NaN                                                               \n",
       "998                                                NaN                                                               \n",
       "999                                                NaN                                                               \n",
       "\n",
       "    Please indicate the time that suits you for your daily LIVE interaction with our Chief Data Scientist as part of your internship.  \\\n",
       "0                                  6:00 to 7:00 PM IST                                                                                  \n",
       "1                                  6:00 to 7:00 PM IST                                                                                  \n",
       "2                                  6:00 to 7:00 PM IST                                                                                  \n",
       "3                                  5:00 to 6:00 PM IST                                                                                  \n",
       "4                                  6:00 to 7:00 PM IST                                                                                  \n",
       "..                                                 ...                                                                                  \n",
       "995                                6:00 to 7:00 PM IST                                                                                  \n",
       "996                                6:00 to 7:00 PM IST                                                                                  \n",
       "997                                6:00 to 7:00 PM IST                                                                                  \n",
       "998                                6:00 to 7:00 PM IST                                                                                  \n",
       "999                                6:00 to 7:00 PM IST                                                                                  \n",
       "\n",
       "    What do you think are most important skill right now for a skilled Data Scientist?  \n",
       "0    Extracting actionable insights from the raw da...                                  \n",
       "1     Extracting actionable insights from the raw data                                  \n",
       "2                                       Data Modelling                                  \n",
       "3    Extracting actionable insights from the raw da...                                  \n",
       "4    Extracting actionable insights from the raw da...                                  \n",
       "..                                                 ...                                  \n",
       "995  Extracting actionable insights from the raw da...                                  \n",
       "996                                               LLMs                                  \n",
       "997  Extracting actionable insights from the raw da...                                  \n",
       "998  Extracting actionable insights from the raw da...                                  \n",
       "999                    LLMs, MLOps, Prompt Engineering                                  \n",
       "\n",
       "[998 rows x 8 columns]"
      ]
     },
     "execution_count": 8,
     "metadata": {},
     "output_type": "execute_result"
    }
   ],
   "source": [
    "df.drop_duplicates()"
   ]
  },
  {
   "cell_type": "code",
   "execution_count": 9,
   "id": "a940e45f",
   "metadata": {},
   "outputs": [],
   "source": [
    "df.columns = ['dob', 'current_profession', 'degree_yoc', 'ds_course_enrolment', 'ds_course_institute', 'innomatics_batch_number',\n",
    "              'internship_timing_preference', 'ds_imp_skills']"
   ]
  },
  {
   "cell_type": "code",
   "execution_count": 10,
   "id": "7f944915",
   "metadata": {},
   "outputs": [
    {
     "data": {
      "text/plain": [
       "Index(['dob', 'current_profession', 'degree_yoc', 'ds_course_enrolment',\n",
       "       'ds_course_institute', 'innomatics_batch_number',\n",
       "       'internship_timing_preference', 'ds_imp_skills'],\n",
       "      dtype='object')"
      ]
     },
     "execution_count": 10,
     "metadata": {},
     "output_type": "execute_result"
    }
   ],
   "source": [
    "df.columns"
   ]
  },
  {
   "cell_type": "markdown",
   "id": "c0801ce2",
   "metadata": {},
   "source": [
    "### 1.What is the current profession of most interns?"
   ]
  },
  {
   "cell_type": "code",
   "execution_count": 11,
   "id": "9c3d09ab",
   "metadata": {},
   "outputs": [
    {
     "data": {
      "text/plain": [
       "Student (I am currently enrolled in some Educational Program)                          488\n",
       "Fresher (I have completed my Education and looking for a job now)                      424\n",
       "Working Professional (I have completed my Education and working full time)              62\n",
       "Freelancer (I have completed my Education and working part time or owns a business)     26\n",
       "Name: current_profession, dtype: int64"
      ]
     },
     "execution_count": 11,
     "metadata": {},
     "output_type": "execute_result"
    }
   ],
   "source": [
    "df['current_profession'].value_counts()"
   ]
  },
  {
   "cell_type": "code",
   "execution_count": 12,
   "id": "5508df07",
   "metadata": {},
   "outputs": [
    {
     "data": {
      "text/plain": [
       "'Student (I am currently enrolled in some Educational Program)'"
      ]
     },
     "execution_count": 12,
     "metadata": {},
     "output_type": "execute_result"
    }
   ],
   "source": [
    "df['current_profession'].value_counts().idxmax()"
   ]
  },
  {
   "cell_type": "code",
   "execution_count": null,
   "id": "84de436d",
   "metadata": {},
   "outputs": [],
   "source": []
  },
  {
   "cell_type": "markdown",
   "id": "a1541e60",
   "metadata": {},
   "source": [
    "### 2.What are the preferred LIVE session timings?"
   ]
  },
  {
   "cell_type": "code",
   "execution_count": 13,
   "id": "0b8b82f9",
   "metadata": {},
   "outputs": [
    {
     "data": {
      "text/plain": [
       "6:00 to 7:00 PM IST    672\n",
       "5:00 to 6:00 PM IST    328\n",
       "Name: internship_timing_preference, dtype: int64"
      ]
     },
     "execution_count": 13,
     "metadata": {},
     "output_type": "execute_result"
    }
   ],
   "source": [
    "df['internship_timing_preference'].value_counts()"
   ]
  },
  {
   "cell_type": "code",
   "execution_count": 14,
   "id": "e2410e33",
   "metadata": {},
   "outputs": [
    {
     "data": {
      "text/plain": [
       "'6:00 to 7:00 PM IST'"
      ]
     },
     "execution_count": 14,
     "metadata": {},
     "output_type": "execute_result"
    }
   ],
   "source": [
    "df['internship_timing_preference'].value_counts().idxmax()"
   ]
  },
  {
   "cell_type": "code",
   "execution_count": null,
   "id": "4bfd16d0",
   "metadata": {},
   "outputs": [],
   "source": []
  },
  {
   "cell_type": "markdown",
   "id": "5f4ac0f4",
   "metadata": {},
   "source": [
    "### 3.How many interns are enrolled or have completed their data science professional courses?"
   ]
  },
  {
   "cell_type": "code",
   "execution_count": 15,
   "id": "7d2bb539",
   "metadata": {},
   "outputs": [
    {
     "data": {
      "text/plain": [
       "I am currently enrolled in a Data Science certification course    405\n",
       "I have never enrolled in any certification courses                302\n",
       "I have completed a Data Science certification course              293\n",
       "Name: ds_course_enrolment, dtype: int64"
      ]
     },
     "execution_count": 15,
     "metadata": {},
     "output_type": "execute_result"
    }
   ],
   "source": [
    "df['ds_course_enrolment'].value_counts()"
   ]
  },
  {
   "cell_type": "code",
   "execution_count": 16,
   "id": "e93f8884",
   "metadata": {},
   "outputs": [
    {
     "data": {
      "text/plain": [
       "698"
      ]
     },
     "execution_count": 16,
     "metadata": {},
     "output_type": "execute_result"
    }
   ],
   "source": [
    "df['ds_course_enrolment'].value_counts().values[0] + df['ds_course_enrolment'].value_counts().values[2]"
   ]
  },
  {
   "cell_type": "code",
   "execution_count": null,
   "id": "77d846ca",
   "metadata": {},
   "outputs": [],
   "source": []
  },
  {
   "cell_type": "markdown",
   "id": "fb0f7d48",
   "metadata": {},
   "source": [
    "### 4.For interns who never enrolled in a data science certification course, what is the current profession of the majority of them?"
   ]
  },
  {
   "cell_type": "code",
   "execution_count": 17,
   "id": "fb418313",
   "metadata": {},
   "outputs": [],
   "source": [
    "grouped_df = df.groupby('ds_course_enrolment')"
   ]
  },
  {
   "cell_type": "code",
   "execution_count": 18,
   "id": "54196a3a",
   "metadata": {},
   "outputs": [
    {
     "data": {
      "text/plain": [
       "['I am currently enrolled in a Data Science certification course',\n",
       " 'I have completed a Data Science certification course',\n",
       " 'I have never enrolled in any certification courses']"
      ]
     },
     "execution_count": 18,
     "metadata": {},
     "output_type": "execute_result"
    }
   ],
   "source": [
    "group = list(grouped_df.groups.keys())\n",
    "group"
   ]
  },
  {
   "cell_type": "code",
   "execution_count": 19,
   "id": "655450a3",
   "metadata": {},
   "outputs": [
    {
     "data": {
      "text/plain": [
       "<Axes: >"
      ]
     },
     "execution_count": 19,
     "metadata": {},
     "output_type": "execute_result"
    },
    {
     "data": {
      "image/png": "[encoded data removed]",
      "text/plain": [
       "<Figure size 640x480 with 1 Axes>"
      ]
     },
     "metadata": {},
     "output_type": "display_data"
    }
   ],
   "source": [
    "grouped_df.get_group(group[0])['current_profession'].value_counts().plot(kind = 'barh')"
   ]
  },
  {
   "cell_type": "code",
   "execution_count": 20,
   "id": "e2ade9ca",
   "metadata": {},
   "outputs": [
    {
     "data": {
      "text/html": [
       "<div>\n",
       "<style scoped>\n",
       "    .dataframe tbody tr th:only-of-type {\n",
       "        vertical-align: middle;\n",
       "    }\n",
       "\n",
       "    .dataframe tbody tr th {\n",
       "        vertical-align: top;\n",
       "    }\n",
       "\n",
       "    .dataframe thead th {\n",
       "        text-align: right;\n",
       "    }\n",
       "</style>\n",
       "<table border=\"1\" class=\"dataframe\">\n",
       "  <thead>\n",
       "    <tr style=\"text-align: right;\">\n",
       "      <th>col_0</th>\n",
       "      <th>current_profession</th>\n",
       "    </tr>\n",
       "    <tr>\n",
       "      <th>ds_course_enrolment</th>\n",
       "      <th></th>\n",
       "    </tr>\n",
       "  </thead>\n",
       "  <tbody>\n",
       "    <tr>\n",
       "      <th>I am currently enrolled in a Data Science certification course</th>\n",
       "      <td>1.0</td>\n",
       "    </tr>\n",
       "    <tr>\n",
       "      <th>I have completed a Data Science certification course</th>\n",
       "      <td>1.0</td>\n",
       "    </tr>\n",
       "    <tr>\n",
       "      <th>I have never enrolled in any certification courses</th>\n",
       "      <td>1.0</td>\n",
       "    </tr>\n",
       "  </tbody>\n",
       "</table>\n",
       "</div>"
      ],
      "text/plain": [
       "col_0                                               current_profession\n",
       "ds_course_enrolment                                                   \n",
       "I am currently enrolled in a Data Science certi...                 1.0\n",
       "I have completed a Data Science certification c...                 1.0\n",
       "I have never enrolled in any certification courses                 1.0"
      ]
     },
     "execution_count": 20,
     "metadata": {},
     "output_type": "execute_result"
    }
   ],
   "source": [
    "pd.crosstab(df['ds_course_enrolment'], ['current_profession'], normalize = 'index')"
   ]
  },
  {
   "cell_type": "code",
   "execution_count": 22,
   "id": "9dde3bb0",
   "metadata": {},
   "outputs": [
    {
     "data": {
      "text/plain": [
       "<matplotlib.legend.Legend at 0x208bb00af50>"
      ]
     },
     "execution_count": 22,
     "metadata": {},
     "output_type": "execute_result"
    },
    {
     "data": {
      "image/png": "[encoded data removed]",
      "text/plain": [
       "<Figure size 640x480 with 1 Axes>"
      ]
     },
     "metadata": {},
     "output_type": "display_data"
    }
   ],
   "source": [
    "tab = pd.crosstab(df['ds_course_enrolment'], ['current_profession'], normalize = 'index')\n",
    "tab.plot(kind = 'barh')\n",
    "plt.legend(bbox_to_anchor = (1,1))"
   ]
  },
  {
   "cell_type": "code",
   "execution_count": null,
   "id": "95947ea4",
   "metadata": {},
   "outputs": [],
   "source": []
  },
  {
   "cell_type": "markdown",
   "id": "8b77f873",
   "metadata": {},
   "source": [
    "### 5.Which skill is the third most important for a data scientist?"
   ]
  },
  {
   "cell_type": "code",
   "execution_count": 23,
   "id": "6f484952",
   "metadata": {
    "collapsed": true
   },
   "outputs": [
    {
     "data": {
      "text/plain": [
       "Extracting actionable insights from the raw data, Data Modelling, LLMs, MLOps, Basics of backend application development using python, Prompt Engineering    214\n",
       "Extracting actionable insights from the raw data, Data Modelling, MLOps                                                                                       73\n",
       "Extracting actionable insights from the raw data, Data Modelling                                                                                              70\n",
       "Extracting actionable insights from the raw data, Data Modelling, LLMs, MLOps                                                                                 66\n",
       "Extracting actionable insights from the raw data, Data Modelling, Basics of backend application development using python                                      59\n",
       "Extracting actionable insights from the raw data, Data Modelling, MLOps, Basics of backend application development using python                               51\n",
       "Extracting actionable insights from the raw data, Data Modelling, LLMs, MLOps, Basics of backend application development using python                         42\n",
       "Extracting actionable insights from the raw data                                                                                                              41\n",
       "Extracting actionable insights from the raw data, Data Modelling, LLMs, MLOps, Prompt Engineering                                                             31\n",
       "Extracting actionable insights from the raw data, Data Modelling, LLMs                                                                                        31\n",
       "Extracting actionable insights from the raw data, Data Modelling, Basics of backend application development using python, Prompt Engineering                  27\n",
       "Extracting actionable insights from the raw data, Data Modelling, LLMs, Basics of backend application development using python                                25\n",
       "Extracting actionable insights from the raw data, Data Modelling, Prompt Engineering                                                                          25\n",
       "Basics of backend application development using python                                                                                                        20\n",
       "Extracting actionable insights from the raw data, Data Modelling, LLMs, Prompt Engineering                                                                    18\n",
       "Extracting actionable insights from the raw data, Data Modelling, MLOps, Prompt Engineering                                                                   14\n",
       "Data Modelling                                                                                                                                                14\n",
       "Extracting actionable insights from the raw data, Data Modelling, LLMs, Basics of backend application development using python, Prompt Engineering            13\n",
       "LLMs, MLOps, Prompt Engineering                                                                                                                               10\n",
       "Extracting actionable insights from the raw data, LLMs, MLOps                                                                                                 10\n",
       "Data Modelling, LLMs, MLOps                                                                                                                                    9\n",
       "Extracting actionable insights from the raw data, Basics of backend application development using python                                                       8\n",
       "MLOps                                                                                                                                                          8\n",
       "Data Modelling, MLOps, Basics of backend application development using python                                                                                  7\n",
       "Prompt Engineering                                                                                                                                             7\n",
       "Extracting actionable insights from the raw data, LLMs, MLOps, Prompt Engineering                                                                              6\n",
       "Extracting actionable insights from the raw data, MLOps                                                                                                        6\n",
       "Extracting actionable insights from the raw data, Data Modelling, MLOps, Basics of backend application development using python, Prompt Engineering            6\n",
       "Data Modelling, LLMs, MLOps, Prompt Engineering                                                                                                                6\n",
       "LLMs, MLOps                                                                                                                                                    5\n",
       "Basics of backend application development using python, Prompt Engineering                                                                                     5\n",
       "Extracting actionable insights from the raw data, Basics of backend application development using python, Prompt Engineering                                   5\n",
       "Extracting actionable insights from the raw data, LLMs, MLOps, Basics of backend application development using python                                          5\n",
       "Extracting actionable insights from the raw data, LLMs, Prompt Engineering                                                                                     5\n",
       "Data Modelling, Basics of backend application development using python                                                                                         4\n",
       "LLMs                                                                                                                                                           4\n",
       "Data Modelling, LLMs, MLOps, Basics of backend application development using python, Prompt Engineering                                                        4\n",
       "LLMs, MLOps, Basics of backend application development using python, Prompt Engineering                                                                        3\n",
       "Extracting actionable insights from the raw data, MLOps, Prompt Engineering                                                                                    3\n",
       "Extracting actionable insights from the raw data, Prompt Engineering                                                                                           3\n",
       "Data Modelling, LLMs, Basics of backend application development using python, Prompt Engineering                                                               3\n",
       "Data Modelling, LLMs, MLOps, Basics of backend application development using python                                                                            3\n",
       "Data Modelling, LLMs                                                                                                                                           3\n",
       "Extracting actionable insights from the raw data, LLMs, Basics of backend application development using python                                                 3\n",
       "Extracting actionable insights from the raw data, LLMs, MLOps, Basics of backend application development using python, Prompt Engineering                      2\n",
       "Data Modelling, LLMs, Prompt Engineering                                                                                                                       2\n",
       "Extracting actionable insights from the raw data, LLMs                                                                                                         2\n",
       "Data Modelling, MLOps, Basics of backend application development using python, Prompt Engineering                                                              2\n",
       "LLMs, Basics of backend application development using python, Prompt Engineering                                                                               2\n",
       "Extracting actionable insights from the raw data, LLMs, Basics of backend application development using python, Prompt Engineering                             2\n",
       "Data Modelling, MLOps                                                                                                                                          2\n",
       "LLMs, Prompt Engineering                                                                                                                                       2\n",
       "Extracting actionable insights from the raw data, MLOps, Basics of backend application development using python, Prompt Engineering                            2\n",
       "Extracting actionable insights from the raw data, MLOps, Basics of backend application development using python                                                1\n",
       "Data Modelling, MLOps, Prompt Engineering                                                                                                                      1\n",
       "LLMs, Basics of backend application development using python                                                                                                   1\n",
       "LLMs, MLOps, Basics of backend application development using python                                                                                            1\n",
       "MLOps, Basics of backend application development using python                                                                                                  1\n",
       "MLOps, Basics of backend application development using python, Prompt Engineering                                                                              1\n",
       "MLOps, Prompt Engineering                                                                                                                                      1\n",
       "Name: ds_imp_skills, dtype: int64"
      ]
     },
     "execution_count": 23,
     "metadata": {},
     "output_type": "execute_result"
    }
   ],
   "source": [
    "df['ds_imp_skills'].value_counts()"
   ]
  },
  {
   "cell_type": "code",
   "execution_count": 24,
   "id": "833935bf",
   "metadata": {},
   "outputs": [
    {
     "data": {
      "text/plain": [
       "60"
      ]
     },
     "execution_count": 24,
     "metadata": {},
     "output_type": "execute_result"
    }
   ],
   "source": [
    "df['ds_imp_skills'].nunique()"
   ]
  },
  {
   "cell_type": "code",
   "execution_count": 26,
   "id": "0c635303",
   "metadata": {},
   "outputs": [
    {
     "data": {
      "text/html": [
       "<div>\n",
       "<style scoped>\n",
       "    .dataframe tbody tr th:only-of-type {\n",
       "        vertical-align: middle;\n",
       "    }\n",
       "\n",
       "    .dataframe tbody tr th {\n",
       "        vertical-align: top;\n",
       "    }\n",
       "\n",
       "    .dataframe thead th {\n",
       "        text-align: right;\n",
       "    }\n",
       "</style>\n",
       "<table border=\"1\" class=\"dataframe\">\n",
       "  <thead>\n",
       "    <tr style=\"text-align: right;\">\n",
       "      <th></th>\n",
       "      <th>dob</th>\n",
       "      <th>current_profession</th>\n",
       "      <th>degree_yoc</th>\n",
       "      <th>ds_course_enrolment</th>\n",
       "      <th>ds_course_institute</th>\n",
       "      <th>innomatics_batch_number</th>\n",
       "      <th>internship_timing_preference</th>\n",
       "      <th>ds_imp_skills</th>\n",
       "    </tr>\n",
       "  </thead>\n",
       "  <tbody>\n",
       "    <tr>\n",
       "      <th>0</th>\n",
       "      <td>9/16/2000</td>\n",
       "      <td>Fresher (I have completed my Education and loo...</td>\n",
       "      <td>7/30/2023</td>\n",
       "      <td>I am currently enrolled in a Data Science cert...</td>\n",
       "      <td>Innomatics Research Labs</td>\n",
       "      <td>251</td>\n",
       "      <td>6:00 to 7:00 PM IST</td>\n",
       "      <td>[Extracting actionable insights from the raw d...</td>\n",
       "    </tr>\n",
       "    <tr>\n",
       "      <th>1</th>\n",
       "      <td>2/6/1998</td>\n",
       "      <td>Fresher (I have completed my Education and loo...</td>\n",
       "      <td>5/18/2022</td>\n",
       "      <td>I have never enrolled in any certification cou...</td>\n",
       "      <td>NaN</td>\n",
       "      <td>NaN</td>\n",
       "      <td>6:00 to 7:00 PM IST</td>\n",
       "      <td>[Extracting actionable insights from the raw d...</td>\n",
       "    </tr>\n",
       "    <tr>\n",
       "      <th>2</th>\n",
       "      <td>10/8/2003</td>\n",
       "      <td>Student (I am currently enrolled in some Educa...</td>\n",
       "      <td>4/1/2025</td>\n",
       "      <td>I am currently enrolled in a Data Science cert...</td>\n",
       "      <td>NaN</td>\n",
       "      <td>NaN</td>\n",
       "      <td>6:00 to 7:00 PM IST</td>\n",
       "      <td>[Data Modelling]</td>\n",
       "    </tr>\n",
       "    <tr>\n",
       "      <th>3</th>\n",
       "      <td>11/29/2001</td>\n",
       "      <td>Student (I am currently enrolled in some Educa...</td>\n",
       "      <td>5/15/2024</td>\n",
       "      <td>I have never enrolled in any certification cou...</td>\n",
       "      <td>NaN</td>\n",
       "      <td>NaN</td>\n",
       "      <td>5:00 to 6:00 PM IST</td>\n",
       "      <td>[Extracting actionable insights from the raw d...</td>\n",
       "    </tr>\n",
       "    <tr>\n",
       "      <th>4</th>\n",
       "      <td>11/25/2004</td>\n",
       "      <td>Student (I am currently enrolled in some Educa...</td>\n",
       "      <td>1/10/2026</td>\n",
       "      <td>I have completed a Data Science certification ...</td>\n",
       "      <td>Velagapudi ramakrishna Siddhartha college</td>\n",
       "      <td>Na</td>\n",
       "      <td>6:00 to 7:00 PM IST</td>\n",
       "      <td>[Extracting actionable insights from the raw d...</td>\n",
       "    </tr>\n",
       "  </tbody>\n",
       "</table>\n",
       "</div>"
      ],
      "text/plain": [
       "          dob                                 current_profession degree_yoc  \\\n",
       "0   9/16/2000  Fresher (I have completed my Education and loo...  7/30/2023   \n",
       "1    2/6/1998  Fresher (I have completed my Education and loo...  5/18/2022   \n",
       "2   10/8/2003  Student (I am currently enrolled in some Educa...   4/1/2025   \n",
       "3  11/29/2001  Student (I am currently enrolled in some Educa...  5/15/2024   \n",
       "4  11/25/2004  Student (I am currently enrolled in some Educa...  1/10/2026   \n",
       "\n",
       "                                 ds_course_enrolment  \\\n",
       "0  I am currently enrolled in a Data Science cert...   \n",
       "1  I have never enrolled in any certification cou...   \n",
       "2  I am currently enrolled in a Data Science cert...   \n",
       "3  I have never enrolled in any certification cou...   \n",
       "4  I have completed a Data Science certification ...   \n",
       "\n",
       "                          ds_course_institute innomatics_batch_number  \\\n",
       "0                    Innomatics Research Labs                     251   \n",
       "1                                         NaN                     NaN   \n",
       "2                                         NaN                     NaN   \n",
       "3                                         NaN                     NaN   \n",
       "4  Velagapudi ramakrishna Siddhartha college                       Na   \n",
       "\n",
       "  internship_timing_preference  \\\n",
       "0          6:00 to 7:00 PM IST   \n",
       "1          6:00 to 7:00 PM IST   \n",
       "2          6:00 to 7:00 PM IST   \n",
       "3          5:00 to 6:00 PM IST   \n",
       "4          6:00 to 7:00 PM IST   \n",
       "\n",
       "                                       ds_imp_skills  \n",
       "0  [Extracting actionable insights from the raw d...  \n",
       "1  [Extracting actionable insights from the raw d...  \n",
       "2                                   [Data Modelling]  \n",
       "3  [Extracting actionable insights from the raw d...  \n",
       "4  [Extracting actionable insights from the raw d...  "
      ]
     },
     "execution_count": 26,
     "metadata": {},
     "output_type": "execute_result"
    }
   ],
   "source": [
    "df['ds_imp_skills'] = df['ds_imp_skills'].apply(lambda skills: skills.split(\",\"))\n",
    "df.head()"
   ]
  },
  {
   "cell_type": "code",
   "execution_count": 27,
   "id": "8d70b3fe",
   "metadata": {},
   "outputs": [
    {
     "data": {
      "text/html": [
       "<div>\n",
       "<style scoped>\n",
       "    .dataframe tbody tr th:only-of-type {\n",
       "        vertical-align: middle;\n",
       "    }\n",
       "\n",
       "    .dataframe tbody tr th {\n",
       "        vertical-align: top;\n",
       "    }\n",
       "\n",
       "    .dataframe thead th {\n",
       "        text-align: right;\n",
       "    }\n",
       "</style>\n",
       "<table border=\"1\" class=\"dataframe\">\n",
       "  <thead>\n",
       "    <tr style=\"text-align: right;\">\n",
       "      <th></th>\n",
       "      <th>dob</th>\n",
       "      <th>current_profession</th>\n",
       "      <th>degree_yoc</th>\n",
       "      <th>ds_course_enrolment</th>\n",
       "      <th>ds_course_institute</th>\n",
       "      <th>innomatics_batch_number</th>\n",
       "      <th>internship_timing_preference</th>\n",
       "      <th>ds_imp_skills</th>\n",
       "    </tr>\n",
       "  </thead>\n",
       "  <tbody>\n",
       "    <tr>\n",
       "      <th>0</th>\n",
       "      <td>9/16/2000</td>\n",
       "      <td>Fresher (I have completed my Education and loo...</td>\n",
       "      <td>7/30/2023</td>\n",
       "      <td>I am currently enrolled in a Data Science cert...</td>\n",
       "      <td>Innomatics Research Labs</td>\n",
       "      <td>251</td>\n",
       "      <td>6:00 to 7:00 PM IST</td>\n",
       "      <td>Extracting actionable insights from the raw data</td>\n",
       "    </tr>\n",
       "    <tr>\n",
       "      <th>0</th>\n",
       "      <td>9/16/2000</td>\n",
       "      <td>Fresher (I have completed my Education and loo...</td>\n",
       "      <td>7/30/2023</td>\n",
       "      <td>I am currently enrolled in a Data Science cert...</td>\n",
       "      <td>Innomatics Research Labs</td>\n",
       "      <td>251</td>\n",
       "      <td>6:00 to 7:00 PM IST</td>\n",
       "      <td>Data Modelling</td>\n",
       "    </tr>\n",
       "    <tr>\n",
       "      <th>0</th>\n",
       "      <td>9/16/2000</td>\n",
       "      <td>Fresher (I have completed my Education and loo...</td>\n",
       "      <td>7/30/2023</td>\n",
       "      <td>I am currently enrolled in a Data Science cert...</td>\n",
       "      <td>Innomatics Research Labs</td>\n",
       "      <td>251</td>\n",
       "      <td>6:00 to 7:00 PM IST</td>\n",
       "      <td>LLMs</td>\n",
       "    </tr>\n",
       "    <tr>\n",
       "      <th>0</th>\n",
       "      <td>9/16/2000</td>\n",
       "      <td>Fresher (I have completed my Education and loo...</td>\n",
       "      <td>7/30/2023</td>\n",
       "      <td>I am currently enrolled in a Data Science cert...</td>\n",
       "      <td>Innomatics Research Labs</td>\n",
       "      <td>251</td>\n",
       "      <td>6:00 to 7:00 PM IST</td>\n",
       "      <td>MLOps</td>\n",
       "    </tr>\n",
       "    <tr>\n",
       "      <th>0</th>\n",
       "      <td>9/16/2000</td>\n",
       "      <td>Fresher (I have completed my Education and loo...</td>\n",
       "      <td>7/30/2023</td>\n",
       "      <td>I am currently enrolled in a Data Science cert...</td>\n",
       "      <td>Innomatics Research Labs</td>\n",
       "      <td>251</td>\n",
       "      <td>6:00 to 7:00 PM IST</td>\n",
       "      <td>Basics of backend application development usi...</td>\n",
       "    </tr>\n",
       "  </tbody>\n",
       "</table>\n",
       "</div>"
      ],
      "text/plain": [
       "         dob                                 current_profession degree_yoc  \\\n",
       "0  9/16/2000  Fresher (I have completed my Education and loo...  7/30/2023   \n",
       "0  9/16/2000  Fresher (I have completed my Education and loo...  7/30/2023   \n",
       "0  9/16/2000  Fresher (I have completed my Education and loo...  7/30/2023   \n",
       "0  9/16/2000  Fresher (I have completed my Education and loo...  7/30/2023   \n",
       "0  9/16/2000  Fresher (I have completed my Education and loo...  7/30/2023   \n",
       "\n",
       "                                 ds_course_enrolment  \\\n",
       "0  I am currently enrolled in a Data Science cert...   \n",
       "0  I am currently enrolled in a Data Science cert...   \n",
       "0  I am currently enrolled in a Data Science cert...   \n",
       "0  I am currently enrolled in a Data Science cert...   \n",
       "0  I am currently enrolled in a Data Science cert...   \n",
       "\n",
       "        ds_course_institute innomatics_batch_number  \\\n",
       "0  Innomatics Research Labs                     251   \n",
       "0  Innomatics Research Labs                     251   \n",
       "0  Innomatics Research Labs                     251   \n",
       "0  Innomatics Research Labs                     251   \n",
       "0  Innomatics Research Labs                     251   \n",
       "\n",
       "  internship_timing_preference  \\\n",
       "0          6:00 to 7:00 PM IST   \n",
       "0          6:00 to 7:00 PM IST   \n",
       "0          6:00 to 7:00 PM IST   \n",
       "0          6:00 to 7:00 PM IST   \n",
       "0          6:00 to 7:00 PM IST   \n",
       "\n",
       "                                       ds_imp_skills  \n",
       "0   Extracting actionable insights from the raw data  \n",
       "0                                     Data Modelling  \n",
       "0                                               LLMs  \n",
       "0                                              MLOps  \n",
       "0   Basics of backend application development usi...  "
      ]
     },
     "execution_count": 27,
     "metadata": {},
     "output_type": "execute_result"
    }
   ],
   "source": [
    "exploded_df = df.explode('ds_imp_skills')\n",
    "exploded_df.head()"
   ]
  },
  {
   "cell_type": "code",
   "execution_count": 28,
   "id": "859e62c6",
   "metadata": {},
   "outputs": [
    {
     "data": {
      "text/plain": [
       "Extracting actionable insights from the raw data           869\n",
       " Data Modelling                                            765\n",
       " MLOps                                                     585\n",
       " LLMs                                                      505\n",
       " Basics of backend application development using python    497\n",
       " Prompt Engineering                                        418\n",
       "Data Modelling                                              60\n",
       "LLMs                                                        28\n",
       "Basics of backend application development using python      25\n",
       "MLOps                                                       11\n",
       "Prompt Engineering                                           7\n",
       "Name: ds_imp_skills, dtype: int64"
      ]
     },
     "execution_count": 28,
     "metadata": {},
     "output_type": "execute_result"
    }
   ],
   "source": [
    "exploded_df['ds_imp_skills'].value_counts()"
   ]
  },
  {
   "cell_type": "code",
   "execution_count": 29,
   "id": "3455929c",
   "metadata": {},
   "outputs": [
    {
     "data": {
      "text/plain": [
       "Extracting actionable insights from the raw data          869\n",
       "Data Modelling                                            825\n",
       "MLOps                                                     596\n",
       "LLMs                                                      533\n",
       "Basics of backend application development using python    522\n",
       "Prompt Engineering                                        425\n",
       "Name: ds_imp_skills, dtype: int64"
      ]
     },
     "execution_count": 29,
     "metadata": {},
     "output_type": "execute_result"
    }
   ],
   "source": [
    "exploded_df['ds_imp_skills'] = exploded_df['ds_imp_skills'].str.strip()\n",
    "exploded_df['ds_imp_skills'].value_counts()"
   ]
  },
  {
   "cell_type": "code",
   "execution_count": 30,
   "id": "22c2a88e",
   "metadata": {},
   "outputs": [
    {
     "data": {
      "text/plain": [
       "'MLOps'"
      ]
     },
     "execution_count": 30,
     "metadata": {},
     "output_type": "execute_result"
    }
   ],
   "source": [
    "exploded_df['ds_imp_skills'].value_counts().index[2]"
   ]
  },
  {
   "cell_type": "code",
   "execution_count": null,
   "id": "cba3b7d7",
   "metadata": {},
   "outputs": [],
   "source": []
  },
  {
   "cell_type": "markdown",
   "id": "813fe469",
   "metadata": {},
   "source": [
    "### 6.How many interns selected “Prompt Engineering” as the most important skill?"
   ]
  },
  {
   "cell_type": "code",
   "execution_count": 32,
   "id": "77b8c4ed",
   "metadata": {},
   "outputs": [
    {
     "data": {
      "text/plain": [
       "425"
      ]
     },
     "execution_count": 32,
     "metadata": {},
     "output_type": "execute_result"
    }
   ],
   "source": [
    "exploded_df['ds_imp_skills'].value_counts()['Prompt Engineering']"
   ]
  },
  {
   "cell_type": "code",
   "execution_count": null,
   "id": "5f5abeb6",
   "metadata": {},
   "outputs": [],
   "source": []
  },
  {
   "cell_type": "markdown",
   "id": "f98b8a23",
   "metadata": {},
   "source": [
    "### Let’s now analyze the age groups of fellow interns."
   ]
  },
  {
   "cell_type": "markdown",
   "id": "66cf98df",
   "metadata": {},
   "source": [
    "### 7.What is the minimum age of an intern at Innomatics Research Labs?"
   ]
  },
  {
   "cell_type": "code",
   "execution_count": 35,
   "id": "4ffac6a0",
   "metadata": {},
   "outputs": [
    {
     "name": "stdout",
     "output_type": "stream",
     "text": [
      "<class 'pandas.core.frame.DataFrame'>\n",
      "RangeIndex: 1000 entries, 0 to 999\n",
      "Data columns (total 8 columns):\n",
      " #   Column                        Non-Null Count  Dtype         \n",
      "---  ------                        --------------  -----         \n",
      " 0   dob                           1000 non-null   datetime64[ns]\n",
      " 1   current_profession            1000 non-null   object        \n",
      " 2   degree_yoc                    1000 non-null   object        \n",
      " 3   ds_course_enrolment           1000 non-null   object        \n",
      " 4   ds_course_institute           678 non-null    object        \n",
      " 5   innomatics_batch_number       338 non-null    object        \n",
      " 6   internship_timing_preference  1000 non-null   object        \n",
      " 7   ds_imp_skills                 1000 non-null   object        \n",
      "dtypes: datetime64[ns](1), object(7)\n",
      "memory usage: 62.6+ KB\n"
     ]
    }
   ],
   "source": [
    "df['dob'] = pd.to_datetime(df['dob'])\n",
    "df.info()"
   ]
  },
  {
   "cell_type": "code",
   "execution_count": 36,
   "id": "10212406",
   "metadata": {},
   "outputs": [],
   "source": [
    "today = pd.to_datetime('today')\n",
    "df['age_1'] = today.year - df['dob'].dt.year\n",
    "df['age_2'] = df['dob'].apply(lambda birthday: today.year - birthday.year - ((today.month, today.day) < (birthday.month, birthday.day)))"
   ]
  },
  {
   "cell_type": "code",
   "execution_count": 37,
   "id": "af8eb1ba",
   "metadata": {},
   "outputs": [
    {
     "data": {
      "text/html": [
       "<div>\n",
       "<style scoped>\n",
       "    .dataframe tbody tr th:only-of-type {\n",
       "        vertical-align: middle;\n",
       "    }\n",
       "\n",
       "    .dataframe tbody tr th {\n",
       "        vertical-align: top;\n",
       "    }\n",
       "\n",
       "    .dataframe thead th {\n",
       "        text-align: right;\n",
       "    }\n",
       "</style>\n",
       "<table border=\"1\" class=\"dataframe\">\n",
       "  <thead>\n",
       "    <tr style=\"text-align: right;\">\n",
       "      <th></th>\n",
       "      <th>age_1</th>\n",
       "      <th>age_2</th>\n",
       "    </tr>\n",
       "  </thead>\n",
       "  <tbody>\n",
       "    <tr>\n",
       "      <th>count</th>\n",
       "      <td>1000.00000</td>\n",
       "      <td>1000.000000</td>\n",
       "    </tr>\n",
       "    <tr>\n",
       "      <th>mean</th>\n",
       "      <td>23.32500</td>\n",
       "      <td>22.482000</td>\n",
       "    </tr>\n",
       "    <tr>\n",
       "      <th>std</th>\n",
       "      <td>3.29822</td>\n",
       "      <td>3.296444</td>\n",
       "    </tr>\n",
       "    <tr>\n",
       "      <th>min</th>\n",
       "      <td>0.00000</td>\n",
       "      <td>-1.000000</td>\n",
       "    </tr>\n",
       "    <tr>\n",
       "      <th>25%</th>\n",
       "      <td>21.00000</td>\n",
       "      <td>21.000000</td>\n",
       "    </tr>\n",
       "    <tr>\n",
       "      <th>50%</th>\n",
       "      <td>23.00000</td>\n",
       "      <td>22.000000</td>\n",
       "    </tr>\n",
       "    <tr>\n",
       "      <th>75%</th>\n",
       "      <td>24.00000</td>\n",
       "      <td>23.000000</td>\n",
       "    </tr>\n",
       "    <tr>\n",
       "      <th>max</th>\n",
       "      <td>44.00000</td>\n",
       "      <td>43.000000</td>\n",
       "    </tr>\n",
       "  </tbody>\n",
       "</table>\n",
       "</div>"
      ],
      "text/plain": [
       "            age_1        age_2\n",
       "count  1000.00000  1000.000000\n",
       "mean     23.32500    22.482000\n",
       "std       3.29822     3.296444\n",
       "min       0.00000    -1.000000\n",
       "25%      21.00000    21.000000\n",
       "50%      23.00000    22.000000\n",
       "75%      24.00000    23.000000\n",
       "max      44.00000    43.000000"
      ]
     },
     "execution_count": 37,
     "metadata": {},
     "output_type": "execute_result"
    }
   ],
   "source": [
    "df.describe()"
   ]
  },
  {
   "cell_type": "code",
   "execution_count": 38,
   "id": "f93c4eae",
   "metadata": {},
   "outputs": [
    {
     "data": {
      "text/plain": [
       "<Axes: ylabel='Frequency'>"
      ]
     },
     "execution_count": 38,
     "metadata": {},
     "output_type": "execute_result"
    },
    {
     "data": {
      "image/png": "[encoded data removed]",
      "text/plain": [
       "<Figure size 640x480 with 1 Axes>"
      ]
     },
     "metadata": {},
     "output_type": "display_data"
    }
   ],
   "source": [
    "df['age_1'].plot(kind = 'hist')"
   ]
  },
  {
   "cell_type": "code",
   "execution_count": 39,
   "id": "1bb42970",
   "metadata": {},
   "outputs": [
    {
     "data": {
      "text/plain": [
       "<Axes: >"
      ]
     },
     "execution_count": 39,
     "metadata": {},
     "output_type": "execute_result"
    },
    {
     "data": {
      "image/png": "[encoded data removed]",
      "text/plain": [
       "<Figure size 640x480 with 1 Axes>"
      ]
     },
     "metadata": {},
     "output_type": "display_data"
    }
   ],
   "source": [
    "df['age_1'].plot(kind = 'box')"
   ]
  },
  {
   "cell_type": "code",
   "execution_count": 40,
   "id": "cc2dc7cf",
   "metadata": {},
   "outputs": [
    {
     "data": {
      "text/html": [
       "<div>\n",
       "<style scoped>\n",
       "    .dataframe tbody tr th:only-of-type {\n",
       "        vertical-align: middle;\n",
       "    }\n",
       "\n",
       "    .dataframe tbody tr th {\n",
       "        vertical-align: top;\n",
       "    }\n",
       "\n",
       "    .dataframe thead th {\n",
       "        text-align: right;\n",
       "    }\n",
       "</style>\n",
       "<table border=\"1\" class=\"dataframe\">\n",
       "  <thead>\n",
       "    <tr style=\"text-align: right;\">\n",
       "      <th></th>\n",
       "      <th>dob</th>\n",
       "      <th>current_profession</th>\n",
       "      <th>age_1</th>\n",
       "      <th>age_2</th>\n",
       "    </tr>\n",
       "  </thead>\n",
       "  <tbody>\n",
       "    <tr>\n",
       "      <th>112</th>\n",
       "      <td>2024-10-19</td>\n",
       "      <td>Student (I am currently enrolled in some Educa...</td>\n",
       "      <td>0</td>\n",
       "      <td>-1</td>\n",
       "    </tr>\n",
       "    <tr>\n",
       "      <th>307</th>\n",
       "      <td>2024-01-16</td>\n",
       "      <td>Working Professional (I have completed my Educ...</td>\n",
       "      <td>0</td>\n",
       "      <td>0</td>\n",
       "    </tr>\n",
       "    <tr>\n",
       "      <th>536</th>\n",
       "      <td>2024-05-13</td>\n",
       "      <td>Student (I am currently enrolled in some Educa...</td>\n",
       "      <td>0</td>\n",
       "      <td>-1</td>\n",
       "    </tr>\n",
       "  </tbody>\n",
       "</table>\n",
       "</div>"
      ],
      "text/plain": [
       "           dob                                 current_profession  age_1  \\\n",
       "112 2024-10-19  Student (I am currently enrolled in some Educa...      0   \n",
       "307 2024-01-16  Working Professional (I have completed my Educ...      0   \n",
       "536 2024-05-13  Student (I am currently enrolled in some Educa...      0   \n",
       "\n",
       "     age_2  \n",
       "112     -1  \n",
       "307      0  \n",
       "536     -1  "
      ]
     },
     "execution_count": 40,
     "metadata": {},
     "output_type": "execute_result"
    }
   ],
   "source": [
    "df.loc[df['age_2'] <= 0, ['dob', 'current_profession', 'age_1', 'age_2']]"
   ]
  },
  {
   "cell_type": "code",
   "execution_count": 41,
   "id": "eee1311c",
   "metadata": {},
   "outputs": [
    {
     "data": {
      "text/html": [
       "<div>\n",
       "<style scoped>\n",
       "    .dataframe tbody tr th:only-of-type {\n",
       "        vertical-align: middle;\n",
       "    }\n",
       "\n",
       "    .dataframe tbody tr th {\n",
       "        vertical-align: top;\n",
       "    }\n",
       "\n",
       "    .dataframe thead th {\n",
       "        text-align: right;\n",
       "    }\n",
       "</style>\n",
       "<table border=\"1\" class=\"dataframe\">\n",
       "  <thead>\n",
       "    <tr style=\"text-align: right;\">\n",
       "      <th></th>\n",
       "      <th>age_1</th>\n",
       "      <th>age_2</th>\n",
       "    </tr>\n",
       "  </thead>\n",
       "  <tbody>\n",
       "    <tr>\n",
       "      <th>count</th>\n",
       "      <td>997.000000</td>\n",
       "      <td>997.000000</td>\n",
       "    </tr>\n",
       "    <tr>\n",
       "      <th>mean</th>\n",
       "      <td>23.395186</td>\n",
       "      <td>22.551655</td>\n",
       "    </tr>\n",
       "    <tr>\n",
       "      <th>std</th>\n",
       "      <td>3.044235</td>\n",
       "      <td>3.046261</td>\n",
       "    </tr>\n",
       "    <tr>\n",
       "      <th>min</th>\n",
       "      <td>17.000000</td>\n",
       "      <td>16.000000</td>\n",
       "    </tr>\n",
       "    <tr>\n",
       "      <th>25%</th>\n",
       "      <td>21.000000</td>\n",
       "      <td>21.000000</td>\n",
       "    </tr>\n",
       "    <tr>\n",
       "      <th>50%</th>\n",
       "      <td>23.000000</td>\n",
       "      <td>22.000000</td>\n",
       "    </tr>\n",
       "    <tr>\n",
       "      <th>75%</th>\n",
       "      <td>24.000000</td>\n",
       "      <td>23.000000</td>\n",
       "    </tr>\n",
       "    <tr>\n",
       "      <th>max</th>\n",
       "      <td>44.000000</td>\n",
       "      <td>43.000000</td>\n",
       "    </tr>\n",
       "  </tbody>\n",
       "</table>\n",
       "</div>"
      ],
      "text/plain": [
       "            age_1       age_2\n",
       "count  997.000000  997.000000\n",
       "mean    23.395186   22.551655\n",
       "std      3.044235    3.046261\n",
       "min     17.000000   16.000000\n",
       "25%     21.000000   21.000000\n",
       "50%     23.000000   22.000000\n",
       "75%     24.000000   23.000000\n",
       "max     44.000000   43.000000"
      ]
     },
     "execution_count": 41,
     "metadata": {},
     "output_type": "execute_result"
    }
   ],
   "source": [
    "df[df['age_2'] > 0].describe()"
   ]
  },
  {
   "cell_type": "code",
   "execution_count": null,
   "id": "996fe551",
   "metadata": {},
   "outputs": [],
   "source": []
  },
  {
   "cell_type": "markdown",
   "id": "06b38f41",
   "metadata": {},
   "source": [
    "### 8.How many interns were born on a Sunday?"
   ]
  },
  {
   "cell_type": "code",
   "execution_count": 42,
   "id": "f9835706",
   "metadata": {},
   "outputs": [
    {
     "data": {
      "text/plain": [
       "Monday       163\n",
       "Thursday     147\n",
       "Friday       146\n",
       "Saturday     145\n",
       "Tuesday      140\n",
       "Wednesday    134\n",
       "Sunday       125\n",
       "Name: dob, dtype: int64"
      ]
     },
     "execution_count": 42,
     "metadata": {},
     "output_type": "execute_result"
    }
   ],
   "source": [
    "df['dob'].dt.day_name().value_counts()"
   ]
  },
  {
   "cell_type": "code",
   "execution_count": 43,
   "id": "51851b76",
   "metadata": {},
   "outputs": [
    {
     "data": {
      "text/plain": [
       "<Axes: >"
      ]
     },
     "execution_count": 43,
     "metadata": {},
     "output_type": "execute_result"
    },
    {
     "data": {
      "image/png": "[encoded data removed]",
      "text/plain": [
       "<Figure size 640x480 with 1 Axes>"
      ]
     },
     "metadata": {},
     "output_type": "display_data"
    }
   ],
   "source": [
    "df['dob'].dt.day_name().value_counts().plot(kind = 'bar')"
   ]
  },
  {
   "cell_type": "code",
   "execution_count": null,
   "id": "5f3c8add",
   "metadata": {},
   "outputs": [],
   "source": []
  },
  {
   "cell_type": "markdown",
   "id": "52215911",
   "metadata": {},
   "source": [
    "### 9.In which month do the majority of interns are born?"
   ]
  },
  {
   "cell_type": "code",
   "execution_count": 44,
   "id": "6cd6f989",
   "metadata": {},
   "outputs": [
    {
     "data": {
      "text/plain": [
       "<Axes: >"
      ]
     },
     "execution_count": 44,
     "metadata": {},
     "output_type": "execute_result"
    },
    {
     "data": {
      "image/png": "[encoded data removed]",
      "text/plain": [
       "<Figure size 640x480 with 1 Axes>"
      ]
     },
     "metadata": {},
     "output_type": "display_data"
    }
   ],
   "source": [
    "df['dob'].dt.month_name().value_counts().plot(kind = 'bar')"
   ]
  },
  {
   "cell_type": "code",
   "execution_count": null,
   "id": "4faf5e2a",
   "metadata": {},
   "outputs": [],
   "source": []
  },
  {
   "cell_type": "markdown",
   "id": "eec09c71",
   "metadata": {},
   "source": [
    "### 10.What is the median age of a working professional?"
   ]
  },
  {
   "cell_type": "code",
   "execution_count": 47,
   "id": "d6d0d759",
   "metadata": {},
   "outputs": [
    {
     "name": "stdout",
     "output_type": "stream",
     "text": [
      "The median age of working professionals among the interns is: 26.0\n"
     ]
    }
   ],
   "source": [
    "dob_column = 'dob'\n",
    "\n",
    "median_age_working_professionals = (datetime.datetime(2024, 1, 25) - pd.to_datetime(df[df['current_profession'].str.contains('working', case=False, na=False)][dob_column])).astype('<m8[Y]').median()\n",
    "\n",
    "print(f'The median age of working professionals among the interns is: {median_age_working_professionals}')"
   ]
  },
  {
   "cell_type": "code",
   "execution_count": null,
   "id": "9b6b9a0b",
   "metadata": {},
   "outputs": [],
   "source": []
  },
  {
   "cell_type": "markdown",
   "id": "b432c908",
   "metadata": {},
   "source": [
    "### 11.What is the maximum age of a freelancer?"
   ]
  },
  {
   "cell_type": "code",
   "execution_count": 49,
   "id": "f910f9e2",
   "metadata": {},
   "outputs": [
    {
     "name": "stdout",
     "output_type": "stream",
     "text": [
      "The maximum age of a freelancer among the interns is: 43.0\n"
     ]
    }
   ],
   "source": [
    "current_date = datetime.datetime(2024, 1, 25)\n",
    "max_age_freelancer = (current_date - pd.to_datetime(df[df['current_profession'].str.contains('freelancer', case=False, na=False)]['dob'])).astype('<m8[Y]').max()\n",
    "\n",
    "print(f'The maximum age of a freelancer among the interns is: {max_age_freelancer}')"
   ]
  },
  {
   "cell_type": "code",
   "execution_count": null,
   "id": "87425b59",
   "metadata": {},
   "outputs": [],
   "source": []
  },
  {
   "cell_type": "markdown",
   "id": "25d9651c",
   "metadata": {},
   "source": [
    "### Let’s do our final analysis now. Let’s try to learn about the institute from where interns have completed or are pursuing their data science courses."
   ]
  },
  {
   "cell_type": "code",
   "execution_count": 51,
   "id": "94720165",
   "metadata": {},
   "outputs": [
    {
     "data": {
      "text/plain": [
       "365"
      ]
     },
     "execution_count": 51,
     "metadata": {},
     "output_type": "execute_result"
    }
   ],
   "source": [
    "df['ds_course_institute'].nunique()"
   ]
  },
  {
   "cell_type": "code",
   "execution_count": 52,
   "id": "62bebfa4",
   "metadata": {},
   "outputs": [
    {
     "data": {
      "text/plain": [
       "array(['Innomatics Research Labs', nan,\n",
       "       'Velagapudi ramakrishna Siddhartha college ',\n",
       "       'In NPTEL as well as Coursera IBM Data Science Course I am currently enrolled in.',\n",
       "       'Innomatics research labs ', 'Coach-Ed',\n",
       "       'Internship at Innomatics Research Labs',\n",
       "       'Symbiosis skills and professional University',\n",
       "       'AISSMS Institute of Information Technology',\n",
       "       'Swayam NPTEL course ', 'Innomatics Research Labs ',\n",
       "       'Innomatics Research Labs\"', 'Innomatices research labs',\n",
       "       'InnomaticsResearchLabs ', 'Udemy', 'INNOMATICS RESEARCH LABS',\n",
       "       'Innomatics research labs', 'Scaler Academy ',\n",
       "       'Sri Manakula Vinayagar Engineering College',\n",
       "       'Innomatics Resarch Labs ', 'Innomatics',\n",
       "       'innomatics research labs', 'ExcelR Solutions',\n",
       "       'Innomatics Research Lab ', 'Na', 'Acmegrade', 'excelR solutions ',\n",
       "       'Mysore University', 'Coursera', 'Top Mentor',\n",
       "       'Skill for all cisco', 'Innomatics Research labs', 'UDEMY',\n",
       "       'Vikramasimhapuri University', 'Simplilearn',\n",
       "       'University of Kerala', 'Udemy ', 'COURSERA', 'Coursera ',\n",
       "       'Sreenidhi institute of science and technology ',\n",
       "       'SQUAD Infotech Pvt. Ltd.', 'FunctionUp', 'No',\n",
       "       'Andhra Pradesh State Skill Development Corporation (APSSDC)',\n",
       "       'Innomatics Research Labs , JNTU Hyderabad ',\n",
       "       'Chandigarh University ', 'COCSIT ', 'Inomatics research labs ',\n",
       "       'NA ', 'Excelr', 'Yhills',\n",
       "       \"AWS MACHINE LEARNING FOUNDATIONS, deeplearning.ai and stanford's machine learning specialization on coursera\",\n",
       "       'Pantech solutions, Twilearn ', 'ALMABETTER',\n",
       "       'Innomatics Reasearch Labs', 'Innomatics Research Labs Hyderabad',\n",
       "       'Internshala Trainings', 'ETlhive ', 'Data Einstein ',\n",
       "       ' Coursera, Geeks For Geeks , Udemy.',\n",
       "       'NPTEL Online course for completed the Data science and engineers certification.',\n",
       "       'Scaler', 'Simplilearn and Codebasics',\n",
       "       'Innomatics Research labs ',\n",
       "       'TechnoHacks EduTech Private limited ', 'Internshala',\n",
       "       'IIT madras', 'Offline coaching centre ', 'AlmaBetter ',\n",
       "       'Google Data Analytics Certification, IBM Data Science Certification',\n",
       "       'Institute of aeronautical engineering',\n",
       "       'Tamilnadu Skill Development of Corporation', 'Pantech University',\n",
       "       'almabetter,British Airways Data science virtual internship',\n",
       "       'innomatics Research labs, Hyderabad',\n",
       "       'Innomatics Research Labs, Hyderabad ', 'Innomatics Research lab',\n",
       "       'CodeBasics Online Platform ', 'skill for all Cisco',\n",
       "       'Excelr solutions Pune', 'Digipodium ', '365 Careers',\n",
       "       'Cisco networking academy ', 'Innometics Research Labs',\n",
       "       'Indian Institute of Technology Madras', '1stop',\n",
       "       \"Innomatics Research Lab's\", 'Freecodecamp',\n",
       "       'INNOVATIVE RESEARCH LAB', 'Bharat Intern',\n",
       "       'Innomatics research lab', 'Stanford University', 'coursera ',\n",
       "       'HDLC Technologies ', 'Bharati Vidyapeeth University ',\n",
       "       'Innomatics research Labs', 'Jobaaj Learnings',\n",
       "       'Lovely Professional University ',\n",
       "       'Kaggle Online Course , Coursera Online Course,IBM Course',\n",
       "       'Kristu jayanti college ', 'Innomatics ',\n",
       "       'ITvedant Education Institute', 'INNOMATICS',\n",
       "       'Learnbay institute ', 'DataCamp', 'Stanford University Online ',\n",
       "       'Simplilearn platform ', 'GUVI -IIT Madras Research Park',\n",
       "       'EdYoda Digital Institute', 'St Clair College ', 'The correlation',\n",
       "       'Informatics research lab', 'Innomatics Reasearch labs',\n",
       "       'SR University', 'Coding Ninjas ', 'na', 'Excelr Solutions',\n",
       "       'Charotar University of Science and Technology',\n",
       "       'Innomatics Research Labs.', 'Squad Infotech', 'IBM ', 'Scaler ',\n",
       "       'Upgrad ', 'I am doing geeks for geeks course',\n",
       "       'MIT ADT University', 'Linkedin', 'Bishop Heber College ',\n",
       "       'Shiv Nadar University Chennai ', 'NA(self learning) ',\n",
       "       'IIITDM(Indian Institute of Information and Technology ,Design and Manufacturing) Kancheepuram',\n",
       "       'Ganpat University ', 'Department of technology (pune university)',\n",
       "       'Explore Academy', 'NPTEL',\n",
       "       'Ramniranjan Jhunjhunwala College Mumbai ',\n",
       "       'iNeuron.ai (Full Stack Data Science)', 'Top mentor', '360digitmg',\n",
       "       \"Vidya Pratishthan's Kamalnayan Bajaj Institute of Engineering and Technology\",\n",
       "       'International Institute of Information Technology',\n",
       "       'Vaagdevi college of engineering ',\n",
       "       'Forks coding school, Innomatics Research lab',\n",
       "       'Hagital Consult Nigeria and IBM Data Science Professional Certificate Course (Coursera)',\n",
       "       'Guvi - IITM', '365 Data Science', 'Intershala ',\n",
       "       'Innomatics Research Lab, Hyderabad', 'INeuron', 'Pwskills ',\n",
       "       'College of Engineering Pune', 'Graphic era university ',\n",
       "       'Coursera Platform', 'KWS college of Sangli ',\n",
       "       'INNOMATICS RESEARCH LAB ', 'Jansons Institute of Technology ',\n",
       "       'Coursera Data Science course by IBM', 'DA innomatics',\n",
       "       'Innomatices', 'Google Data analytics certification ', 'IBM',\n",
       "       'GITAM University, Visakhapatnam ', 'Pantech', 'Courseera',\n",
       "       'PW skills ', 'Gnanamani College of Technology ', 'Evarcity',\n",
       "       'Internstudio , Microsoft Learning',\n",
       "       'Indira institute of Education', 'Squad Infotech Pvt.ltd',\n",
       "       'Pwskills', 'Internship studio', 'N/a', 'IANT', 'HyperionDev',\n",
       "       'Great Learning ', 'Learnwick Solutions ',\n",
       "       'Centre for Development of Advanced Computing Mumbai ',\n",
       "       'Innomatics research labs, jntu', 'Physics wallah ',\n",
       "       'Nucot in Bangalore', 'Royal Technosoft pvt Ltd ',\n",
       "       'Innomatics Reasearch Labs ', 'ExcelR', 'Learnbay',\n",
       "       'Coursera IBM Data Science COurse', 'ExcelR Institude Baner Pune',\n",
       "       'Geek For Geeks Course', 'Applied Roots',\n",
       "       'INTELLIPAT and IIT Roorkee',\n",
       "       'From my college I have a subject data science, and also registered with Cisco learnings ',\n",
       "       'PW Skills', 'Tkr college of engineering and technology',\n",
       "       'innomatics research lab', 'Online course (physics Wallah)',\n",
       "       'Innomatics Resreach lab', 'Quality Thoughts',\n",
       "       'Coursers deep learning by Andrew Ng', 'Squad Infotech ', 'N',\n",
       "       'Hamoye and Binance Charity',\n",
       "       'IBM SkillsBuild and CSRBOX academic Internship for Data Analytics!',\n",
       "       'Pw skills', 'Freecodecamp online lessons',\n",
       "       'Innomatics Research  Labs', 'IIT Roorkee ',\n",
       "       'Skill Academy by Testbook', 'Cognitive Class',\n",
       "       'IPCS GLOBAL CALICUT ',\n",
       "       'Rajiv Gandhi Proudyogiki Vishwavidyalaya, Udacity', 'AlmaBetter',\n",
       "       'Academor ', 'PYTHON FOR DATA SCIENCE AND AI BY IBM',\n",
       "       'Letsupgrade ', 'Jain University and FingerTips collaboration ',\n",
       "       'ALIGARH MUSLIM UNIVERSITY', 'IIT-M and Intellipaat',\n",
       "       'Department of Futures Studies, University of Kerala',\n",
       "       'Physics Wallah', 'TCSiON Industry Honored Course',\n",
       "       'Squad Institute ', 'innomatics reseach labs', 'Almabetter ',\n",
       "       'Internshala trainings', 'Simplelearn',\n",
       "       'Indian Institute of Technology, Mandi',\n",
       "       'Deep Learning.ai and Campus X', 'INNOMATICS RESEARCH LABS ',\n",
       "       'Udacity', 'Udemy and PW Skills', 'Learned mostly from Youtube',\n",
       "       'Almabetter Institute ', 'Udemy Zero To Mastery Academy',\n",
       "       'Innomatis Research Labs', 'Linux World Informatic Practices',\n",
       "       'prepinsta', 'Innomatics Research Lab , Hyderabad',\n",
       "       'University of Kerala ', 'Innomatics Research Lab',\n",
       "       'Coursera Certification ', 'innomatics research labs ',\n",
       "       'Kg reddy college of engineering and technology', 'Ybi Foundation',\n",
       "       'Jansons Institute of Technology', 'coursera & scaler',\n",
       "       'Central University of Rajasthan', 'GOOGLE',\n",
       "       'Aligarh Muslim University ', 'Prepinsta',\n",
       "       'Jobaaj Data Science 5 day free course.', 'Odin school  hyderbad ',\n",
       "       'Indian Institute of Technology Kharagpur ',\n",
       "       'Udemy courses and youtube', 'Bishop Heber College (as Degree)',\n",
       "       'sathya technologiies',\n",
       "       '1. Udemy - Completed  2. Great Learning - Completed', 'TEACHNOOK',\n",
       "       'Infosys springboard ',\n",
       "       \"i have done data science virtualship internship and it's completed and also I did an data science certificate from IBM\",\n",
       "       'Analytics Vidhya', 'NareshIT', 'IBM at COURSERA', '360DIGITMG',\n",
       "       'Degree', 'Udemy and coursera', '360DigitMG',\n",
       "       'Devi Ahilya Vishwavidyalay, Indore, India', 'Upskill Campus',\n",
       "       'Ibm', 'Infinite Graphics Teachnology, Pune',\n",
       "       'Infosys Springboard ', 'Cognitiveclass.ai',\n",
       "       'Entrance exam certificate got', 'PrepInsta Prime', 'Swayam NPTL',\n",
       "       'Datamites, bangalore', 'Jain (Deemed-to-be-University)',\n",
       "       'Applied AI Course', 'Teks Academy', 'LEARNBAY', 'VERZEO',\n",
       "       'Iam taking personally by one of the professor ',\n",
       "       'Sona College of Technology & Google ', 'DAVV ',\n",
       "       'PanTech E learning ', 'PES Modern College of Engineering Pune ',\n",
       "       'Ducat,Noida sec-16', 'TCS',\n",
       "       'python programming and artificial intelligence , pantech e learning',\n",
       "       \"Simplilearn data science ( ongoing master's in AI engineer course)\",\n",
       "       'St.Martins Engineering College ', 'Great learning', 'Uncodemy',\n",
       "       'Department of Futures Studies ', 'HarvardX ',\n",
       "       'Cyberaegis IT Solutions Pvt Ltd', 'NCVET', 'YBI Foundation',\n",
       "       'M.Sc Data science ', 'Innomatics research lab Hyderabad ',\n",
       "       'Seed Infotech ', 'Gana Tech Solutions ', 'Guvi',\n",
       "       'Innomatic Reaserch Lab', 'KGiSL Institute of technology',\n",
       "       'Btech Artificial intelligence and data science @ Dhanalakshmi Srinivasan Engineering College Perambalur ',\n",
       "       'udemy', 'NPTEL, freeCodeCamp.org, CS50, Coursera',\n",
       "       'Amity University',\n",
       "       'School of Data Science and Business Intellegence (SDBI), University of Mumbai',\n",
       "       'World Quant Univeristy', 'INNOMATICS RESEARCH LAB',\n",
       "       'Function Up School of Technology ',\n",
       "       'IBM Data Science Professional Certificate Course',\n",
       "       'G H Raisoni collage of engineering and management, Whagoli ',\n",
       "       'Google Advanced Data analytics and Inmakes infotech internship',\n",
       "       'IIT GUWAHATI, EDUREKA ',\n",
       "       'Madanapalle Institute of Technology and Science',\n",
       "       'MIT World Peace University', 'Datamites',\n",
       "       'Paavai engineering college ',\n",
       "       'Innomatics Research Labs, Hyderabad', 'WorldQuant University',\n",
       "       'Data Science for Engineers, Swayam(NTPEL)', 'Codingrad, ExcelR',\n",
       "       'PGD in Pune University ', 'Udemy , great learning ', 'Learn AI',\n",
       "       'Geeks for Geeks',\n",
       "       'Quality Thoughts Infosystems, Velachery, Chennai ',\n",
       "       'Simplilearn ,India.', 'Innomatics Research Labs,Hayderabad',\n",
       "       'The Cooperative university of Kenya ', 'Free code camp',\n",
       "       'Innomatics research labs Hyderabad ', 'IIIT-Bangalore',\n",
       "       'LinkedIn, Coursera ', 'CodeClause', 'ISBR BUSINESS SCHOOL', 'In',\n",
       "       ' Innomatics Research Labs', 'ineuron',\n",
       "       'Sharad Institute of Technology College of engineering ',\n",
       "       \"Ducat's institute \", 'Brainovision', 'Internshala ',\n",
       "       'Amrita school of engineering ', 'Anits ',\n",
       "       'Infinity graphics technology, Pune ', 'Digital nest, Udemy ',\n",
       "       'African Leadership X(ALX)', 'msc data scince',\n",
       "       'Lagos School of programming ',\n",
       "       'University of Roehampton, United Kingdom',\n",
       "       'Livewire Livetech Skills ', 'Naresh IT ',\n",
       "       'Coursera(Stanford), MyCaptain', 'Learnbay ', 'IIIT bangalore',\n",
       "       'SCALER', 'INNOMATICS REASEARCH LABS', 'DataMites',\n",
       "       'Coursera, Google certification', 'Govt ANMT School Anantnag',\n",
       "       'DevTown', 'ONLINE COURSE ',\n",
       "       'Birla Institute of Technology and Science, Pilani '], dtype=object)"
      ]
     },
     "execution_count": 52,
     "metadata": {},
     "output_type": "execute_result"
    }
   ],
   "source": [
    "df['ds_course_institute'].unique()"
   ]
  },
  {
   "cell_type": "code",
   "execution_count": 53,
   "id": "f35f4eea",
   "metadata": {},
   "outputs": [
    {
     "data": {
      "text/plain": [
       "Innomatics Research Labs                              109\n",
       "Innomatics research labs                               33\n",
       "Coursera                                               18\n",
       "Innomatics research labs                               16\n",
       "Innomatics Research Labs                               16\n",
       "                                                     ... \n",
       "INeuron                                                 1\n",
       "Innomatics Research Lab, Hyderabad                      1\n",
       "Intershala                                              1\n",
       "365 Data Science                                        1\n",
       "Birla Institute of Technology and Science, Pilani       1\n",
       "Name: ds_course_institute, Length: 365, dtype: int64"
      ]
     },
     "execution_count": 53,
     "metadata": {},
     "output_type": "execute_result"
    }
   ],
   "source": [
    "df['ds_course_institute'].value_counts()"
   ]
  },
  {
   "cell_type": "code",
   "execution_count": 54,
   "id": "8ab405c1",
   "metadata": {},
   "outputs": [
    {
     "data": {
      "text/plain": [
       "NaN                                                   322\n",
       "Innomatics Research Labs                              109\n",
       "Innomatics research labs                               33\n",
       "Coursera                                               18\n",
       "Innomatics research labs                               16\n",
       "                                                     ... \n",
       "Innomatics Research Lab, Hyderabad                      1\n",
       "Intershala                                              1\n",
       "365 Data Science                                        1\n",
       "Guvi - IITM                                             1\n",
       "Birla Institute of Technology and Science, Pilani       1\n",
       "Name: ds_course_institute, Length: 366, dtype: int64"
      ]
     },
     "execution_count": 54,
     "metadata": {},
     "output_type": "execute_result"
    }
   ],
   "source": [
    "df['ds_course_institute'].value_counts(dropna = False)"
   ]
  },
  {
   "cell_type": "code",
   "execution_count": null,
   "id": "6baeed8b",
   "metadata": {},
   "outputs": [],
   "source": []
  },
  {
   "cell_type": "markdown",
   "id": "78f8f0e4",
   "metadata": {},
   "source": [
    "### 12.How many interns didn’t mention the name of the data science institute from where they completed or are currently pursuing the courses?"
   ]
  },
  {
   "cell_type": "code",
   "execution_count": 56,
   "id": "d5eeac1b",
   "metadata": {},
   "outputs": [
    {
     "name": "stdout",
     "output_type": "stream",
     "text": [
      "The number of interns who didn't mention the name of the data science institute is: 322\n"
     ]
    }
   ],
   "source": [
    "institute_column = 'ds_course_institute'\n",
    "missing_institute_count = df[institute_column].isna().sum()\n",
    "\n",
    "print(f'The number of interns who didn\\'t mention the name of the data science institute is: {missing_institute_count}')"
   ]
  },
  {
   "cell_type": "code",
   "execution_count": null,
   "id": "a67a56ce",
   "metadata": {},
   "outputs": [],
   "source": []
  },
  {
   "cell_type": "markdown",
   "id": "b7e54d62",
   "metadata": {},
   "source": [
    "### 13.How many interns mentioned Innomatics as their data science institute?"
   ]
  },
  {
   "cell_type": "code",
   "execution_count": 57,
   "id": "fe576aa9",
   "metadata": {},
   "outputs": [
    {
     "name": "stdout",
     "output_type": "stream",
     "text": [
      "The number of interns who mentioned \"Innomatics\" as their data science institute is: 9\n"
     ]
    }
   ],
   "source": [
    "institute_column = 'ds_course_institute'\n",
    "innomatics_count = (df[institute_column] == 'Innomatics').sum()\n",
    "\n",
    "print(f'The number of interns who mentioned \"Innomatics\" as their data science institute is: {innomatics_count}')"
   ]
  },
  {
   "cell_type": "code",
   "execution_count": null,
   "id": "0fa6f570",
   "metadata": {},
   "outputs": [],
   "source": []
  },
  {
   "cell_type": "code",
   "execution_count": null,
   "id": "956dc104",
   "metadata": {},
   "outputs": [],
   "source": []
  },
  {
   "cell_type": "code",
   "execution_count": null,
   "id": "b982b74f",
   "metadata": {},
   "outputs": [],
   "source": []
  }
 ],
 "metadata": {
  "kernelspec": {
   "display_name": "Python 3 (ipykernel)",
   "language": "python",
   "name": "python3"
  },
  "language_info": {
   "codemirror_mode": {
    "name": "ipython",
    "version": 3
   },
   "file_extension": ".py",
   "mimetype": "text/x-python",
   "name": "python",
   "nbconvert_exporter": "python",
   "pygments_lexer": "ipython3",
   "version": "3.10.9"
  }
 },
 "nbformat": 4,
 "nbformat_minor": 5
}
