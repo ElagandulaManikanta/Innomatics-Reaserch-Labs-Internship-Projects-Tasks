{
 "cells": [
  {
   "cell_type": "code",
   "execution_count": 1,
   "id": "4519fc25",
   "metadata": {},
   "outputs": [],
   "source": [
    "# Libraries\n",
    "import numpy as np\n",
    "import pandas as pd\n",
    "import matplotlib.pyplot as plt\n",
    "import seaborn as sns\n",
    "import requests\n",
    "from bs4 import BeautifulSoup\n",
    "import regex as re\n",
    "import time\n",
    "from io import StringIO"
   ]
  },
  {
   "cell_type": "code",
   "execution_count": null,
   "id": "f8b24719",
   "metadata": {},
   "outputs": [],
   "source": []
  },
  {
   "cell_type": "code",
   "execution_count": 2,
   "id": "49c41734",
   "metadata": {},
   "outputs": [],
   "source": [
    "# List of file paths representing different parts of the chat data\n",
    "file_paths = [r\"C:\\Users\\Manikanta\\Data Science Innomatics\\Internship Projects - Tasks\\Task 2 GMT20240125-121850_RecordingnewChat\\GMT20240125-121850_RecordingnewChat\\recovery_1\\GMT20240125-121850_RecordingnewChat - Copy (1).txt\",\n",
    "             r\"C:\\Users\\Manikanta\\Data Science Innomatics\\Internship Projects - Tasks\\Task 2 GMT20240125-121850_RecordingnewChat\\GMT20240125-121850_RecordingnewChat\\recovery_2\\GMT20240125-121850_RecordingnewChat - Copy (2).txt\",\n",
    "             r\"C:\\Users\\Manikanta\\Data Science Innomatics\\Internship Projects - Tasks\\Task 2 GMT20240125-121850_RecordingnewChat\\GMT20240125-121850_RecordingnewChat\\recovery_3\\GMT20240125-121850_RecordingnewChat - Copy (3).txt\",\n",
    "             r\"C:\\Users\\Manikanta\\Data Science Innomatics\\Internship Projects - Tasks\\Task 2 GMT20240125-121850_RecordingnewChat\\GMT20240125-121850_RecordingnewChat\\recovery_4\\GMT20240125-121850_RecordingnewChat - Copy (4).txt\",\n",
    "             r\"C:\\Users\\Manikanta\\Data Science Innomatics\\Internship Projects - Tasks\\Task 2 GMT20240125-121850_RecordingnewChat\\GMT20240125-121850_RecordingnewChat\\recovery_5\\GMT20240125-121850_RecordingnewChat - Copy (5).txt\",\n",
    "             r\"C:\\Users\\Manikanta\\Data Science Innomatics\\Internship Projects - Tasks\\Task 2 GMT20240125-121850_RecordingnewChat\\GMT20240125-121850_RecordingnewChat\\recovery_6\\GMT20240125-121850_RecordingnewChat - Copy (6).txt\",\n",
    "             r\"C:\\Users\\Manikanta\\Data Science Innomatics\\Internship Projects - Tasks\\Task 2 GMT20240125-121850_RecordingnewChat\\GMT20240125-121850_RecordingnewChat\\recovery_7\\GMT20240125-121850_RecordingnewChat - Copy (7).txt\",\n",
    "             r\"C:\\Users\\Manikanta\\Data Science Innomatics\\Internship Projects - Tasks\\Task 2 GMT20240125-121850_RecordingnewChat\\GMT20240125-121850_RecordingnewChat\\recovery_8\\GMT20240125-121850_RecordingnewChat - Copy (8).txt\",\n",
    "             r\"C:\\Users\\Manikanta\\Data Science Innomatics\\Internship Projects - Tasks\\Task 2 GMT20240125-121850_RecordingnewChat\\GMT20240125-121850_RecordingnewChat\\recovery_9\\GMT20240125-121850_RecordingnewChat - Copy (9).txt\",\n",
    "             r\"C:\\Users\\Manikanta\\Data Science Innomatics\\Internship Projects - Tasks\\Task 2 GMT20240125-121850_RecordingnewChat\\GMT20240125-121850_RecordingnewChat\\recovery_10\\GMT20240125-121850_RecordingnewChat - Copy (10).txt\",\n",
    "             r\"C:\\Users\\Manikanta\\Data Science Innomatics\\Internship Projects - Tasks\\Task 2 GMT20240125-121850_RecordingnewChat\\GMT20240125-121850_RecordingnewChat\\recovery_11\\GMT20240125-121850_RecordingnewChat - Copy (11).txt\",\n",
    "             r\"C:\\Users\\Manikanta\\Data Science Innomatics\\Internship Projects - Tasks\\Task 2 GMT20240125-121850_RecordingnewChat\\GMT20240125-121850_RecordingnewChat\\recovery_12\\GMT20240125-121850_RecordingnewChat - Copy (12).txt\",\n",
    "             r\"C:\\Users\\Manikanta\\Data Science Innomatics\\Internship Projects - Tasks\\Task 2 GMT20240125-121850_RecordingnewChat\\GMT20240125-121850_RecordingnewChat\\recovery_13\\GMT20240125-121850_RecordingnewChat - Copy (13).txt\",\n",
    "             r\"C:\\Users\\Manikanta\\Data Science Innomatics\\Internship Projects - Tasks\\Task 2 GMT20240125-121850_RecordingnewChat\\GMT20240125-121850_RecordingnewChat\\recovery_14\\GMT20240125-121850_RecordingnewChat - Copy (14).txt\",\n",
    "             r\"C:\\Users\\Manikanta\\Data Science Innomatics\\Internship Projects - Tasks\\Task 2 GMT20240125-121850_RecordingnewChat\\GMT20240125-121850_RecordingnewChat\\recovery_15\\GMT20240125-121850_RecordingnewChat - Copy (15).txt\"]"
   ]
  },
  {
   "cell_type": "code",
   "execution_count": null,
   "id": "af06f0f1",
   "metadata": {},
   "outputs": [],
   "source": []
  },
  {
   "cell_type": "code",
   "execution_count": 3,
   "id": "e5be4cbb",
   "metadata": {},
   "outputs": [],
   "source": [
    "# Merge data from multiple sources\n",
    "def merge_data(files):\n",
    "    return ''.join(open(file_path, 'r', encoding='utf-8').read() for file_path in files)\n",
    "\n",
    "if __name__ == \"__main__\":\n",
    "    # Merge the data from all files\n",
    "    merged_chat_data = merge_data(file_paths)"
   ]
  },
  {
   "cell_type": "code",
   "execution_count": null,
   "id": "851f8417",
   "metadata": {},
   "outputs": [],
   "source": []
  },
  {
   "cell_type": "code",
   "execution_count": 4,
   "id": "13d8ac36",
   "metadata": {},
   "outputs": [],
   "source": [
    "# Define a function to process text files to DataFrame\n",
    "def process_text_file_to_dataframe(file_path, encoding='utf-8'):\n",
    "    with open(file_path, 'r', encoding=encoding) as file:\n",
    "        file_data = file.read()\n",
    "    return pd.read_csv(StringIO(file_data), sep='\\t', names=['Timestamp', 'Name', 'Message'])\n",
    "\n",
    "# Read and concatenate all DataFrames in the list\n",
    "ZoomChat_df = pd.concat([process_text_file_to_dataframe(file_path) for file_path in file_paths], ignore_index=True)"
   ]
  },
  {
   "cell_type": "code",
   "execution_count": 5,
   "id": "53d9ed97",
   "metadata": {},
   "outputs": [
    {
     "data": {
      "text/html": [
       "<div>\n",
       "<style scoped>\n",
       "    .dataframe tbody tr th:only-of-type {\n",
       "        vertical-align: middle;\n",
       "    }\n",
       "\n",
       "    .dataframe tbody tr th {\n",
       "        vertical-align: top;\n",
       "    }\n",
       "\n",
       "    .dataframe thead th {\n",
       "        text-align: right;\n",
       "    }\n",
       "</style>\n",
       "<table border=\"1\" class=\"dataframe\">\n",
       "  <thead>\n",
       "    <tr style=\"text-align: right;\">\n",
       "      <th></th>\n",
       "      <th>Timestamp</th>\n",
       "      <th>Name</th>\n",
       "      <th>Message</th>\n",
       "    </tr>\n",
       "  </thead>\n",
       "  <tbody>\n",
       "    <tr>\n",
       "      <th>0</th>\n",
       "      <td>00:15:43</td>\n",
       "      <td>Harsh Sharma:</td>\n",
       "      <td>Discord link</td>\n",
       "    </tr>\n",
       "    <tr>\n",
       "      <th>1</th>\n",
       "      <td>00:19:47</td>\n",
       "      <td>Adepu Kavya:</td>\n",
       "      <td>yes</td>\n",
       "    </tr>\n",
       "    <tr>\n",
       "      <th>2</th>\n",
       "      <td>00:19:47</td>\n",
       "      <td>Sai Ramya Manthri Pragada:</td>\n",
       "      <td>yes</td>\n",
       "    </tr>\n",
       "    <tr>\n",
       "      <th>3</th>\n",
       "      <td>00:19:47</td>\n",
       "      <td>Jai Chaudhrani:</td>\n",
       "      <td>Audible</td>\n",
       "    </tr>\n",
       "    <tr>\n",
       "      <th>4</th>\n",
       "      <td>00:19:47</td>\n",
       "      <td>Adnan Baig:</td>\n",
       "      <td>Yes</td>\n",
       "    </tr>\n",
       "    <tr>\n",
       "      <th>...</th>\n",
       "      <td>...</td>\n",
       "      <td>...</td>\n",
       "      <td>...</td>\n",
       "    </tr>\n",
       "    <tr>\n",
       "      <th>44495</th>\n",
       "      <td>01:41:32</td>\n",
       "      <td>Satya Prakash Veera Venkata Gokeda:</td>\n",
       "      <td>Thank you sir</td>\n",
       "    </tr>\n",
       "    <tr>\n",
       "      <th>44496</th>\n",
       "      <td>01:41:32</td>\n",
       "      <td>Mohammed Abdul Rafay:</td>\n",
       "      <td>sir link to of discord channel</td>\n",
       "    </tr>\n",
       "    <tr>\n",
       "      <th>44497</th>\n",
       "      <td>01:41:33</td>\n",
       "      <td>Reshma Sk:</td>\n",
       "      <td>Thank you sir</td>\n",
       "    </tr>\n",
       "    <tr>\n",
       "      <th>44498</th>\n",
       "      <td>01:41:33</td>\n",
       "      <td>Koushik Yadav:</td>\n",
       "      <td>kkk</td>\n",
       "    </tr>\n",
       "    <tr>\n",
       "      <th>44499</th>\n",
       "      <td>01:41:35</td>\n",
       "      <td>Prajwal Damre:</td>\n",
       "      <td>do we have to submit task??</td>\n",
       "    </tr>\n",
       "  </tbody>\n",
       "</table>\n",
       "<p>44500 rows × 3 columns</p>\n",
       "</div>"
      ],
      "text/plain": [
       "      Timestamp                                 Name  \\\n",
       "0      00:15:43                        Harsh Sharma:   \n",
       "1      00:19:47                         Adepu Kavya:   \n",
       "2      00:19:47           Sai Ramya Manthri Pragada:   \n",
       "3      00:19:47                      Jai Chaudhrani:   \n",
       "4      00:19:47                          Adnan Baig:   \n",
       "...         ...                                  ...   \n",
       "44495  01:41:32  Satya Prakash Veera Venkata Gokeda:   \n",
       "44496  01:41:32                Mohammed Abdul Rafay:   \n",
       "44497  01:41:33                           Reshma Sk:   \n",
       "44498  01:41:33                       Koushik Yadav:   \n",
       "44499  01:41:35                       Prajwal Damre:   \n",
       "\n",
       "                              Message  \n",
       "0                        Discord link  \n",
       "1                                 yes  \n",
       "2                                 yes  \n",
       "3                             Audible  \n",
       "4                                 Yes  \n",
       "...                               ...  \n",
       "44495                   Thank you sir  \n",
       "44496  sir link to of discord channel  \n",
       "44497                   Thank you sir  \n",
       "44498                             kkk  \n",
       "44499     do we have to submit task??  \n",
       "\n",
       "[44500 rows x 3 columns]"
      ]
     },
     "execution_count": 5,
     "metadata": {},
     "output_type": "execute_result"
    }
   ],
   "source": [
    "ZoomChat_df"
   ]
  },
  {
   "cell_type": "code",
   "execution_count": 6,
   "id": "d034fa2f",
   "metadata": {},
   "outputs": [
    {
     "name": "stdout",
     "output_type": "stream",
     "text": [
      "<class 'pandas.core.frame.DataFrame'>\n",
      "RangeIndex: 44500 entries, 0 to 44499\n",
      "Data columns (total 3 columns):\n",
      " #   Column     Non-Null Count  Dtype \n",
      "---  ------     --------------  ----- \n",
      " 0   Timestamp  44500 non-null  object\n",
      " 1   Name       44064 non-null  object\n",
      " 2   Message    44064 non-null  object\n",
      "dtypes: object(3)\n",
      "memory usage: 1.0+ MB\n"
     ]
    }
   ],
   "source": [
    "ZoomChat_df.info()"
   ]
  },
  {
   "cell_type": "code",
   "execution_count": 7,
   "id": "72b76f07",
   "metadata": {},
   "outputs": [
    {
     "data": {
      "text/html": [
       "<div>\n",
       "<style scoped>\n",
       "    .dataframe tbody tr th:only-of-type {\n",
       "        vertical-align: middle;\n",
       "    }\n",
       "\n",
       "    .dataframe tbody tr th {\n",
       "        vertical-align: top;\n",
       "    }\n",
       "\n",
       "    .dataframe thead th {\n",
       "        text-align: right;\n",
       "    }\n",
       "</style>\n",
       "<table border=\"1\" class=\"dataframe\">\n",
       "  <thead>\n",
       "    <tr style=\"text-align: right;\">\n",
       "      <th></th>\n",
       "      <th>Timestamp</th>\n",
       "      <th>Name</th>\n",
       "      <th>Message</th>\n",
       "    </tr>\n",
       "  </thead>\n",
       "  <tbody>\n",
       "    <tr>\n",
       "      <th>0</th>\n",
       "      <td>00:15:43</td>\n",
       "      <td>Harsh Sharma:</td>\n",
       "      <td>Discord link</td>\n",
       "    </tr>\n",
       "    <tr>\n",
       "      <th>1</th>\n",
       "      <td>00:19:47</td>\n",
       "      <td>Adepu Kavya:</td>\n",
       "      <td>yes</td>\n",
       "    </tr>\n",
       "    <tr>\n",
       "      <th>2</th>\n",
       "      <td>00:19:47</td>\n",
       "      <td>Sai Ramya Manthri Pragada:</td>\n",
       "      <td>yes</td>\n",
       "    </tr>\n",
       "    <tr>\n",
       "      <th>3</th>\n",
       "      <td>00:19:47</td>\n",
       "      <td>Jai Chaudhrani:</td>\n",
       "      <td>Audible</td>\n",
       "    </tr>\n",
       "    <tr>\n",
       "      <th>4</th>\n",
       "      <td>00:19:47</td>\n",
       "      <td>Adnan Baig:</td>\n",
       "      <td>Yes</td>\n",
       "    </tr>\n",
       "    <tr>\n",
       "      <th>...</th>\n",
       "      <td>...</td>\n",
       "      <td>...</td>\n",
       "      <td>...</td>\n",
       "    </tr>\n",
       "    <tr>\n",
       "      <th>44495</th>\n",
       "      <td>01:41:32</td>\n",
       "      <td>Satya Prakash Veera Venkata Gokeda:</td>\n",
       "      <td>Thank you sir</td>\n",
       "    </tr>\n",
       "    <tr>\n",
       "      <th>44496</th>\n",
       "      <td>01:41:32</td>\n",
       "      <td>Mohammed Abdul Rafay:</td>\n",
       "      <td>sir link to of discord channel</td>\n",
       "    </tr>\n",
       "    <tr>\n",
       "      <th>44497</th>\n",
       "      <td>01:41:33</td>\n",
       "      <td>Reshma Sk:</td>\n",
       "      <td>Thank you sir</td>\n",
       "    </tr>\n",
       "    <tr>\n",
       "      <th>44498</th>\n",
       "      <td>01:41:33</td>\n",
       "      <td>Koushik Yadav:</td>\n",
       "      <td>kkk</td>\n",
       "    </tr>\n",
       "    <tr>\n",
       "      <th>44499</th>\n",
       "      <td>01:41:35</td>\n",
       "      <td>Prajwal Damre:</td>\n",
       "      <td>do we have to submit task??</td>\n",
       "    </tr>\n",
       "  </tbody>\n",
       "</table>\n",
       "<p>44500 rows × 3 columns</p>\n",
       "</div>"
      ],
      "text/plain": [
       "      Timestamp                                 Name  \\\n",
       "0      00:15:43                        Harsh Sharma:   \n",
       "1      00:19:47                         Adepu Kavya:   \n",
       "2      00:19:47           Sai Ramya Manthri Pragada:   \n",
       "3      00:19:47                      Jai Chaudhrani:   \n",
       "4      00:19:47                          Adnan Baig:   \n",
       "...         ...                                  ...   \n",
       "44495  01:41:32  Satya Prakash Veera Venkata Gokeda:   \n",
       "44496  01:41:32                Mohammed Abdul Rafay:   \n",
       "44497  01:41:33                           Reshma Sk:   \n",
       "44498  01:41:33                       Koushik Yadav:   \n",
       "44499  01:41:35                       Prajwal Damre:   \n",
       "\n",
       "                              Message  \n",
       "0                        Discord link  \n",
       "1                                 yes  \n",
       "2                                 yes  \n",
       "3                             Audible  \n",
       "4                                 Yes  \n",
       "...                               ...  \n",
       "44495                   Thank you sir  \n",
       "44496  sir link to of discord channel  \n",
       "44497                   Thank you sir  \n",
       "44498                             kkk  \n",
       "44499     do we have to submit task??  \n",
       "\n",
       "[44500 rows x 3 columns]"
      ]
     },
     "execution_count": 7,
     "metadata": {},
     "output_type": "execute_result"
    }
   ],
   "source": [
    "ZoomChat_df.applymap(lambda x: x.strip() if isinstance(x, str) else x, na_action='ignore')"
   ]
  },
  {
   "cell_type": "code",
   "execution_count": 8,
   "id": "f44d51d7",
   "metadata": {},
   "outputs": [
    {
     "data": {
      "text/html": [
       "<div>\n",
       "<style scoped>\n",
       "    .dataframe tbody tr th:only-of-type {\n",
       "        vertical-align: middle;\n",
       "    }\n",
       "\n",
       "    .dataframe tbody tr th {\n",
       "        vertical-align: top;\n",
       "    }\n",
       "\n",
       "    .dataframe thead th {\n",
       "        text-align: right;\n",
       "    }\n",
       "</style>\n",
       "<table border=\"1\" class=\"dataframe\">\n",
       "  <thead>\n",
       "    <tr style=\"text-align: right;\">\n",
       "      <th></th>\n",
       "      <th>Timestamp</th>\n",
       "      <th>Name</th>\n",
       "      <th>Message</th>\n",
       "    </tr>\n",
       "  </thead>\n",
       "  <tbody>\n",
       "    <tr>\n",
       "      <th>300</th>\n",
       "      <td>brand</td>\n",
       "      <td>NaN</td>\n",
       "      <td>NaN</td>\n",
       "    </tr>\n",
       "    <tr>\n",
       "      <th>393</th>\n",
       "      <td>and showing product with marketting</td>\n",
       "      <td>NaN</td>\n",
       "      <td>NaN</td>\n",
       "    </tr>\n",
       "    <tr>\n",
       "      <th>471</th>\n",
       "      <td>Predictive Analytics</td>\n",
       "      <td>NaN</td>\n",
       "      <td>NaN</td>\n",
       "    </tr>\n",
       "    <tr>\n",
       "      <th>472</th>\n",
       "      <td>Data Modelling</td>\n",
       "      <td>NaN</td>\n",
       "      <td>NaN</td>\n",
       "    </tr>\n",
       "    <tr>\n",
       "      <th>636</th>\n",
       "      <td>https://discord.gg/cSXvEw6Hxd</td>\n",
       "      <td>NaN</td>\n",
       "      <td>NaN</td>\n",
       "    </tr>\n",
       "    <tr>\n",
       "      <th>...</th>\n",
       "      <td>...</td>\n",
       "      <td>...</td>\n",
       "      <td>...</td>\n",
       "    </tr>\n",
       "    <tr>\n",
       "      <th>44426</th>\n",
       "      <td>Ok bro</td>\n",
       "      <td>NaN</td>\n",
       "      <td>NaN</td>\n",
       "    </tr>\n",
       "    <tr>\n",
       "      <th>44430</th>\n",
       "      <td>Tq</td>\n",
       "      <td>NaN</td>\n",
       "      <td>NaN</td>\n",
       "    </tr>\n",
       "    <tr>\n",
       "      <th>44460</th>\n",
       "      <td>s</td>\n",
       "      <td>NaN</td>\n",
       "      <td>NaN</td>\n",
       "    </tr>\n",
       "    <tr>\n",
       "      <th>44463</th>\n",
       "      <td>there is come bug in LMS</td>\n",
       "      <td>NaN</td>\n",
       "      <td>NaN</td>\n",
       "    </tr>\n",
       "    <tr>\n",
       "      <th>44469</th>\n",
       "      <td>no</td>\n",
       "      <td>NaN</td>\n",
       "      <td>NaN</td>\n",
       "    </tr>\n",
       "  </tbody>\n",
       "</table>\n",
       "<p>436 rows × 3 columns</p>\n",
       "</div>"
      ],
      "text/plain": [
       "                                 Timestamp Name Message\n",
       "300                                  brand  NaN     NaN\n",
       "393    and showing product with marketting  NaN     NaN\n",
       "471                   Predictive Analytics  NaN     NaN\n",
       "472                         Data Modelling  NaN     NaN\n",
       "636          https://discord.gg/cSXvEw6Hxd  NaN     NaN\n",
       "...                                    ...  ...     ...\n",
       "44426                               Ok bro  NaN     NaN\n",
       "44430                                   Tq  NaN     NaN\n",
       "44460                                    s  NaN     NaN\n",
       "44463             there is come bug in LMS  NaN     NaN\n",
       "44469                                   no  NaN     NaN\n",
       "\n",
       "[436 rows x 3 columns]"
      ]
     },
     "execution_count": 8,
     "metadata": {},
     "output_type": "execute_result"
    }
   ],
   "source": [
    "ZoomChat_df.loc[ZoomChat_df['Name'].isna()]"
   ]
  },
  {
   "cell_type": "code",
   "execution_count": 9,
   "id": "98fd966c",
   "metadata": {},
   "outputs": [
    {
     "data": {
      "text/html": [
       "<div>\n",
       "<style scoped>\n",
       "    .dataframe tbody tr th:only-of-type {\n",
       "        vertical-align: middle;\n",
       "    }\n",
       "\n",
       "    .dataframe tbody tr th {\n",
       "        vertical-align: top;\n",
       "    }\n",
       "\n",
       "    .dataframe thead th {\n",
       "        text-align: right;\n",
       "    }\n",
       "</style>\n",
       "<table border=\"1\" class=\"dataframe\">\n",
       "  <thead>\n",
       "    <tr style=\"text-align: right;\">\n",
       "      <th></th>\n",
       "      <th>Timestamp</th>\n",
       "      <th>Name</th>\n",
       "      <th>Message</th>\n",
       "    </tr>\n",
       "  </thead>\n",
       "  <tbody>\n",
       "    <tr>\n",
       "      <th>300</th>\n",
       "      <td>brand</td>\n",
       "      <td>NaN</td>\n",
       "      <td>NaN</td>\n",
       "    </tr>\n",
       "    <tr>\n",
       "      <th>393</th>\n",
       "      <td>and showing product with marketting</td>\n",
       "      <td>NaN</td>\n",
       "      <td>NaN</td>\n",
       "    </tr>\n",
       "    <tr>\n",
       "      <th>471</th>\n",
       "      <td>Predictive Analytics</td>\n",
       "      <td>NaN</td>\n",
       "      <td>NaN</td>\n",
       "    </tr>\n",
       "    <tr>\n",
       "      <th>472</th>\n",
       "      <td>Data Modelling</td>\n",
       "      <td>NaN</td>\n",
       "      <td>NaN</td>\n",
       "    </tr>\n",
       "    <tr>\n",
       "      <th>636</th>\n",
       "      <td>https://discord.gg/cSXvEw6Hxd</td>\n",
       "      <td>NaN</td>\n",
       "      <td>NaN</td>\n",
       "    </tr>\n",
       "    <tr>\n",
       "      <th>...</th>\n",
       "      <td>...</td>\n",
       "      <td>...</td>\n",
       "      <td>...</td>\n",
       "    </tr>\n",
       "    <tr>\n",
       "      <th>44426</th>\n",
       "      <td>Ok bro</td>\n",
       "      <td>NaN</td>\n",
       "      <td>NaN</td>\n",
       "    </tr>\n",
       "    <tr>\n",
       "      <th>44430</th>\n",
       "      <td>Tq</td>\n",
       "      <td>NaN</td>\n",
       "      <td>NaN</td>\n",
       "    </tr>\n",
       "    <tr>\n",
       "      <th>44460</th>\n",
       "      <td>s</td>\n",
       "      <td>NaN</td>\n",
       "      <td>NaN</td>\n",
       "    </tr>\n",
       "    <tr>\n",
       "      <th>44463</th>\n",
       "      <td>there is come bug in LMS</td>\n",
       "      <td>NaN</td>\n",
       "      <td>NaN</td>\n",
       "    </tr>\n",
       "    <tr>\n",
       "      <th>44469</th>\n",
       "      <td>no</td>\n",
       "      <td>NaN</td>\n",
       "      <td>NaN</td>\n",
       "    </tr>\n",
       "  </tbody>\n",
       "</table>\n",
       "<p>436 rows × 3 columns</p>\n",
       "</div>"
      ],
      "text/plain": [
       "                                 Timestamp Name Message\n",
       "300                                  brand  NaN     NaN\n",
       "393    and showing product with marketting  NaN     NaN\n",
       "471                   Predictive Analytics  NaN     NaN\n",
       "472                         Data Modelling  NaN     NaN\n",
       "636          https://discord.gg/cSXvEw6Hxd  NaN     NaN\n",
       "...                                    ...  ...     ...\n",
       "44426                               Ok bro  NaN     NaN\n",
       "44430                                   Tq  NaN     NaN\n",
       "44460                                    s  NaN     NaN\n",
       "44463             there is come bug in LMS  NaN     NaN\n",
       "44469                                   no  NaN     NaN\n",
       "\n",
       "[436 rows x 3 columns]"
      ]
     },
     "execution_count": 9,
     "metadata": {},
     "output_type": "execute_result"
    }
   ],
   "source": [
    "ZoomChat_df.loc[ZoomChat_df['Message'].isna()]"
   ]
  },
  {
   "cell_type": "code",
   "execution_count": 10,
   "id": "a3e794ec",
   "metadata": {},
   "outputs": [],
   "source": [
    "ZoomChat_df['Message'] = ZoomChat_df['Message'].fillna(ZoomChat_df['Timestamp'])\n",
    "ZoomChat_df['Timestamp'].mask(ZoomChat_df['Name'].isnull(), inplace=True)"
   ]
  },
  {
   "cell_type": "code",
   "execution_count": 11,
   "id": "9756dcb3",
   "metadata": {},
   "outputs": [
    {
     "data": {
      "text/plain": [
       "436"
      ]
     },
     "execution_count": 11,
     "metadata": {},
     "output_type": "execute_result"
    }
   ],
   "source": [
    "ZoomChat_df['Timestamp'].isna().sum()"
   ]
  },
  {
   "cell_type": "code",
   "execution_count": 12,
   "id": "69d64311",
   "metadata": {},
   "outputs": [],
   "source": [
    "ZoomChat_df[['Timestamp', 'Name']] = ZoomChat_df[['Timestamp', 'Name']].fillna('Not Available')"
   ]
  },
  {
   "cell_type": "code",
   "execution_count": 13,
   "id": "1a165ad3",
   "metadata": {},
   "outputs": [
    {
     "data": {
      "text/html": [
       "<div>\n",
       "<style scoped>\n",
       "    .dataframe tbody tr th:only-of-type {\n",
       "        vertical-align: middle;\n",
       "    }\n",
       "\n",
       "    .dataframe tbody tr th {\n",
       "        vertical-align: top;\n",
       "    }\n",
       "\n",
       "    .dataframe thead th {\n",
       "        text-align: right;\n",
       "    }\n",
       "</style>\n",
       "<table border=\"1\" class=\"dataframe\">\n",
       "  <thead>\n",
       "    <tr style=\"text-align: right;\">\n",
       "      <th></th>\n",
       "      <th>Timestamp</th>\n",
       "      <th>Name</th>\n",
       "      <th>Message</th>\n",
       "    </tr>\n",
       "  </thead>\n",
       "  <tbody>\n",
       "    <tr>\n",
       "      <th>300</th>\n",
       "      <td>Not Available</td>\n",
       "      <td>Not Available</td>\n",
       "      <td>brand</td>\n",
       "    </tr>\n",
       "    <tr>\n",
       "      <th>393</th>\n",
       "      <td>Not Available</td>\n",
       "      <td>Not Available</td>\n",
       "      <td>and showing product with marketting</td>\n",
       "    </tr>\n",
       "    <tr>\n",
       "      <th>471</th>\n",
       "      <td>Not Available</td>\n",
       "      <td>Not Available</td>\n",
       "      <td>Predictive Analytics</td>\n",
       "    </tr>\n",
       "    <tr>\n",
       "      <th>472</th>\n",
       "      <td>Not Available</td>\n",
       "      <td>Not Available</td>\n",
       "      <td>Data Modelling</td>\n",
       "    </tr>\n",
       "    <tr>\n",
       "      <th>636</th>\n",
       "      <td>Not Available</td>\n",
       "      <td>Not Available</td>\n",
       "      <td>https://discord.gg/cSXvEw6Hxd</td>\n",
       "    </tr>\n",
       "    <tr>\n",
       "      <th>...</th>\n",
       "      <td>...</td>\n",
       "      <td>...</td>\n",
       "      <td>...</td>\n",
       "    </tr>\n",
       "    <tr>\n",
       "      <th>44426</th>\n",
       "      <td>Not Available</td>\n",
       "      <td>Not Available</td>\n",
       "      <td>Ok bro</td>\n",
       "    </tr>\n",
       "    <tr>\n",
       "      <th>44430</th>\n",
       "      <td>Not Available</td>\n",
       "      <td>Not Available</td>\n",
       "      <td>Tq</td>\n",
       "    </tr>\n",
       "    <tr>\n",
       "      <th>44460</th>\n",
       "      <td>Not Available</td>\n",
       "      <td>Not Available</td>\n",
       "      <td>s</td>\n",
       "    </tr>\n",
       "    <tr>\n",
       "      <th>44463</th>\n",
       "      <td>Not Available</td>\n",
       "      <td>Not Available</td>\n",
       "      <td>there is come bug in LMS</td>\n",
       "    </tr>\n",
       "    <tr>\n",
       "      <th>44469</th>\n",
       "      <td>Not Available</td>\n",
       "      <td>Not Available</td>\n",
       "      <td>no</td>\n",
       "    </tr>\n",
       "  </tbody>\n",
       "</table>\n",
       "<p>436 rows × 3 columns</p>\n",
       "</div>"
      ],
      "text/plain": [
       "           Timestamp           Name                              Message\n",
       "300    Not Available  Not Available                                brand\n",
       "393    Not Available  Not Available  and showing product with marketting\n",
       "471    Not Available  Not Available                 Predictive Analytics\n",
       "472    Not Available  Not Available                       Data Modelling\n",
       "636    Not Available  Not Available        https://discord.gg/cSXvEw6Hxd\n",
       "...              ...            ...                                  ...\n",
       "44426  Not Available  Not Available                               Ok bro\n",
       "44430  Not Available  Not Available                                   Tq\n",
       "44460  Not Available  Not Available                                    s\n",
       "44463  Not Available  Not Available             there is come bug in LMS\n",
       "44469  Not Available  Not Available                                   no\n",
       "\n",
       "[436 rows x 3 columns]"
      ]
     },
     "execution_count": 13,
     "metadata": {},
     "output_type": "execute_result"
    }
   ],
   "source": [
    "ZoomChat_df[ZoomChat_df['Timestamp'] == 'Not Available']"
   ]
  },
  {
   "cell_type": "code",
   "execution_count": null,
   "id": "b98cca61",
   "metadata": {},
   "outputs": [],
   "source": []
  },
  {
   "cell_type": "code",
   "execution_count": 14,
   "id": "19897ad0",
   "metadata": {},
   "outputs": [],
   "source": [
    "ZoomChat_df.to_csv('ZoomChat.csv')"
   ]
  },
  {
   "cell_type": "code",
   "execution_count": 15,
   "id": "547f3a76",
   "metadata": {},
   "outputs": [
    {
     "name": "stdout",
     "output_type": "stream",
     "text": [
      "<class 'pandas.core.frame.DataFrame'>\n",
      "RangeIndex: 44500 entries, 0 to 44499\n",
      "Data columns (total 3 columns):\n",
      " #   Column     Non-Null Count  Dtype \n",
      "---  ------     --------------  ----- \n",
      " 0   Timestamp  44500 non-null  object\n",
      " 1   Name       44500 non-null  object\n",
      " 2   Message    44500 non-null  object\n",
      "dtypes: object(3)\n",
      "memory usage: 1.0+ MB\n"
     ]
    }
   ],
   "source": [
    "ZoomChat_df.info()"
   ]
  },
  {
   "cell_type": "code",
   "execution_count": 16,
   "id": "ae01ca35",
   "metadata": {},
   "outputs": [
    {
     "data": {
      "text/plain": [
       "array(['brand', 'and showing product with marketting',\n",
       "       'Predictive Analytics', 'Data Modelling',\n",
       "       'https://discord.gg/cSXvEw6Hxd', 'join immediately',\n",
       "       'how much I learning in day', ' Hello', 'same dought',\n",
       "       'charishma-maradapu', ' https://www.linkedin...',\n",
       "       'mounika-avadutha-3592731aa',\n",
       "       'sir with < 1 exp , is th profile ok? pls check',\n",
       "       'sir pls check for <1 exp.', 'It has link to the project',\n",
       "       \"Once you go to add project there you'll get the option to paste the link of the project\",\n",
       "       'The people would be endorsing you who have seen you while implementing the skills',\n",
       "       'ys', 'find it through add sections, then add position',\n",
       "       'he is just ignoring our questions I just messaged him on LinkedIn too',\n",
       "       'yes sir', 'Do you know discard link',\n",
       "       'ask meaningful questions he will answer',\n",
       "       'it was given in the beginning of this session and last session. for further help, message in the discord server to admin',\n",
       "       \"see if we ask some irrelevant questions don't u think class will be disturbed..so later also we can have these questions na..just saying\",\n",
       "       'you can add it', 'LMS', 'Thank you',\n",
       "       'use thecomapnycheck website', ' Ok bro', ' Tq', 's',\n",
       "       'there is come bug in LMS', 'no',\n",
       "       'https://discord.com/invite/cSXvEw6Hxd',\n",
       "       'Could you please send the LMS  Link'], dtype=object)"
      ]
     },
     "execution_count": 16,
     "metadata": {},
     "output_type": "execute_result"
    }
   ],
   "source": [
    "ZoomChat_df.loc[ZoomChat_df['Timestamp'] == 'Not Available', 'Message'].unique()"
   ]
  },
  {
   "cell_type": "code",
   "execution_count": 17,
   "id": "3f8cf36d",
   "metadata": {},
   "outputs": [
    {
     "data": {
      "text/plain": [
       "1316"
      ]
     },
     "execution_count": 17,
     "metadata": {},
     "output_type": "execute_result"
    }
   ],
   "source": [
    "ZoomChat_df['Message'].nunique()"
   ]
  },
  {
   "cell_type": "code",
   "execution_count": 18,
   "id": "0a05be9f",
   "metadata": {},
   "outputs": [],
   "source": [
    "x = ZoomChat_df['Message'].unique()"
   ]
  },
  {
   "cell_type": "code",
   "execution_count": 19,
   "id": "da4ce5cd",
   "metadata": {},
   "outputs": [
    {
     "name": "stdout",
     "output_type": "stream",
     "text": [
      "Discord link, yes, Audible, Yes, yes sir, audible, S, Yess, It's audible, Yes sir audible, Y, Yes sir, yes audible, YES, Breaking, guys please don't drop this much msg, Yep, dont raise your hands people, 👍, blank, no, No, publicity, skillset, Skill set, Skillset, skill set, skill, Skill, Tool, skills set, It's a skillset., SKILL SET, marketing is a skillset, SKILLSET, skills, SkillSet, skill and tool, SKILL, skiilset, Skillsey, Skills, s, yess, yes', It includes soft skills, Sell our product, Brand, I think it is skill to marketing our products or services, Marketing is the process of promoting, selling, and distributing a product or service to potential customers. It involves understanding customer needs and desires, developing products or services that fulfill those needs, pricing them appropriately, and then making them accessible to the target audience through various channels, to sell, To standout, Communication, Profit, it is orocessing of selling products, exposer, brand, datascience directly prportional to marketing, To showcase our idea, promoting, We have to convey our solutions to the client, For Publicity, To sell the product, to define about us, showcase, to standout, Recognition, Branding, Showcase a product, sales, to convey, leveraging the skills, It is a type of a soft skill, to explore something, to sale our product, to get good package, Marketing- strategy for finding the right people for our products, The ability to promote a thing, promoting a product, one must know domain knowledge, how to sell, ability to promote, Reaching the right audience, Promoting, selling ur product, Showcasing ourself, to show ourself, Highlighting, Marketing is the process of promoting and selling products or services to customers. It involves strategies like advertising, branding, and market research. I, to promote our delf, to present yourself out performing from crowd, promoting the prduct, to promote our skills, Marketing is simply sales. How to sell yourself and what you do to others in order to get a job and be paid adequately for it., If a company fires you, more companies should hire you, It's a skillset. Marketing is the skill of getting your product known to a set of customers by using effective strategies. I imporves overall sales of a product, publinessc awar, to communication  and promote, hahahahahah, to sell ourselves in the market means to present our self, To convince, Marketing is required to tell people why they should have something, PROMOTING A BUSINESS, to get our profile and skillsets in it noticed by relevant people, presentation of product, to grow, because to how you help the company to grow, If we have the insights then where we will sell tha data, to advertise about our knowlege, To put our points and thinking properly, 😆, To showcase our skills to fit in job, to showcase our talents, to sell a product or ourselves, By marketing we can represent ourself, selling brand mking etc, We need to convince persons, To showcase the skills we have, the ability to sell, Promoting ourselves, Creating a buzz in the world is known as marketing, promoting a new product, to reach any product to common people, Creating awareness on how capable you are, Showing our skills, to bring our product into market, sale product, To promote, Yes in order to deliver the product we must understand the neccesities of needs of people, 😅, creating brand image, It is a type of qualification need to sell our products, Sales, we should make ourselves acceptable by companies .. for that we should we should market our capabilities ., Introducing ourself what is aur ability, To showcas our advantages, Letting know others what you are doing, advertising a product, the ability to communicate the utility of a product/service to the clients (self answered), analysing in data science, and showing product with marketting, to convince people thing you are providing is worth the price, Selling a product, buying and selling from goods and tax, to make others believe in the product or service we make, attracting people to business, Selling or advertising, to branding our self, sell the product in best possible way, Connecting the people and explore, Process of telling positivity of the product/service, To showcase the value, is to showcase any product for sale, Agree, true, sir you are one step ahead, understanding the analysis like nich public etc, represent ourself, promoting the product, skillsets, selling a product in an efficient way, Data analysis, our skillset, data analysis, How our promote ourselves better than others, projects, Skillsets?, our skill sets, Voice is breaking sir, yes If we can market ourself to fetch a job, Our skillset, linkdien, COMMUNICATION SKILLS, experience, Data analyst, yesss, Our skills, tools, Data consulting services, s sir, am doing also same, analysis and skill set, So in basic I am gonna market myself in front of the interviewer 😂, mee too, Yesss, promotion of product, Git hub, Me2, As a data scientists, I would sell my services such as , Predictive Analytics, Data Modelling, portfolio, discord link sir, Yeah, showing that you have worked on the skills in your skills, Scalible, OUT PERFORMING, right, to reach out to mass, understand, making projects and sharing on linkdin to marketing, Competitive world, example of maketing is this intership, to make know our existance, ai, ssocilal media, LINKEDIN, linkedin, Social media, LinkedIn, Social Media, Linkdin,, Linkedin, social media, LinkedIn, Twitter, Instagram, YouTube, insta, linkedin, fb, insta, lNIKEDIN, Ads, Linkedin, youtube,, youtube, Socail Media, instaa, ld ,fb,insta, Social media in general, Reacted to \"example of maketing ...\" with 😂, Google YouTube Instagram LinkedIn, insta,linkedin,fb, LinkedIn google feed insta, yep, discord link shttps://discord.gg/cSXvEw6Hxd, ads, advertisement, linkldn, youtube ads, Facebook, Advertisement, Insta, digital ,bill board, YouTube shorts, yt, Social media marketing, yes digital marketing, Linked, or we can say presenting our ideology of marketing, google ad services, Youtube, Instagram,fb,youtube, social media, linkdin, Instagram. Facebook. WhatsApp. LinkedIn. Google, linkidin, kaggle, github, youtube , instagram, sponsored results, SEO, this internship is also a way of marketing, Google advertise, SMM, linked in], Sponsered, sponsored, Seo, Content based recommendation system, Sponsorship, Replying to \"discord link sir\", https://discord.gg/cSXvEw6Hxd, recommendation algorithms, join immediately, As a personal brand, Nope, linked in, linkeding, linkdin, Git hub,, github, yesss GitHub, GitHub..linkedin, linkelin profile, huggingface profile, Google search is like u r a viral figure, really true 100, medium, hackerrank, Github, hackerrank, leetcode, LinkedIn profile, yes Kaggle, Linktree, github is must, Leetcode profile, Projects, NO, noo, Creation of product, netlyfy, How the projects done, DSA, PROJECTS, DSA .. PROBLEM SOLVING, To know our approach, 9th, Whitehat jr 😅, nope, 6th to 12th, depends on their skill, Skills and Experienced person, PROBLEM SOLVING, best make your own profile site, if you don't know web dev use wordpress, me, Me, ido, I don't sir, Me sir, ME, i, N, not really, yeah I know, I can, kindof, yes sir i know, I can solve, Age does not depends on Skillset, I'm I right Sir?, I try, trying, mee, dsa, skillset idea, Is DSA necessary sir, What should we do to improve problem solving skill?, Basic fundamentals to advanced is key to learning, ss, May be, yes  linkedin also, no', Absolutely 💯 yes, oinkdin, linkidin, linked in, naukri, own website?, indeed, Linkedln, branding, Recruitment, No opportunity, Marketing, Would you Sir help us to create a more-professional LinkedIn Profile?, we can't show ur progress, we may miss oppurtunities, we can share projects, Get jobs, we cant share our experince, showcase our skills, LinkedIn is the online resume, you cant showcase your achievement whilst the internship, may be helpless, we don't how how to marketing, After learning we need to market ourselves, won’t be able to dovument the skills we are learning now, we can't showcase ourself, we are not able to showcase our skillset, during intern, we cant show our skills, not able to market, can't post what is happening in internship, how much I learning in day, yup, agree, LinkedIn best choice for getting job, yeah, Linkedin is the best job seeking platform, I know some senior who are in Amazon but they don't have LinkedIn..I was shocked 😳, job, Recruiter and Candidates, Yes point, There are  referrals and they would have leetcode profiles man, Point sir, An Amazon employees doesn't need anything, marketing happens when we need anything, entry level, for fresher, Reacted to \"entry level\" with 👍, It's not a good question, sir weren’t you in iit, Reacted to \"sir weren’t you in i...\" with 👍, Reacted to \"An Amazon employees ...\" with 👍, y, Reacted to \"for fresher\" with 👍, is it necessary to show projects vedios on linkedin, Reacted to \"is it necessary to s...\" with 👍, Is that Portfolio essential for Developer?, Replying to \"Yes \" ,  Hello, i don't  python sir, Opinions on PPTs ?, power point presentation, Giving a summary of the project via powerpoint presentation, 3 star, 7 star in link, updated, professional, Tea, no idea, showcasing skillset and exp, no sir, all section filled, Properly labelled, heard of all star baseball not profile, Professionals, Noo, 7 star, 5 star, in each skill you should have 5 stars, 5 star profile, profile with almost all needed details properly, A good profile showcasing the skills, complete profile, complete details of education, 500 connection should have, Meeting all requirements in LinkedIn profile, completing 5 steps, Complete profile wit all details, keep your profile information complete and updated, It means all details are well covered, Situation, Task, Action, and Result, as well as explain how Optimizely use linkedin, mentioning the every details on LinkedIn as asked in it, filling the adequate details while creating the profile, Filled all sections, update each and every details, complete education filing ND WORKING EXPERIENCE, which includes adding job position, What is all start ?, talks about section, complete profile  completion, 100% profile completion, ohh, how to make our linkedln profile all star, how to make it, sir will we get this slides on lms later or should we take ss?, 100% yes, How to get it, organised in a good way that we are clear to everyone,like good profile visibiity,selecting good communities, 80 crores, 👀, people, 1, 1%, 8lakhs, 8lac, 8m, 8 million, 800000, 800, 8 lac, 8lks, 80, 80lakhs, 8M, 80 lakh, 8l, 80 lakhs, nooo, no one, n, I don't, I have 100 😳, 300, no😅, no one even in linkin, I have 144, i have just close to 300, 80000, 80k, 80,000, 8k, 80g, 80K, 800k, 80 k, 80k right, noooooooooooooooooooooooooooo, ye, its 80k, not 800, 0.1% is 8 lakhs, We have a diverse department in the field. So imwe need to focus on capture 1% on data science field people rather than 1% on Whole network, 779, Definitely, yes very much, Y Sir?, where we can see yesterday recorded class, how to increase follower ?, Is it necessary to post regularly on LinkedIn about your interest like we post on Instagram, fb etc., Replying to \"where we can see yes...\", same dought, https://www.linkedin.com/in/aardra-reji-a615ba26b?utm_source=share&utm_campaign=share_via&utm_content=profile&utm_medium=android_app, www.linkedin.com/in/sathish-vanga, https://www.linkedin.com/in/abhishek-ganeshkar2023/, https://www.linkedin.com/in/vishakha-deshmukh-a97261264/, https://www.linkedin.com/in/harsh-raj-gupta-388234250/, (25) Vikramadhithya Thotam | LinkedIn, https://www.linkedin.com/in/vyom-modi/, https://www.linkedin.com/in/krishna-kumar217/, https://www.linkedin.com/in/arun-kumar-vollala-78713518b/, linkedin.com/in/gurram-ruthvi-chaitanya-ab234a105, https://www.linkedin.com/in/adepubharath/, https://www.linkedin.com/in/sohil-sharma, https://www.linkedin.com/in/kritagyay/, linked.com/in/tejeswarasaireddy, www.linkedin.com/in/darshan-gowda-m-9b7576227, https://www.linkedin.com/in/Arnav-Rangwani, www.linkedin.com/in/mohammed-abdul-rafay-20a700228, https://www.linkedin.com/in/ajay-koka-94879b21b/, www.linkedin.com/in/ravi-singh18, https://www.linkedin.com/in/s-dinesh-kumar-b0284822a/, www.linkedin.com/in/jaichaudhrani, https://www.linkedin.com/in/thisadityasoni/, www.linkedin.com/in/snehitha-tadapaneni-b8bb52201, www.linkedin.com/in/swastikdubey123, https://www.linkedin.com/feed/, https://www.linkedin.com/in/kartikdhanai, https://www.linkedin.com/in/anantha-sai-kotha-755419281?lipi=urn%3Ali%3Apage%3Ad_flagship3_profile_view_base_contact_details%3ByK40oQOxQ%2FOIdYlP2UKjYA%3D%3D, https://www.linkedin.com/in/karri-dharma-teja-b7b575206/, https://www.linkedin.com/in/pavan-kumar-reddy-banavasi-519b78258/, https://www.linkedin.com/in/yashkhandagale/, www.linkedin.com/in/pranavbhawsar, www.linkedin.com/in/chirra-satish-653a68288, https://www.linkedin.com/in/lokesh1111/, www.linkedin.com/in/, https://www.linkedin.com/in/nishantdandwate000/, https://www.linkedin.com/in/bandala-manisha-ba8a53220, https://www.linkedin.com/in/pavani-kasipeta-a02b7422b/, https://www.linkedin.com/in/yenamala-umamahesh-a20423197, https://www.linkedin.com/in/shajitha-banu-rasul-khan-9529631a3?utm_source=share&utm_campaign=share_via&utm_content=profile&utm_medium=android_app, https://www.linkedin.com/in/deepraj-vadhwane/, https://www.linkedin.com/in/bishal-pal-a8442423b/, 6 star, https://www.linkedin.com/in/aftaab-shaik-2984051b0/, https://www.linkedin.com/in/jkpratik99/, https://www.linkedin.com/in/anushka-yeole/, www.linkedin.com/in/venkata-manoj-yadav-muddam-9b4329224, https://www.linkedin.com/in/ishaq-miyawala/, https://www.linkedin.com/in/pamarthi-dhanush-13a94b250/, https://www.linkedin.com/in/lashika-arun?utm_source=share&utm_campaign=share_via&utm_content=profile&utm_medium=android_app, https://www.linkedin.com/in/shrikant-suryawanshi-62580121a?utm_source=share&utm_campaign=share_via&utm_content=profile&utm_medium=android_app, https://www.linkedin.com/in/hannahigboke?utm_source=share&utm_campaign=share_via&utm_content=profile&utm_medium=android_app, https://www.linkedin.com/in/kushal-adhyaru/, https://www.linkedin.com/in/aditi-phapale-2a965322a?utm_source=share&utm_campaign=share_via&utm_content=profile&utm_medium=android_app, https://www.linkedin.com/in/mahimachuri/, www.linkedin.com/in/suriyagurumoorthi, https://www.linkedin.com/in/prerna-pal-0a4499277, https://www.linkedin.com/in/aishwary-dakhare-a3445a191/, https://www.linkedin.com/in/aravinth-b, https://www.linkedin.com/in/vaishnavi-voleti-b55278238/, http://www.linkedin.com/in/mandala-pavani, www.linkedin.com/in/gundala-satish-64156a192, https://www.linkedin.com/in/sanhita-t-03966b1b3/, https://www.linkedin.com/in/diksha-ahire-61951823b, https://www.linkedin.com/in/mohd-sardar-4a9867221/, https://www.linkedin.com/in/iman-fasasi-716614232/, www.linkedin.com/in/dhanyaibk, https://www.linkedin.com/in/srivatsav-damaraju-03815a213/, https://www.linkedin.com/in/kavin-puri-71912117b/, https://www.linkedin.com/in/manishputnala, https://www.linkedin.com/in/alen-peter-041b1a215/, yess sir, https://www.linkedin.com/in/gmmanoj, LinkedIn: www.linkedin.com/in/saiprasadnidiginti138707250, https://www.linkedin.com/in/saipraneeth-adigopula-695991157/, https://www.linkedin.com/in/aeluri, https://www.linkedin.com/in/sathish-vanga/, charishma-maradapu, https://www.linkedin.com/in/siva-sankar-kommerla, https://www.linkedin.com/in/bheesettianand/, https://www.linkedin.com/in/sivasankar2002, https://www.linkedin.com/in/neeraj-kumar-278156258?utm_source=share&utm_campaign=share_via&utm_content=profile&utm_medium=android_app, https://www.linkedin.com/in/shekharsalave, https://www.linkedin.com/in/ravinder-badishagandu-b52783291/, Replying to \"where we can see yes...\" ,  https://www.linkedin..., https://www.linkedin.com/in/aftab-baig-81b767281/, https://www.linkedin.com/in/sai-sudhane-728a1a237?utm_source=share&utm_campaign=share_via&utm_content=profile&utm_medium=android_app, https://www.linkedin.com/in/gundu-umapavani-ba5616245/, https://www.linkedin.com/in/nisha-shah-529b40159?utm_source=share&utm_campaign=share_via&utm_content=profile&utm_medium=android_app, linkedin.com/in/mohansuneel, https://www.linkedin.com/in/are-manohar-821430210/, (28) Sai Krishna Dusa | LinkedIn, https://www.linkedin.com/in/swastikdubey123/?profileId=ACoAADPzll0BqWCQ86voniaKRkhJe7FK0aCCVDQ, https://www.linkedin.com/in/pravalika-e-27557a252/, https://www.linkedin.com/in/gudipati-umesh-772226258?utm_source=share&utm_campaign=share_via&utm_content=profile&utm_medium=android_app, https://www.linkedin.com/in/mohammadwasiq0/, https://www.linkedin.com/in/aleenajoseph2003, https://www.linkedin.com/in/srinivasarao-kesana-b7104a1b4/, https://www.linkedin.com/in/aashishkasar/, linkedin.com/in/sai-krishna-dusa, https://linkedin.com/in/arun-kumar-sahu-7381a4138, https://linkedin.com/in/pavankalyan-janga, Replying to \"discord link sir\" , https://www.linkedin.com/in/aniket-gupta-044075236?utm_source=share&utm_campaign=share_via&utm_content=profile&utm_medium=android_app, https://www.linkedin.com/in/meenuga-jyothi-6a9bba23b/, https://www.linkedin.com/in/vineela-mallela-24b435214, linkedin.com/in/harshit-punera-248177228, v, www.linkedin.com/in/shaziya-naaz-neen-3205a5242, https://www.linkedin.com/in/ashutosh-ramnath-pawar, https://www.linkedin.com/in/ravi-rathod-b3bb4227b?utm_source=share&utm_campaign=share_via&utm_content=profile&utm_medium=android_app, title, small cse, capital, capitalization, https://www.linkedin.com/in/, mounika-avadutha-3592731aa, Not capitalized, Upper case, case, caps lock, first name and last name, all small, lower case, caps, case sensitive, capital letter, small case, Capital letters, starting letters capital, first letter capital, captialization, not more professional, Mr., Case, small, Uppercase, Capslock, Upper Case, Initial letter, All are small letters, First letter capital, start with capital, uppercase, LAST NAME AND FIRST NA,E, capital initials, first name last name, Camel case, Capital letter, Proper convention, no Title case, Unprofe, SURNAME, No Sr, sir please give an opportunity for joining  the discord I was unable to join the meeting due to network issue, Need to write in title case, picture, www.linkedin.com/in/shreya-ranjankar-440850258, last name, b7 etc, numericals, no customized url, very big, last numericals, yes random, tthere is no, Not  a custom url, too complex, Long, format, https://www.linkedin.com/in/raju-lakkarsu-7b541b253/, it can be customized, https://www.linkedin.com/in/gmmanoj/, How to get proper URL, its not customized, we have to url custom and professional, Very Difficult, not optimise, edit url, Looks good Sir, www.linkedin.com/in/soumen-2003-mondal, We can customize the url also, https://www.linkedin.com/in/kunalkumavat/, Birthyear can be added, does hyphen also work instead of underscore?, https://www.linkedin.com/in/aakankshi-gera, https://www.linkedin.com/in/sanchit-singla, Party wear, sir if we change the linkedIn url . . can it effect the applications which I have applied?, it represent your field, please share that sir, ok sir, is there any score of linkedin also like resume?, how much optimization score we must maintain for linkedin, achievments, aspiring, Data science Internm, yes & skills, Aspiring Data scientist, Data Science Intern at Innomatics Research Labs, designation, Overview about yourself, https://www.linkedin.com/in/jaichaudhrani/, intern, Our profession or skillsets we possess, no we are aspiring, Aspiring data analytics, Aspiring Data Scientist, Software Developer|Data Scientist Intern, awards, certifications, acheivements, Open to work, Junior Data Scientist?, OK, can we keep data scientist intern?, assosicate ds, Aspiring data scientist?, aspiring Data Scientist, aspiring data scientist, Data Enthusiast, Aspiring data scientist, aspiring data scientiist, Data science enthusiast, Data Science Intern, Data science intern, ?, Reacted to \"Data Enthusiast\" with 😂, Skills in short, Data Science Intern @Innomatics Research Labs, ys, Is it good to mention skills there by separating the pipe symbol?, How much optimization score we must maintain for linkedin, https://www.linkedin.com/in/md-juned-alam, Clear, Okay, Give an example one sir ?, Can u give examples according to us??, As a fresher What should we do ?, Reacted to \"As a fresher What sh...\" with 👍, ok, Over NOOB TO PRO Data Scientist, sir ! is it right to write all the roles of data scientist ?, Aspiring Software Developer| Data Scientist can we put these in the header, sir please help regarding the discord joining issue, 🌟 Recent CSE Grad 🎓 | Data Science Enthusiast 🌱 | Actively Seeking Data Science Opportunities 🤝 | Proficient in Python, Machine Learning 🤖 | #DataScienceJobs, sir can u show, Reacted to \"Over NOOB TO PRO Dat...\" with 😂, sir is this header good https://www.linkedin.com/in/vyom-modi/, Aspiring Power BI Developer | Data Enthusiast | Open to Exciting, Graduated from JNTUHCES | Aspiring Data Scientist | Passionate about Transforming Data into Insights, sir but the  special character or emoji is okay, sir with < 1 exp , is th profile ok? pls check, Sir the screen you are referring to is invisible, what for carrier gap sir, Can we put one or more job role in header, can we mention clg name, yes, it is, thank you sir, Url, url, ur;, URL, cover pic, Work experience, url how to edit, Summary, sir please give the last chance to get the discord joining, How do I need to customize my LinkedIn Profile URL?, Ya, Ges, for ranking the keyword, activeness, searching, clarifying, Easy for recruit er, Easy for recruiter, We get endorsement, some rucuiter will visit about and some other in skills, in case the hiring person is low on time o might not go till the skill section\\, if recruiter is busy then he stoped at about, https://www.linkedin.com/in/chandan-lohar, show us how to edit also sir, Keywords recommendations, https://www.linkedin.com/in/priya-kumari-886946206/, Yes!, clear, Got it sir, yas, sa, can you read my messages or not...., Okey sir, please help regarding discord joining, Can we put online internship experience, sir pls check for <1 exp., what if someone have experience from mechanical stream, sir if the experience is not related to the current domain?, can we mention innomatics course in education, Sir can we add certification course in education section???, 2, op 2, check my link for project, Option2, option 2, details, Proof, With link, Demo, More detailed, 22 one is live, show p[roject, showing link, for the lin l, can acces the code, descriptive, live, It has link to the project, desccription, show project, redirectry, link, llive, Everyone can see our work, Link to project, more detailed, describing about project, coz it is detailed and with link, Because it directs us to the project, Have details, gives detailed in matter, Option 2, explaination, To explore the project, sir , do we have to share our resume in LinkedIn ??, Description of the project, recuiter can see the our project, Yes Sir, How to add that Show project link, how many project we should mention, Can we mention that right now i am intern at innomatics ??, +, How to get the show project option ?, Can we mention irrelevant work experience,or experience related to other domain, Sir can you have a session on resume preparation as well similar to this?, Sir, how to get endorsements?, internship, Replying to \"How to add that Show...\", Once you go to add project there you'll get the option to paste the link of the project, can u show us again, abt adding exp, Certificate?, certifictes?, Certificate is important?, sir please check your linkedin message I have send my query there, CAN YOU RATE MY PROFILE WHICH IS IN THE LAST TAB, sir if the experience is not related to the current domain, should we add it to profile?, Sir can we mention one or more job role in headline, sir pls accept my connection rqst, how do we add the badge 'top data science voice', Replying to \"Sir, how to get endo...\", The people would be endorsing you who have seen you while implementing the skills, When we will receive the internship certificate approximately?, blogging in last days on topics, sir i am not getting the experience tab, license na dcertifications, how to check all star done, my friend got linkedin top voice by posting every week about something knowledgeable, sir they ask to give answer to some question does that effect our profile, how to check all stars done, 1-2-3, 1st connection, 2nd connection for me, mutual connection, 2nd connection, 2nd, 2Nd Connection, bhai ka bhai, Replying to \"bhai ka bhai\", Reacted to \"bhai ka bhai\" with 😂, quality, Quantity, qualty, quality + quantity, Quality, quantity, quality network, both, More than 500, Both, Quality network, quality and certain quantity, having 2 3 real friend rather than 100 of friend, can u suggest us people for a quality network sir?, no\\, Nahhhhhh, It is ridiculous, Can we maintain 2 accounts sir, Reacted to \"Can we maintain 2 ac...\" with 😂, Reacted to Can we maintain 2 ac... with \"😂\", becomes fake, OK sir, Experience is not showing, one id should professional, Sir, when we will be getting the internship completion certificate of innomatics ?, Reacted to \"Sir, when we will be...\" with 😯, sir open the discord joining, Reacted to \"Sir, when we will be...\" with 😕, Replying to \"Experience is not sh...\", find it through add sections, then add position, discord joining sir?, Join Data Science communities and pages on LinkedIn, Reacted to \"Sir, when we will be...\" with 😂, Reacted to Sir, when we will be... with \"😂\", Reacted to Sir, when we will be... with \"😕\", Reacted to Sir, when we will be... with \"😯\", Reacted to Join Data Science co... with \"👍\", Replying to \"discord joining sir?\", he is just ignoring our questions I just messaged him on LinkedIn too, sir at the end of the class plz once again explain discord and also let us know where we can see yesterday recorded class, Sir, In discord channel and roles option is not available to join in ds internship jan 2024, okay sir but please help us  by the ending of this, I agree sir with you, True Patience is also an important fact for data scientists, Sir, is it ok to post regularly in LinkedIn?, yes exactly, Please provide Discord link sir..!, off chats session, Replying to \"yes\", Do you know discard link, ask meaningful questions he will answer, Replying to \"Sir, In discord chan...\", it was given in the beginning of this session and last session. for further help, message in the discord server to admin, Reacted to \"True Patience is als...\" with 😂, Reacted to \"ask meaningful quest...\" with 👍🏻, Reacted to \"ask meaningful quest...\" with 👍, Ok, yes sir I did it multiples time, Can I have an example for a decent note?, even for a known person?, k, It's cute when you have a Hindi slipup, like It's great to connect with you, Reacted to \"It's cute when you h...\" with 😎, Perfect!, fine, Gotta generate the request message by using chatgpt, Perfect, When I try to attach  a personal notes during connection request then I get this \"No free personalized invitations left\" what to do in this case?, great session, meeeeeee, I have, i do, mi, 350+, see if we ask some irrelevant questions don't u think class will be disturbed..so later also we can have these questions na..just saying, 11, 600+, Yas, yes I do, no 1, +1, by posting continously, 2500, yes some of them, 1600 followers, not at all, no it's tough, I just connect, 249, 2409, How to maintain relationship, 😂, True, sir like how to talk with all of the connections, and also what should be the frequency of doing the same?, comments, sssssss, what if they want to take it as advantage if we text them what if they starts discussing unwanted things instead of professional talk, https://www.linkedin.com/in/arunrajdaara, Reacted to \"what if they want to...\" with 👍, Connect with me or send request, Reacted to \"what if they want to...\" with 😯, hahah yes, remove them, block is superb, ignore, Reacted to \"what if they want ...\" with 👍, https://www.linkedin.com/in/sambhaji-kundgir-b8aa15208/, sir their is no experience section in my linkedin, okay sir, Reacted to \"😂\" with 😂, Reacted to \"what if they want ...\" with 😯, yesssss, I got fake message on LinkedIn, Replying to \"sir their is no expe...\", you can add it, Few min, Hi, I have an interview, leaving for now., I connected with people across the globe through open source program, https://www.linkedin.com/in/pavanbanavasi/, https://www.linkedin.com/in/guptaaniket, https://groww.in/slr/v1/search/derived/scheme?available_for_investment=true&doc_type=scheme&max_aum=&page={}&plan_type=Direct&q=&size=15&sort_by=0'.format(str(i))), https://www.linkedin.com/in/deepak-kumar-602352224/, www.linkedin.com/in/neeraj-kumar-ai, https://www.linkedin.com/in/satyaprakash-sahoo-a8914b229/, https://www.linkedin.com/in/sidfarakate/, React, best way for this, Endorse, Haa, 🤪, www.linkedin.com/in/neerajkumar04, sir can we request endorsement?, can you give you the discard link, www.linkedin.com/in/bhanudadi, https://linkedin.com/in/vineethreddymaddula, https://www.linkedin.com/in/rakeshkandhi/, https://www.linkedin.com/in/sathvika-pulichintha, Is it right to endorse someone whose skills we aren't sure of ?, https://www.linkedin.com/in/kavinpuri/, Your LinkedIn profile is awesome sir, That first guy 💀, sure, yes., Hi, Is there any deadline to complete the Task 1 - Analyzing Interns Data?, Reacted to \"Your LinkedIn profil...\" with 👍, Reacted to \"That first guy 💀\" with 😄, https://www.linkedin.com/in/ns-nidhi-singh, Feed means wall, post, feed means post wall, feed means actual page, Profile means your info, Feed is like insta feed and profile is like insta profile, Feed page is like home page, Feed is just the content posted on LinkedIn and profile is content associated to a particular person, feed is reading others posts, feed is post section and profile is personal section, Reacted to \"yes\" with 👍, feed, Feed, fed, LinkedIn feed, prfo, www.linkedin.com/in/raj-kumarsaggurthi, sir please accept all the connection requests😅, fedd, https://www.linkedin.com/in/raj-kumarsaggurthi/, notes, data science hiring, Job opportunities, can we suggest other person for job in feed page by like, data science, data science notes, yyes, notes , pdf books, https://www.linkedin.com/in/aminat-owodunni, hiring updtaes, yes, like you said if we do not connect or follow the people or pages where we want to end up working in the role or company, it is useless to spend time scrolling, no difference between insta and linkedin then, power bi or tableau?, its like changing algorithms, https://us02web.zoom.us/w/82416269753?tk=XAfCCgVa2dUXqlUTrzuYY2Ehl4uhwPQMSYBvfjLoJGk.DQYAAAATMGR5uRZwY0tzeHhpa1NDMlRndEtLaElqTnB3AAAAAAAAAAAAAAAAAAAAAAAAAAAAAAAAAAAAAA&pwd=d09OQWRabGFrcTBDbE9mam02ZW4rQT09, Recommendation algorithm, me', #MAACHINELEARNJNG, #machinelearning, left side, by searching, #ML, SEARCH, search, Search for it, by search, left side’, search for that, We can search, Search box #ml, machine learning hiring, #data science, search # machine learning, SEARCH ON LINKEDIN, #machine learning, search box, jobs, in jobs, Click and enter, enher, SELECT, select, first, click see all results, enter, community, go to search bar # machine learning, 2nd option, enter & filter, FOLLOW, select 2nd, see all results, https://www.linkedin.com/in/mudassir-ahmed2?utm_source=share&utm_campaign=share_via&utm_content=profile&utm_medium=ios_app, 1m, Lakh, 10k, 1,737,653, 5k, 7500, 2k, 12M, 5000, 100k, 1/2 million, 1l, Thousands, 1 mil, 3000, 4m, please make it fast\\, ml, where can I find the recorded session this meeting sir?, Replying to \"where can I find the...\", LMS, hw to differentiate b/w real jobs and fake jobs in linkedin?, done by now, Yea, https://www.linkedin.com/feed/hashtag/datascience/, Thank you, 😮, cybersecurity, Now a days I faced mostly are fake job posts how can I overcome it, promtengineer, Reacted to \"Now a days I faced m...\" with 👍, dat was my dbt too, depends, probably no, target audience are less, Tag people...add hash tag, share in public group, reach multiplied, 8 mil, 1.7 m, 100, all the ppl in machinelearning, more than, 8 lakhs, More than 100, More than, More, 1 cr, 100+, people who follow the hastag, more than 100, 1.7million people, 100&ml hastag ppl, But no one likes it, Normal post cannot get much reach but when I showcased my hackathon stuff then it got like 2k impressions, yes ', Sir Now a days I faced mostly are fake job posts how can I overcome it, can we share the projects we have done on this internship as major project to our college, Reacted to \"can we share the pro...\" with 👏, Replying to \"Sir Now a days I fac...\", use thecomapnycheck website, Sir you were about to give a task today, Nowadays... people write to comment on their post 😺, task 1 sir, task sir, Sir discord link..!, Sir, is attendance Marked?, Okay sir, sir how to find hastag, were the recordings can access, okeyy, how to get the LMS sir, what is that sir???, Replying to \"Sir Now a days I fac...\" ,  Ok bro, what is the agenda of next session,  Tq, Sir yesterday session video not available in lms, LMS crediantials are not valid, discord, it not getting visible sir, Sir can you open premium channel access sir, lms access mail not received sit, Sir I didn't get the LMS login, sir upload recording sessions in LMS, sir please can you show where we can fing the task, sir discord, What are topics included in internship, where to find the task sir, okey, Ok sir, Deadline Of Task sir, LMS was not working properly, when will next session?, lms access mail not received sir, Replying to \"LMS was not working ...\", Sir you said to remind about discord, what topics you will cover sir in next session?, sry for that sir, deadline of task ?, What are the topics included in intership, Having problem with LMS, YES SIR, do we have to submit task, Thanku sir providing valuable information about linkedin, i hav a doubt about what is the profit for the innomatics for conduncting free internships, https://www.linkedin.com/in/kavinpuri/     Endorsements are welcomed, there is come bug in LMS, please provide discord link, we can extend time to know this type of hack😍, Sir can you please open the premium group access tomorrow??, Sir i cant see the tasks, sir should we add experience related to other fields as well?, sir discord for channel, we cant access the task details, Thank You sir, very nice session sir, tq sir, thankyou sir, Thank You sir !!, Thank you sir, No not boring it's interesting, sir no assignment in lms, no tasks in lms, do we have to submit task??, attendance, Monday agenda, kk, no tasks in lms empty, Sir do we have a session tomorrow ?, sir link to of discord channel, kkk, can u provide discord link sir, Sir are there classes on Weekends?, there is no task present in the lms, Is tomorrow holiday...?, it was a very useful session thank you, okay, definetly I am gone editi my linkdin profile thanku sir, sir it is showing preequation, innomatics hd logo sir, sir discord link, very exited, What is the point of making discord group if all cant join?, =-0-=—;’;’;[p’’’;/“?;.’[;/'?;./\";.;.\";'÷?, linked in ?, difference between tools and skillset, Understanding the Data, analytical, data visualisation, Critical Thinking, Data analytics, analytical tinking, SOFTSKILLS, Problem solving, EDA, problem solvng, Problem Solving, Data cleaning, problem solving, insights from data, eda, prompt engineerin, problrm dolving, Analytics skills, Insights to data, communication, Replying to \"Sir discord link?\", https://discord.com/invite/cSXvEw6Hxd, Communication skills, communication skill, LLM, bussiess, sir, are u speaking, i can't able to hear your voice, Problem solving, cleaning, data mining, problem solving, analytical skillset etx, problem solving, data cleaning, viz, extracting actionable insights, data manupulation, yes problem solving and cleaning, Python, panda, power bi tableau, project management skill, Power bi, Tableu, PANDAS, Jupyter, pandas, numpy  tableau pandas, Tabaelu, yesterdays class is not uploaded in LMS, Yes we can do that, Flask, yesws, SE, Se, Its a tool, software engineering, Software Engineering, development, Software Engineer, Software engineering, se, software engg., Soft engg, software, software eng, s/w engg, Software, se skill, py is tool, yees, Could you please send the LMS  Link, Are you sharing screen?, understood, Reacted to \"👍\" with 👍, 👏👍, 👍🏽, Voice is breaking, 🤙, Sir plz stop msgs, hi, not audible, Now a days I faced mostly are fake job posts how can I overcome i, "
     ]
    }
   ],
   "source": [
    "for i in x:\n",
    "    print(i,end=', ')"
   ]
  },
  {
   "cell_type": "code",
   "execution_count": null,
   "id": "33059c6e",
   "metadata": {},
   "outputs": [],
   "source": []
  },
  {
   "cell_type": "code",
   "execution_count": null,
   "id": "0ac64b1c",
   "metadata": {},
   "outputs": [],
   "source": []
  },
  {
   "cell_type": "markdown",
   "id": "4b64b218",
   "metadata": {},
   "source": [
    "## How many LinkedIn URLs were there over all the chat files?"
   ]
  },
  {
   "cell_type": "code",
   "execution_count": 42,
   "id": "520b6d3f",
   "metadata": {},
   "outputs": [
    {
     "data": {
      "text/plain": [
       "6613"
      ]
     },
     "execution_count": 42,
     "metadata": {},
     "output_type": "execute_result"
    }
   ],
   "source": [
    "linked_urls = ZoomChat_df[ZoomChat_df['Message'].str.contains('linkedin.com|www.', case=False)]\n",
    "len(linked_urls)"
   ]
  },
  {
   "cell_type": "markdown",
   "id": "0cb0872f",
   "metadata": {},
   "source": [
    "## Out of all the LinkedIn URLs shared over chat, how many are valid profile URLs?\n",
    "- Valid URL is of the following form:\n",
    "- http(s)://www.linkedin.com/in/user_name\n",
    "- www.linkedin.com/in/user_name\n",
    "- http(s)://linkedin.com/in/user_name\n",
    "- linkedin.com/in/user_name"
   ]
  },
  {
   "cell_type": "code",
   "execution_count": 43,
   "id": "ccbb0c2d",
   "metadata": {},
   "outputs": [
    {
     "name": "stdout",
     "output_type": "stream",
     "text": [
      "Number of valid LinkedIn profile URLs before_dup: 6404\n"
     ]
    },
    {
     "name": "stderr",
     "output_type": "stream",
     "text": [
      "C:\\Users\\Manikanta\\AppData\\Local\\Temp\\ipykernel_10404\\3387626502.py:2: UserWarning: This pattern is interpreted as a regular expression, and has match groups. To actually get the groups, use str.extract.\n",
      "  valid_urls_count = linkedin_urls.str.contains(r'(https?://)?(www\\.)?linkedin\\.com/in/[\\w-]+').sum()\n"
     ]
    }
   ],
   "source": [
    "linkedin_urls = ZoomChat_df['Message']\n",
    "valid_urls_count = linkedin_urls.str.contains(r'(https?://)?(www\\.)?linkedin\\.com/in/[\\w-]+').sum()\n",
    "print(f\"Number of valid LinkedIn profile URLs before_dup: {valid_urls_count}\")"
   ]
  },
  {
   "cell_type": "code",
   "execution_count": null,
   "id": "06a0fac4",
   "metadata": {},
   "outputs": [],
   "source": []
  },
  {
   "cell_type": "markdown",
   "id": "79c59635",
   "metadata": {},
   "source": [
    "## How many valid LinkedIn Profile URLs are left after duplicate removal?"
   ]
  },
  {
   "cell_type": "code",
   "execution_count": 44,
   "id": "1c7d2a9d",
   "metadata": {},
   "outputs": [
    {
     "name": "stdout",
     "output_type": "stream",
     "text": [
      "Number of valid LinkedIn profile URLs after_dup: 131\n"
     ]
    },
    {
     "name": "stderr",
     "output_type": "stream",
     "text": [
      "C:\\Users\\Manikanta\\AppData\\Local\\Temp\\ipykernel_10404\\1370329618.py:2: UserWarning: This pattern is interpreted as a regular expression, and has match groups. To actually get the groups, use str.extract.\n",
      "  valid_urls_count = linkedin_urls.str.contains(r'(https?://)?(www\\.)?linkedin\\.com/in/[\\w-]+').sum()\n",
      "C:\\Users\\Manikanta\\AppData\\Local\\Temp\\ipykernel_10404\\1370329618.py:3: UserWarning: This pattern is interpreted as a regular expression, and has match groups. To actually get the groups, use str.extract.\n",
      "  after_dup = len(linkedin_urls[linkedin_urls.str.contains(r'(https?://)?(www\\.)?linkedin\\.com/in/[\\w-]+')].unique())\n"
     ]
    }
   ],
   "source": [
    "linkedin_urls = ZoomChat_df['Message']\n",
    "valid_urls_count = linkedin_urls.str.contains(r'(https?://)?(www\\.)?linkedin\\.com/in/[\\w-]+').sum()\n",
    "after_dup = len(linkedin_urls[linkedin_urls.str.contains(r'(https?://)?(www\\.)?linkedin\\.com/in/[\\w-]+')].unique())\n",
    "print(f\"Number of valid LinkedIn profile URLs after_dup: {after_dup}\")"
   ]
  },
  {
   "cell_type": "markdown",
   "id": "4a7540c0",
   "metadata": {},
   "source": [
    "## How many unique occurrences of the misconduct were detected?\n"
   ]
  },
  {
   "cell_type": "code",
   "execution_count": 47,
   "id": "4e375e2e",
   "metadata": {},
   "outputs": [
    {
     "name": "stdout",
     "output_type": "stream",
     "text": [
      "Number of unique occurrences of misconduct: 0\n"
     ]
    }
   ],
   "source": [
    "misconduct_pattern = re.compile(r'bad_word1|bad_word2|bad_word3', re.IGNORECASE)\n",
    "\n",
    "misconduct_messages = ZoomChat_df[ZoomChat_df['Message'].str.contains(misconduct_pattern, na=False)]\n",
    "\n",
    "unique_misconduct_occurrences = misconduct_messages['Message'].nunique()\n",
    "\n",
    "print(f\"Number of unique occurrences of misconduct: {unique_misconduct_occurrences}\")"
   ]
  },
  {
   "cell_type": "code",
   "execution_count": null,
   "id": "e17bae8a",
   "metadata": {},
   "outputs": [],
   "source": []
  },
  {
   "cell_type": "code",
   "execution_count": null,
   "id": "f1943a37",
   "metadata": {},
   "outputs": [],
   "source": []
  },
  {
   "cell_type": "code",
   "execution_count": null,
   "id": "22953b17",
   "metadata": {},
   "outputs": [],
   "source": []
  },
  {
   "cell_type": "code",
   "execution_count": null,
   "id": "fa28e564",
   "metadata": {},
   "outputs": [],
   "source": []
  }
 ],
 "metadata": {
  "kernelspec": {
   "display_name": "Python 3 (ipykernel)",
   "language": "python",
   "name": "python3"
  },
  "language_info": {
   "codemirror_mode": {
    "name": "ipython",
    "version": 3
   },
   "file_extension": ".py",
   "mimetype": "text/x-python",
   "name": "python",
   "nbconvert_exporter": "python",
   "pygments_lexer": "ipython3",
   "version": "3.10.9"
  }
 },
 "nbformat": 4,
 "nbformat_minor": 5
}
